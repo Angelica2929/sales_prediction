{
  "nbformat": 4,
  "nbformat_minor": 0,
  "metadata": {
    "colab": {
      "provenance": [],
      "collapsed_sections": [],
      "mount_file_id": "1vnlJj5JHn1Lb2bXqwdQYORtmvur_gZmE",
      "authorship_tag": "ABX9TyMKFnODaLll/x0HKaXzG4RN",
      "include_colab_link": true
    },
    "kernelspec": {
      "name": "python3",
      "display_name": "Python 3"
    },
    "language_info": {
      "name": "python"
    }
  },
  "cells": [
    {
      "cell_type": "markdown",
      "metadata": {
        "id": "view-in-github",
        "colab_type": "text"
      },
      "source": [
        "<a href=\"https://colab.research.google.com/github/Angelica2929/sales_prediction/blob/main/Preprocesamiento_modelo.ipynb\" target=\"_parent\"><img src=\"https://colab.research.google.com/assets/colab-badge.svg\" alt=\"Open In Colab\"/></a>"
      ]
    },
    {
      "cell_type": "markdown",
      "source": [
        "# **Proyecto 1 Prediccion Ventas - Parte 5 (base)**"
      ],
      "metadata": {
        "id": "ItezfRidyLFJ"
      }
    },
    {
      "cell_type": "markdown",
      "source": [
        "El objetivo de este paso es ayudar al distribuidor usando el aprendizaje automático para realizar predicciones sobre futuras ventas basándose en los datos proporcionados.\n",
        "\n"
      ],
      "metadata": {
        "id": "kYYr1FfJyM8a"
      }
    },
    {
      "cell_type": "markdown",
      "source": [
        "1.Importar las biblioetcas necesarias."
      ],
      "metadata": {
        "id": "fPj-AZeIzIwu"
      }
    },
    {
      "cell_type": "code",
      "execution_count": 116,
      "metadata": {
        "id": "VTrsWo2bx7Kk"
      },
      "outputs": [],
      "source": [
        "import pandas as pd\n",
        "import numpy as np\n",
        "from sklearn.preprocessing import StandardScaler, OneHotEncoder,OrdinalEncoder\n",
        "from sklearn.impute import SimpleImputer\n",
        "from sklearn.compose import make_column_transformer, make_column_selector\n",
        "from sklearn.pipeline import make_pipeline\n",
        "from sklearn.model_selection import train_test_split\n",
        "from sklearn import set_config\n",
        "set_config(display='diagram')"
      ]
    },
    {
      "cell_type": "markdown",
      "source": [
        "2.Cargar estructura de datos"
      ],
      "metadata": {
        "id": "w7mwdnqfzNpv"
      }
    },
    {
      "cell_type": "code",
      "source": [
        "filename = '/content/drive/MyDrive/CODING DOJO/WEEK 5/sales_predictions.csv'\n",
        "df = pd.read_csv(filename)\n",
        "df.head()"
      ],
      "metadata": {
        "colab": {
          "base_uri": "https://localhost:8080/",
          "height": 357
        },
        "id": "DOXJYLLAzQ_B",
        "outputId": "5e3d90eb-2b0f-4ea5-e02e-418cbcb442f8"
      },
      "execution_count": 117,
      "outputs": [
        {
          "output_type": "execute_result",
          "data": {
            "text/plain": [
              "  Item_Identifier  Item_Weight Item_Fat_Content  Item_Visibility  \\\n",
              "0           FDA15         9.30          Low Fat         0.016047   \n",
              "1           DRC01         5.92          Regular         0.019278   \n",
              "2           FDN15        17.50          Low Fat         0.016760   \n",
              "3           FDX07        19.20          Regular         0.000000   \n",
              "4           NCD19         8.93          Low Fat         0.000000   \n",
              "\n",
              "               Item_Type  Item_MRP Outlet_Identifier  \\\n",
              "0                  Dairy  249.8092            OUT049   \n",
              "1            Soft Drinks   48.2692            OUT018   \n",
              "2                   Meat  141.6180            OUT049   \n",
              "3  Fruits and Vegetables  182.0950            OUT010   \n",
              "4              Household   53.8614            OUT013   \n",
              "\n",
              "   Outlet_Establishment_Year Outlet_Size Outlet_Location_Type  \\\n",
              "0                       1999      Medium               Tier 1   \n",
              "1                       2009      Medium               Tier 3   \n",
              "2                       1999      Medium               Tier 1   \n",
              "3                       1998         NaN               Tier 3   \n",
              "4                       1987        High               Tier 3   \n",
              "\n",
              "         Outlet_Type  Item_Outlet_Sales  \n",
              "0  Supermarket Type1          3735.1380  \n",
              "1  Supermarket Type2           443.4228  \n",
              "2  Supermarket Type1          2097.2700  \n",
              "3      Grocery Store           732.3800  \n",
              "4  Supermarket Type1           994.7052  "
            ],
            "text/html": [
              "\n",
              "  <div id=\"df-1fd0d0de-17af-4944-8814-1ba4a1043521\">\n",
              "    <div class=\"colab-df-container\">\n",
              "      <div>\n",
              "<style scoped>\n",
              "    .dataframe tbody tr th:only-of-type {\n",
              "        vertical-align: middle;\n",
              "    }\n",
              "\n",
              "    .dataframe tbody tr th {\n",
              "        vertical-align: top;\n",
              "    }\n",
              "\n",
              "    .dataframe thead th {\n",
              "        text-align: right;\n",
              "    }\n",
              "</style>\n",
              "<table border=\"1\" class=\"dataframe\">\n",
              "  <thead>\n",
              "    <tr style=\"text-align: right;\">\n",
              "      <th></th>\n",
              "      <th>Item_Identifier</th>\n",
              "      <th>Item_Weight</th>\n",
              "      <th>Item_Fat_Content</th>\n",
              "      <th>Item_Visibility</th>\n",
              "      <th>Item_Type</th>\n",
              "      <th>Item_MRP</th>\n",
              "      <th>Outlet_Identifier</th>\n",
              "      <th>Outlet_Establishment_Year</th>\n",
              "      <th>Outlet_Size</th>\n",
              "      <th>Outlet_Location_Type</th>\n",
              "      <th>Outlet_Type</th>\n",
              "      <th>Item_Outlet_Sales</th>\n",
              "    </tr>\n",
              "  </thead>\n",
              "  <tbody>\n",
              "    <tr>\n",
              "      <th>0</th>\n",
              "      <td>FDA15</td>\n",
              "      <td>9.30</td>\n",
              "      <td>Low Fat</td>\n",
              "      <td>0.016047</td>\n",
              "      <td>Dairy</td>\n",
              "      <td>249.8092</td>\n",
              "      <td>OUT049</td>\n",
              "      <td>1999</td>\n",
              "      <td>Medium</td>\n",
              "      <td>Tier 1</td>\n",
              "      <td>Supermarket Type1</td>\n",
              "      <td>3735.1380</td>\n",
              "    </tr>\n",
              "    <tr>\n",
              "      <th>1</th>\n",
              "      <td>DRC01</td>\n",
              "      <td>5.92</td>\n",
              "      <td>Regular</td>\n",
              "      <td>0.019278</td>\n",
              "      <td>Soft Drinks</td>\n",
              "      <td>48.2692</td>\n",
              "      <td>OUT018</td>\n",
              "      <td>2009</td>\n",
              "      <td>Medium</td>\n",
              "      <td>Tier 3</td>\n",
              "      <td>Supermarket Type2</td>\n",
              "      <td>443.4228</td>\n",
              "    </tr>\n",
              "    <tr>\n",
              "      <th>2</th>\n",
              "      <td>FDN15</td>\n",
              "      <td>17.50</td>\n",
              "      <td>Low Fat</td>\n",
              "      <td>0.016760</td>\n",
              "      <td>Meat</td>\n",
              "      <td>141.6180</td>\n",
              "      <td>OUT049</td>\n",
              "      <td>1999</td>\n",
              "      <td>Medium</td>\n",
              "      <td>Tier 1</td>\n",
              "      <td>Supermarket Type1</td>\n",
              "      <td>2097.2700</td>\n",
              "    </tr>\n",
              "    <tr>\n",
              "      <th>3</th>\n",
              "      <td>FDX07</td>\n",
              "      <td>19.20</td>\n",
              "      <td>Regular</td>\n",
              "      <td>0.000000</td>\n",
              "      <td>Fruits and Vegetables</td>\n",
              "      <td>182.0950</td>\n",
              "      <td>OUT010</td>\n",
              "      <td>1998</td>\n",
              "      <td>NaN</td>\n",
              "      <td>Tier 3</td>\n",
              "      <td>Grocery Store</td>\n",
              "      <td>732.3800</td>\n",
              "    </tr>\n",
              "    <tr>\n",
              "      <th>4</th>\n",
              "      <td>NCD19</td>\n",
              "      <td>8.93</td>\n",
              "      <td>Low Fat</td>\n",
              "      <td>0.000000</td>\n",
              "      <td>Household</td>\n",
              "      <td>53.8614</td>\n",
              "      <td>OUT013</td>\n",
              "      <td>1987</td>\n",
              "      <td>High</td>\n",
              "      <td>Tier 3</td>\n",
              "      <td>Supermarket Type1</td>\n",
              "      <td>994.7052</td>\n",
              "    </tr>\n",
              "  </tbody>\n",
              "</table>\n",
              "</div>\n",
              "      <button class=\"colab-df-convert\" onclick=\"convertToInteractive('df-1fd0d0de-17af-4944-8814-1ba4a1043521')\"\n",
              "              title=\"Convert this dataframe to an interactive table.\"\n",
              "              style=\"display:none;\">\n",
              "        \n",
              "  <svg xmlns=\"http://www.w3.org/2000/svg\" height=\"24px\"viewBox=\"0 0 24 24\"\n",
              "       width=\"24px\">\n",
              "    <path d=\"M0 0h24v24H0V0z\" fill=\"none\"/>\n",
              "    <path d=\"M18.56 5.44l.94 2.06.94-2.06 2.06-.94-2.06-.94-.94-2.06-.94 2.06-2.06.94zm-11 1L8.5 8.5l.94-2.06 2.06-.94-2.06-.94L8.5 2.5l-.94 2.06-2.06.94zm10 10l.94 2.06.94-2.06 2.06-.94-2.06-.94-.94-2.06-.94 2.06-2.06.94z\"/><path d=\"M17.41 7.96l-1.37-1.37c-.4-.4-.92-.59-1.43-.59-.52 0-1.04.2-1.43.59L10.3 9.45l-7.72 7.72c-.78.78-.78 2.05 0 2.83L4 21.41c.39.39.9.59 1.41.59.51 0 1.02-.2 1.41-.59l7.78-7.78 2.81-2.81c.8-.78.8-2.07 0-2.86zM5.41 20L4 18.59l7.72-7.72 1.47 1.35L5.41 20z\"/>\n",
              "  </svg>\n",
              "      </button>\n",
              "      \n",
              "  <style>\n",
              "    .colab-df-container {\n",
              "      display:flex;\n",
              "      flex-wrap:wrap;\n",
              "      gap: 12px;\n",
              "    }\n",
              "\n",
              "    .colab-df-convert {\n",
              "      background-color: #E8F0FE;\n",
              "      border: none;\n",
              "      border-radius: 50%;\n",
              "      cursor: pointer;\n",
              "      display: none;\n",
              "      fill: #1967D2;\n",
              "      height: 32px;\n",
              "      padding: 0 0 0 0;\n",
              "      width: 32px;\n",
              "    }\n",
              "\n",
              "    .colab-df-convert:hover {\n",
              "      background-color: #E2EBFA;\n",
              "      box-shadow: 0px 1px 2px rgba(60, 64, 67, 0.3), 0px 1px 3px 1px rgba(60, 64, 67, 0.15);\n",
              "      fill: #174EA6;\n",
              "    }\n",
              "\n",
              "    [theme=dark] .colab-df-convert {\n",
              "      background-color: #3B4455;\n",
              "      fill: #D2E3FC;\n",
              "    }\n",
              "\n",
              "    [theme=dark] .colab-df-convert:hover {\n",
              "      background-color: #434B5C;\n",
              "      box-shadow: 0px 1px 3px 1px rgba(0, 0, 0, 0.15);\n",
              "      filter: drop-shadow(0px 1px 2px rgba(0, 0, 0, 0.3));\n",
              "      fill: #FFFFFF;\n",
              "    }\n",
              "  </style>\n",
              "\n",
              "      <script>\n",
              "        const buttonEl =\n",
              "          document.querySelector('#df-1fd0d0de-17af-4944-8814-1ba4a1043521 button.colab-df-convert');\n",
              "        buttonEl.style.display =\n",
              "          google.colab.kernel.accessAllowed ? 'block' : 'none';\n",
              "\n",
              "        async function convertToInteractive(key) {\n",
              "          const element = document.querySelector('#df-1fd0d0de-17af-4944-8814-1ba4a1043521');\n",
              "          const dataTable =\n",
              "            await google.colab.kernel.invokeFunction('convertToInteractive',\n",
              "                                                     [key], {});\n",
              "          if (!dataTable) return;\n",
              "\n",
              "          const docLinkHtml = 'Like what you see? Visit the ' +\n",
              "            '<a target=\"_blank\" href=https://colab.research.google.com/notebooks/data_table.ipynb>data table notebook</a>'\n",
              "            + ' to learn more about interactive tables.';\n",
              "          element.innerHTML = '';\n",
              "          dataTable['output_type'] = 'display_data';\n",
              "          await google.colab.output.renderOutput(dataTable, element);\n",
              "          const docLink = document.createElement('div');\n",
              "          docLink.innerHTML = docLinkHtml;\n",
              "          element.appendChild(docLink);\n",
              "        }\n",
              "      </script>\n",
              "    </div>\n",
              "  </div>\n",
              "  "
            ]
          },
          "metadata": {},
          "execution_count": 117
        }
      ]
    },
    {
      "cell_type": "markdown",
      "source": [
        "3. Explorar los datos"
      ],
      "metadata": {
        "id": "OdiHy-NE0YVn"
      }
    },
    {
      "cell_type": "code",
      "source": [
        "df.info()"
      ],
      "metadata": {
        "colab": {
          "base_uri": "https://localhost:8080/"
        },
        "id": "vbN051T50Zzo",
        "outputId": "7243abb0-7c31-4838-d725-b8bd67953caf"
      },
      "execution_count": 118,
      "outputs": [
        {
          "output_type": "stream",
          "name": "stdout",
          "text": [
            "<class 'pandas.core.frame.DataFrame'>\n",
            "RangeIndex: 8523 entries, 0 to 8522\n",
            "Data columns (total 12 columns):\n",
            " #   Column                     Non-Null Count  Dtype  \n",
            "---  ------                     --------------  -----  \n",
            " 0   Item_Identifier            8523 non-null   object \n",
            " 1   Item_Weight                7060 non-null   float64\n",
            " 2   Item_Fat_Content           8523 non-null   object \n",
            " 3   Item_Visibility            8523 non-null   float64\n",
            " 4   Item_Type                  8523 non-null   object \n",
            " 5   Item_MRP                   8523 non-null   float64\n",
            " 6   Outlet_Identifier          8523 non-null   object \n",
            " 7   Outlet_Establishment_Year  8523 non-null   int64  \n",
            " 8   Outlet_Size                6113 non-null   object \n",
            " 9   Outlet_Location_Type       8523 non-null   object \n",
            " 10  Outlet_Type                8523 non-null   object \n",
            " 11  Item_Outlet_Sales          8523 non-null   float64\n",
            "dtypes: float64(4), int64(1), object(7)\n",
            "memory usage: 799.2+ KB\n"
          ]
        }
      ]
    },
    {
      "cell_type": "markdown",
      "source": [
        "Al realizar la exploracion de nuestra data, podemos identificar 3 tipos de caracteristicas asi:\n",
        "\n",
        "\n",
        "**NUMERICAS**\n",
        "\n",
        "'Item_Weight',\n",
        "'Item_Fat_Content',\n",
        "'Item_Visibility',\n",
        "'Item_MRP',\n",
        "'Outlet_Establishment_Year'\n",
        "\n",
        "**ORDINALES**.                                              \n",
        "'Item_Fat_Content'\n",
        "\n",
        "'Outlet_Size',\n",
        "\n",
        "**NOMINALES**\n",
        "\n",
        "'Item_Identifier',\n",
        "'Item_Type',\n",
        "'Outlet_Identifier',\n",
        "'Outlet_Location_Type',\n",
        "'Outlet_Type'\n",
        "\n",
        "Para el proceso de aprendizaje de nuestro modelo sera necesario transformar nuestras caracteristicas nominales y si es el caso ordinales en variables numericas, esto para mayor funcionalidad de nuestro modelo.\n",
        "\n",
        "Adicionalmente identificamos datos faltantes en las categorias de Item_Weight (Variable Numerica)y OutleT Size (Variable Categorica), situacion que debemos abordar a continuacion con el metodo de Mean Imputation para variables numericas y Most_frequent imputation para variables categoricas."
      ],
      "metadata": {
        "id": "wlJVMqxxegBW"
      }
    },
    {
      "cell_type": "markdown",
      "source": [
        "4. Codificación ordinal"
      ],
      "metadata": {
        "id": "AQjQb9Wt0uVX"
      }
    },
    {
      "cell_type": "code",
      "source": [
        "df['Item_Fat_Content'].value_counts()"
      ],
      "metadata": {
        "colab": {
          "base_uri": "https://localhost:8080/"
        },
        "id": "u44MPJAA07cl",
        "outputId": "9a522f0d-59d6-468e-e259-2d2e6e03e39c"
      },
      "execution_count": 119,
      "outputs": [
        {
          "output_type": "execute_result",
          "data": {
            "text/plain": [
              "Low Fat    5089\n",
              "Regular    2889\n",
              "LF          316\n",
              "reg         117\n",
              "low fat     112\n",
              "Name: Item_Fat_Content, dtype: int64"
            ]
          },
          "metadata": {},
          "execution_count": 119
        }
      ]
    },
    {
      "cell_type": "code",
      "source": [
        "# Codificación ordinal \"Item_Fat_Content\"\n",
        "replacement_dictionary = {'Low':1, 'Low Fat':1, 'LF':1, 'low fat':1, 'Regular':0, 'reg':0}\n",
        "df['Item_Fat_Content'].replace(replacement_dictionary, inplace=True)\n",
        "df['Item_Fat_Content']"
      ],
      "metadata": {
        "colab": {
          "base_uri": "https://localhost:8080/"
        },
        "id": "ix-pS2jv1ode",
        "outputId": "398911da-ddd5-4448-83b2-dff0344fd406"
      },
      "execution_count": 120,
      "outputs": [
        {
          "output_type": "execute_result",
          "data": {
            "text/plain": [
              "0       1\n",
              "1       0\n",
              "2       1\n",
              "3       0\n",
              "4       1\n",
              "       ..\n",
              "8518    1\n",
              "8519    0\n",
              "8520    1\n",
              "8521    0\n",
              "8522    1\n",
              "Name: Item_Fat_Content, Length: 8523, dtype: int64"
            ]
          },
          "metadata": {},
          "execution_count": 120
        }
      ]
    },
    {
      "cell_type": "code",
      "source": [
        "df['Item_Fat_Content'].value_counts()"
      ],
      "metadata": {
        "colab": {
          "base_uri": "https://localhost:8080/"
        },
        "id": "fSoH6vuN3Tzq",
        "outputId": "4a681fe6-8ea9-44bc-c7e9-280e72da96c2"
      },
      "execution_count": 121,
      "outputs": [
        {
          "output_type": "execute_result",
          "data": {
            "text/plain": [
              "1    5517\n",
              "0    3006\n",
              "Name: Item_Fat_Content, dtype: int64"
            ]
          },
          "metadata": {},
          "execution_count": 121
        }
      ]
    },
    {
      "cell_type": "markdown",
      "source": [
        "Nuestra variable Item Fat Content es una variable de tipo ordinal, fue necesario una conversion, por lo cual hicimos  un diccionario y un replace para ajustar la informacion con inconformidades. Ahora esta ordinalmente codificada.\n",
        "\n",
        "Aplicar el mismo metodo para la variable Outlet Size."
      ],
      "metadata": {
        "id": "_cYugkd_f9xz"
      }
    },
    {
      "cell_type": "code",
      "source": [
        "df['Outlet_Size'].value_counts()"
      ],
      "metadata": {
        "colab": {
          "base_uri": "https://localhost:8080/"
        },
        "id": "O2ABsuximRHc",
        "outputId": "4eaad997-1486-427c-90e5-e44fc0f6e49a"
      },
      "execution_count": 122,
      "outputs": [
        {
          "output_type": "execute_result",
          "data": {
            "text/plain": [
              "Medium    2793\n",
              "Small     2388\n",
              "High       932\n",
              "Name: Outlet_Size, dtype: int64"
            ]
          },
          "metadata": {},
          "execution_count": 122
        }
      ]
    },
    {
      "cell_type": "code",
      "source": [
        "# Codificación ordinal \"Outlet_Size\"\n",
        "replacement_dictionary = {'High':2, 'Medium':1, 'Small':0}\n",
        "df['Outlet_Size'].replace(replacement_dictionary, inplace=True)\n",
        "df['Outlet_Size'].replace\n"
      ],
      "metadata": {
        "colab": {
          "base_uri": "https://localhost:8080/"
        },
        "id": "6T-N3L2_mcrB",
        "outputId": "0761b223-fd84-45c3-f212-fa546dd95ae8"
      },
      "execution_count": 123,
      "outputs": [
        {
          "output_type": "execute_result",
          "data": {
            "text/plain": [
              "<bound method Series.replace of 0       1.0\n",
              "1       1.0\n",
              "2       1.0\n",
              "3       NaN\n",
              "4       2.0\n",
              "       ... \n",
              "8518    2.0\n",
              "8519    NaN\n",
              "8520    0.0\n",
              "8521    1.0\n",
              "8522    0.0\n",
              "Name: Outlet_Size, Length: 8523, dtype: float64>"
            ]
          },
          "metadata": {},
          "execution_count": 123
        }
      ]
    },
    {
      "cell_type": "code",
      "source": [
        "df['Outlet_Size'].value_counts()"
      ],
      "metadata": {
        "colab": {
          "base_uri": "https://localhost:8080/"
        },
        "id": "J4g_vmLdmfvY",
        "outputId": "2469510d-fb20-42e0-e6d4-3ca1b9711f7c"
      },
      "execution_count": 124,
      "outputs": [
        {
          "output_type": "execute_result",
          "data": {
            "text/plain": [
              "1.0    2793\n",
              "0.0    2388\n",
              "2.0     932\n",
              "Name: Outlet_Size, dtype: int64"
            ]
          },
          "metadata": {},
          "execution_count": 124
        }
      ]
    },
    {
      "cell_type": "markdown",
      "source": [
        "5. Train test Split"
      ],
      "metadata": {
        "id": "g50lfPu24bOu"
      }
    },
    {
      "cell_type": "code",
      "source": [
        "X = df.drop(['Item_Outlet_Sales','Item_Identifier','Outlet_Identifier'], axis=1)\n",
        "y = df['Item_Outlet_Sales']\n",
        "X_train, X_test, y_train, y_test = train_test_split(X, y, random_state=42)"
      ],
      "metadata": {
        "id": "NAliNYUG4fqp"
      },
      "execution_count": 125,
      "outputs": []
    },
    {
      "cell_type": "markdown",
      "source": [
        "Nuestra variable target (a predecir) es **Item_Outlet_Sales** que corresponde al total de ventas por tienda, para predecir dicha variable nos apoyaremos basados en el resto de categorias que vienen incluidas como peso, contenido graso,categoria, precio, año creacion tienda etc...\n",
        "\n",
        "Este proceso consiste en dividir nuestro conjunto de datos en 2 grupos (entrenamiento y prueba), y es aqui donde ocurre el proceso de aprendizaje y validacion de nuestro modelo, esto con el proposito de conocer como se va a comportar nuestro target en la medida que nuestro conjunto de caracteristicas se mueva de una o determinada forma.\n"
      ],
      "metadata": {
        "id": "Ho60czYEZaOD"
      }
    },
    {
      "cell_type": "markdown",
      "source": [
        "6.Instanciar selectores de columnas"
      ],
      "metadata": {
        "id": "0ZYgv2Rd5Bfh"
      }
    },
    {
      "cell_type": "code",
      "source": [
        "cat_selector = make_column_selector(dtype_include='object')\n",
        "cat_selector"
      ],
      "metadata": {
        "colab": {
          "base_uri": "https://localhost:8080/"
        },
        "id": "kgBfqE5U5Dnc",
        "outputId": "0589b748-7c1e-4c1a-a76d-ee788880a455"
      },
      "execution_count": 126,
      "outputs": [
        {
          "output_type": "execute_result",
          "data": {
            "text/plain": [
              "<sklearn.compose._column_transformer.make_column_selector at 0x7f82114fd8d0>"
            ]
          },
          "metadata": {},
          "execution_count": 126
        }
      ]
    },
    {
      "cell_type": "code",
      "source": [
        "#Nos devuelve una lista con las columnas que coinciden con el patron solicitado, en este caso, las categoricas.\n",
        "cat_selector(X_train)"
      ],
      "metadata": {
        "colab": {
          "base_uri": "https://localhost:8080/"
        },
        "id": "yqqKMFM0dplO",
        "outputId": "e8b14959-aa66-47be-f55f-b28b320b5c18"
      },
      "execution_count": 127,
      "outputs": [
        {
          "output_type": "execute_result",
          "data": {
            "text/plain": [
              "['Item_Type', 'Outlet_Location_Type', 'Outlet_Type']"
            ]
          },
          "metadata": {},
          "execution_count": 127
        }
      ]
    },
    {
      "cell_type": "code",
      "source": [
        "num_selector = make_column_selector(dtype_include='number')\n",
        "num_selector"
      ],
      "metadata": {
        "colab": {
          "base_uri": "https://localhost:8080/"
        },
        "id": "rIhrByyPdj8D",
        "outputId": "b4c82532-7133-41e8-e869-3b5c9b408509"
      },
      "execution_count": 128,
      "outputs": [
        {
          "output_type": "execute_result",
          "data": {
            "text/plain": [
              "<sklearn.compose._column_transformer.make_column_selector at 0x7f82114d6a50>"
            ]
          },
          "metadata": {},
          "execution_count": 128
        }
      ]
    },
    {
      "cell_type": "code",
      "source": [
        "#Nos devuelve una lista con las columnas que coinciden con el patron solicitado, en este caso, las numericas.\n",
        "num_selector(X_train)"
      ],
      "metadata": {
        "colab": {
          "base_uri": "https://localhost:8080/"
        },
        "id": "itJQW06TduFQ",
        "outputId": "435e43ab-7562-4062-db53-bd6e3c9e2370"
      },
      "execution_count": 129,
      "outputs": [
        {
          "output_type": "execute_result",
          "data": {
            "text/plain": [
              "['Item_Weight',\n",
              " 'Item_Fat_Content',\n",
              " 'Item_Visibility',\n",
              " 'Item_MRP',\n",
              " 'Outlet_Establishment_Year',\n",
              " 'Outlet_Size']"
            ]
          },
          "metadata": {},
          "execution_count": 129
        }
      ]
    },
    {
      "cell_type": "markdown",
      "source": [
        "7.Instanciar transformadores"
      ],
      "metadata": {
        "id": "cqbczzLZ5hXV"
      }
    },
    {
      "cell_type": "code",
      "source": [
        "# Imputers\n",
        "freq_imputer = SimpleImputer(strategy='most_frequent')\n",
        "mean_imputer = SimpleImputer(strategy='mean')\n",
        "\n",
        "# Scaler\n",
        "scaler = StandardScaler()\n",
        "\n",
        "# One-hot encoder\n",
        "ohe = OneHotEncoder(handle_unknown='ignore', sparse=False)\n",
        "\n",
        "#Ordinal Encoder\n",
        "ordinal_encoder = OrdinalEncoder()"
      ],
      "metadata": {
        "id": "zIjrG4ld5ip5"
      },
      "execution_count": 130,
      "outputs": []
    },
    {
      "cell_type": "markdown",
      "source": [
        "Tenemos 2 simple imputers con diferentes estrategias de imputacion, most frequent y mean imputer."
      ],
      "metadata": {
        "id": "PKHfejQbzrE8"
      }
    },
    {
      "cell_type": "markdown",
      "source": [
        "8. Instanciar pipelines"
      ],
      "metadata": {
        "id": "gdYCvW2t5snp"
      }
    },
    {
      "cell_type": "code",
      "source": [
        "#Pipeline Numerico\n",
        "numeric_pipe = make_pipeline(mean_imputer, scaler)\n",
        "numeric_pipe"
      ],
      "metadata": {
        "colab": {
          "base_uri": "https://localhost:8080/",
          "height": 126
        },
        "id": "93zsGMD-WfuU",
        "outputId": "6373a0f2-fa35-4c96-a139-428e3d7b935d"
      },
      "execution_count": 131,
      "outputs": [
        {
          "output_type": "execute_result",
          "data": {
            "text/plain": [
              "Pipeline(steps=[('simpleimputer', SimpleImputer()),\n",
              "                ('standardscaler', StandardScaler())])"
            ],
            "text/html": [
              "<style>#sk-6a7583ea-e176-4965-a871-13caa3b8259f {color: black;background-color: white;}#sk-6a7583ea-e176-4965-a871-13caa3b8259f pre{padding: 0;}#sk-6a7583ea-e176-4965-a871-13caa3b8259f div.sk-toggleable {background-color: white;}#sk-6a7583ea-e176-4965-a871-13caa3b8259f label.sk-toggleable__label {cursor: pointer;display: block;width: 100%;margin-bottom: 0;padding: 0.3em;box-sizing: border-box;text-align: center;}#sk-6a7583ea-e176-4965-a871-13caa3b8259f label.sk-toggleable__label-arrow:before {content: \"▸\";float: left;margin-right: 0.25em;color: #696969;}#sk-6a7583ea-e176-4965-a871-13caa3b8259f label.sk-toggleable__label-arrow:hover:before {color: black;}#sk-6a7583ea-e176-4965-a871-13caa3b8259f div.sk-estimator:hover label.sk-toggleable__label-arrow:before {color: black;}#sk-6a7583ea-e176-4965-a871-13caa3b8259f div.sk-toggleable__content {max-height: 0;max-width: 0;overflow: hidden;text-align: left;background-color: #f0f8ff;}#sk-6a7583ea-e176-4965-a871-13caa3b8259f div.sk-toggleable__content pre {margin: 0.2em;color: black;border-radius: 0.25em;background-color: #f0f8ff;}#sk-6a7583ea-e176-4965-a871-13caa3b8259f input.sk-toggleable__control:checked~div.sk-toggleable__content {max-height: 200px;max-width: 100%;overflow: auto;}#sk-6a7583ea-e176-4965-a871-13caa3b8259f input.sk-toggleable__control:checked~label.sk-toggleable__label-arrow:before {content: \"▾\";}#sk-6a7583ea-e176-4965-a871-13caa3b8259f div.sk-estimator input.sk-toggleable__control:checked~label.sk-toggleable__label {background-color: #d4ebff;}#sk-6a7583ea-e176-4965-a871-13caa3b8259f div.sk-label input.sk-toggleable__control:checked~label.sk-toggleable__label {background-color: #d4ebff;}#sk-6a7583ea-e176-4965-a871-13caa3b8259f input.sk-hidden--visually {border: 0;clip: rect(1px 1px 1px 1px);clip: rect(1px, 1px, 1px, 1px);height: 1px;margin: -1px;overflow: hidden;padding: 0;position: absolute;width: 1px;}#sk-6a7583ea-e176-4965-a871-13caa3b8259f div.sk-estimator {font-family: monospace;background-color: #f0f8ff;border: 1px dotted black;border-radius: 0.25em;box-sizing: border-box;margin-bottom: 0.5em;}#sk-6a7583ea-e176-4965-a871-13caa3b8259f div.sk-estimator:hover {background-color: #d4ebff;}#sk-6a7583ea-e176-4965-a871-13caa3b8259f div.sk-parallel-item::after {content: \"\";width: 100%;border-bottom: 1px solid gray;flex-grow: 1;}#sk-6a7583ea-e176-4965-a871-13caa3b8259f div.sk-label:hover label.sk-toggleable__label {background-color: #d4ebff;}#sk-6a7583ea-e176-4965-a871-13caa3b8259f div.sk-serial::before {content: \"\";position: absolute;border-left: 1px solid gray;box-sizing: border-box;top: 2em;bottom: 0;left: 50%;}#sk-6a7583ea-e176-4965-a871-13caa3b8259f div.sk-serial {display: flex;flex-direction: column;align-items: center;background-color: white;padding-right: 0.2em;padding-left: 0.2em;}#sk-6a7583ea-e176-4965-a871-13caa3b8259f div.sk-item {z-index: 1;}#sk-6a7583ea-e176-4965-a871-13caa3b8259f div.sk-parallel {display: flex;align-items: stretch;justify-content: center;background-color: white;}#sk-6a7583ea-e176-4965-a871-13caa3b8259f div.sk-parallel::before {content: \"\";position: absolute;border-left: 1px solid gray;box-sizing: border-box;top: 2em;bottom: 0;left: 50%;}#sk-6a7583ea-e176-4965-a871-13caa3b8259f div.sk-parallel-item {display: flex;flex-direction: column;position: relative;background-color: white;}#sk-6a7583ea-e176-4965-a871-13caa3b8259f div.sk-parallel-item:first-child::after {align-self: flex-end;width: 50%;}#sk-6a7583ea-e176-4965-a871-13caa3b8259f div.sk-parallel-item:last-child::after {align-self: flex-start;width: 50%;}#sk-6a7583ea-e176-4965-a871-13caa3b8259f div.sk-parallel-item:only-child::after {width: 0;}#sk-6a7583ea-e176-4965-a871-13caa3b8259f div.sk-dashed-wrapped {border: 1px dashed gray;margin: 0 0.4em 0.5em 0.4em;box-sizing: border-box;padding-bottom: 0.4em;background-color: white;position: relative;}#sk-6a7583ea-e176-4965-a871-13caa3b8259f div.sk-label label {font-family: monospace;font-weight: bold;background-color: white;display: inline-block;line-height: 1.2em;}#sk-6a7583ea-e176-4965-a871-13caa3b8259f div.sk-label-container {position: relative;z-index: 2;text-align: center;}#sk-6a7583ea-e176-4965-a871-13caa3b8259f div.sk-container {/* jupyter's `normalize.less` sets `[hidden] { display: none; }` but bootstrap.min.css set `[hidden] { display: none !important; }` so we also need the `!important` here to be able to override the default hidden behavior on the sphinx rendered scikit-learn.org. See: https://github.com/scikit-learn/scikit-learn/issues/21755 */display: inline-block !important;position: relative;}#sk-6a7583ea-e176-4965-a871-13caa3b8259f div.sk-text-repr-fallback {display: none;}</style><div id=\"sk-6a7583ea-e176-4965-a871-13caa3b8259f\" class=\"sk-top-container\"><div class=\"sk-text-repr-fallback\"><pre>Pipeline(steps=[(&#x27;simpleimputer&#x27;, SimpleImputer()),\n",
              "                (&#x27;standardscaler&#x27;, StandardScaler())])</pre><b>Please rerun this cell to show the HTML repr or trust the notebook.</b></div><div class=\"sk-container\" hidden><div class=\"sk-item sk-dashed-wrapped\"><div class=\"sk-label-container\"><div class=\"sk-label sk-toggleable\"><input class=\"sk-toggleable__control sk-hidden--visually\" id=\"01893740-21e2-4eec-9576-7a00c804053d\" type=\"checkbox\" ><label for=\"01893740-21e2-4eec-9576-7a00c804053d\" class=\"sk-toggleable__label sk-toggleable__label-arrow\">Pipeline</label><div class=\"sk-toggleable__content\"><pre>Pipeline(steps=[(&#x27;simpleimputer&#x27;, SimpleImputer()),\n",
              "                (&#x27;standardscaler&#x27;, StandardScaler())])</pre></div></div></div><div class=\"sk-serial\"><div class=\"sk-item\"><div class=\"sk-estimator sk-toggleable\"><input class=\"sk-toggleable__control sk-hidden--visually\" id=\"7f7e2191-2489-4a38-9cf3-c7b96e21be5c\" type=\"checkbox\" ><label for=\"7f7e2191-2489-4a38-9cf3-c7b96e21be5c\" class=\"sk-toggleable__label sk-toggleable__label-arrow\">SimpleImputer</label><div class=\"sk-toggleable__content\"><pre>SimpleImputer()</pre></div></div></div><div class=\"sk-item\"><div class=\"sk-estimator sk-toggleable\"><input class=\"sk-toggleable__control sk-hidden--visually\" id=\"16e5c409-6515-42e9-991e-b741b2b538f1\" type=\"checkbox\" ><label for=\"16e5c409-6515-42e9-991e-b741b2b538f1\" class=\"sk-toggleable__label sk-toggleable__label-arrow\">StandardScaler</label><div class=\"sk-toggleable__content\"><pre>StandardScaler()</pre></div></div></div></div></div></div></div>"
            ]
          },
          "metadata": {},
          "execution_count": 131
        }
      ]
    },
    {
      "cell_type": "code",
      "source": [
        "# Pipeline Categorico\n",
        "categorical_pipe = make_pipeline(freq_imputer, ohe)\n",
        "categorical_pipe"
      ],
      "metadata": {
        "colab": {
          "base_uri": "https://localhost:8080/",
          "height": 126
        },
        "id": "Qg-LgmvUWj1m",
        "outputId": "8d7e1105-e674-45f9-8dcb-0fbb69f1d0f8"
      },
      "execution_count": 132,
      "outputs": [
        {
          "output_type": "execute_result",
          "data": {
            "text/plain": [
              "Pipeline(steps=[('simpleimputer', SimpleImputer(strategy='most_frequent')),\n",
              "                ('onehotencoder',\n",
              "                 OneHotEncoder(handle_unknown='ignore', sparse=False))])"
            ],
            "text/html": [
              "<style>#sk-bbc59e91-a012-4174-b330-a2d5e2f4105e {color: black;background-color: white;}#sk-bbc59e91-a012-4174-b330-a2d5e2f4105e pre{padding: 0;}#sk-bbc59e91-a012-4174-b330-a2d5e2f4105e div.sk-toggleable {background-color: white;}#sk-bbc59e91-a012-4174-b330-a2d5e2f4105e label.sk-toggleable__label {cursor: pointer;display: block;width: 100%;margin-bottom: 0;padding: 0.3em;box-sizing: border-box;text-align: center;}#sk-bbc59e91-a012-4174-b330-a2d5e2f4105e label.sk-toggleable__label-arrow:before {content: \"▸\";float: left;margin-right: 0.25em;color: #696969;}#sk-bbc59e91-a012-4174-b330-a2d5e2f4105e label.sk-toggleable__label-arrow:hover:before {color: black;}#sk-bbc59e91-a012-4174-b330-a2d5e2f4105e div.sk-estimator:hover label.sk-toggleable__label-arrow:before {color: black;}#sk-bbc59e91-a012-4174-b330-a2d5e2f4105e div.sk-toggleable__content {max-height: 0;max-width: 0;overflow: hidden;text-align: left;background-color: #f0f8ff;}#sk-bbc59e91-a012-4174-b330-a2d5e2f4105e div.sk-toggleable__content pre {margin: 0.2em;color: black;border-radius: 0.25em;background-color: #f0f8ff;}#sk-bbc59e91-a012-4174-b330-a2d5e2f4105e input.sk-toggleable__control:checked~div.sk-toggleable__content {max-height: 200px;max-width: 100%;overflow: auto;}#sk-bbc59e91-a012-4174-b330-a2d5e2f4105e input.sk-toggleable__control:checked~label.sk-toggleable__label-arrow:before {content: \"▾\";}#sk-bbc59e91-a012-4174-b330-a2d5e2f4105e div.sk-estimator input.sk-toggleable__control:checked~label.sk-toggleable__label {background-color: #d4ebff;}#sk-bbc59e91-a012-4174-b330-a2d5e2f4105e div.sk-label input.sk-toggleable__control:checked~label.sk-toggleable__label {background-color: #d4ebff;}#sk-bbc59e91-a012-4174-b330-a2d5e2f4105e input.sk-hidden--visually {border: 0;clip: rect(1px 1px 1px 1px);clip: rect(1px, 1px, 1px, 1px);height: 1px;margin: -1px;overflow: hidden;padding: 0;position: absolute;width: 1px;}#sk-bbc59e91-a012-4174-b330-a2d5e2f4105e div.sk-estimator {font-family: monospace;background-color: #f0f8ff;border: 1px dotted black;border-radius: 0.25em;box-sizing: border-box;margin-bottom: 0.5em;}#sk-bbc59e91-a012-4174-b330-a2d5e2f4105e div.sk-estimator:hover {background-color: #d4ebff;}#sk-bbc59e91-a012-4174-b330-a2d5e2f4105e div.sk-parallel-item::after {content: \"\";width: 100%;border-bottom: 1px solid gray;flex-grow: 1;}#sk-bbc59e91-a012-4174-b330-a2d5e2f4105e div.sk-label:hover label.sk-toggleable__label {background-color: #d4ebff;}#sk-bbc59e91-a012-4174-b330-a2d5e2f4105e div.sk-serial::before {content: \"\";position: absolute;border-left: 1px solid gray;box-sizing: border-box;top: 2em;bottom: 0;left: 50%;}#sk-bbc59e91-a012-4174-b330-a2d5e2f4105e div.sk-serial {display: flex;flex-direction: column;align-items: center;background-color: white;padding-right: 0.2em;padding-left: 0.2em;}#sk-bbc59e91-a012-4174-b330-a2d5e2f4105e div.sk-item {z-index: 1;}#sk-bbc59e91-a012-4174-b330-a2d5e2f4105e div.sk-parallel {display: flex;align-items: stretch;justify-content: center;background-color: white;}#sk-bbc59e91-a012-4174-b330-a2d5e2f4105e div.sk-parallel::before {content: \"\";position: absolute;border-left: 1px solid gray;box-sizing: border-box;top: 2em;bottom: 0;left: 50%;}#sk-bbc59e91-a012-4174-b330-a2d5e2f4105e div.sk-parallel-item {display: flex;flex-direction: column;position: relative;background-color: white;}#sk-bbc59e91-a012-4174-b330-a2d5e2f4105e div.sk-parallel-item:first-child::after {align-self: flex-end;width: 50%;}#sk-bbc59e91-a012-4174-b330-a2d5e2f4105e div.sk-parallel-item:last-child::after {align-self: flex-start;width: 50%;}#sk-bbc59e91-a012-4174-b330-a2d5e2f4105e div.sk-parallel-item:only-child::after {width: 0;}#sk-bbc59e91-a012-4174-b330-a2d5e2f4105e div.sk-dashed-wrapped {border: 1px dashed gray;margin: 0 0.4em 0.5em 0.4em;box-sizing: border-box;padding-bottom: 0.4em;background-color: white;position: relative;}#sk-bbc59e91-a012-4174-b330-a2d5e2f4105e div.sk-label label {font-family: monospace;font-weight: bold;background-color: white;display: inline-block;line-height: 1.2em;}#sk-bbc59e91-a012-4174-b330-a2d5e2f4105e div.sk-label-container {position: relative;z-index: 2;text-align: center;}#sk-bbc59e91-a012-4174-b330-a2d5e2f4105e div.sk-container {/* jupyter's `normalize.less` sets `[hidden] { display: none; }` but bootstrap.min.css set `[hidden] { display: none !important; }` so we also need the `!important` here to be able to override the default hidden behavior on the sphinx rendered scikit-learn.org. See: https://github.com/scikit-learn/scikit-learn/issues/21755 */display: inline-block !important;position: relative;}#sk-bbc59e91-a012-4174-b330-a2d5e2f4105e div.sk-text-repr-fallback {display: none;}</style><div id=\"sk-bbc59e91-a012-4174-b330-a2d5e2f4105e\" class=\"sk-top-container\"><div class=\"sk-text-repr-fallback\"><pre>Pipeline(steps=[(&#x27;simpleimputer&#x27;, SimpleImputer(strategy=&#x27;most_frequent&#x27;)),\n",
              "                (&#x27;onehotencoder&#x27;,\n",
              "                 OneHotEncoder(handle_unknown=&#x27;ignore&#x27;, sparse=False))])</pre><b>Please rerun this cell to show the HTML repr or trust the notebook.</b></div><div class=\"sk-container\" hidden><div class=\"sk-item sk-dashed-wrapped\"><div class=\"sk-label-container\"><div class=\"sk-label sk-toggleable\"><input class=\"sk-toggleable__control sk-hidden--visually\" id=\"62425559-38a0-4d88-b3a6-f5f0e88eed59\" type=\"checkbox\" ><label for=\"62425559-38a0-4d88-b3a6-f5f0e88eed59\" class=\"sk-toggleable__label sk-toggleable__label-arrow\">Pipeline</label><div class=\"sk-toggleable__content\"><pre>Pipeline(steps=[(&#x27;simpleimputer&#x27;, SimpleImputer(strategy=&#x27;most_frequent&#x27;)),\n",
              "                (&#x27;onehotencoder&#x27;,\n",
              "                 OneHotEncoder(handle_unknown=&#x27;ignore&#x27;, sparse=False))])</pre></div></div></div><div class=\"sk-serial\"><div class=\"sk-item\"><div class=\"sk-estimator sk-toggleable\"><input class=\"sk-toggleable__control sk-hidden--visually\" id=\"572128e8-72f3-4405-8520-f61da81868fe\" type=\"checkbox\" ><label for=\"572128e8-72f3-4405-8520-f61da81868fe\" class=\"sk-toggleable__label sk-toggleable__label-arrow\">SimpleImputer</label><div class=\"sk-toggleable__content\"><pre>SimpleImputer(strategy=&#x27;most_frequent&#x27;)</pre></div></div></div><div class=\"sk-item\"><div class=\"sk-estimator sk-toggleable\"><input class=\"sk-toggleable__control sk-hidden--visually\" id=\"d5f0ded0-a040-4d4e-b4f7-b67e3995e15e\" type=\"checkbox\" ><label for=\"d5f0ded0-a040-4d4e-b4f7-b67e3995e15e\" class=\"sk-toggleable__label sk-toggleable__label-arrow\">OneHotEncoder</label><div class=\"sk-toggleable__content\"><pre>OneHotEncoder(handle_unknown=&#x27;ignore&#x27;, sparse=False)</pre></div></div></div></div></div></div></div>"
            ]
          },
          "metadata": {},
          "execution_count": 132
        }
      ]
    },
    {
      "cell_type": "code",
      "source": [
        "#Pipeline Nomina\n",
        "nominal_pipe = make_pipeline(freq_imputer, ordinal_encoder)\n",
        "nominal_pipe"
      ],
      "metadata": {
        "colab": {
          "base_uri": "https://localhost:8080/",
          "height": 126
        },
        "id": "QD_jcpfPxtog",
        "outputId": "eff545da-ffb9-481a-9e0b-c80cbee6e724"
      },
      "execution_count": 133,
      "outputs": [
        {
          "output_type": "execute_result",
          "data": {
            "text/plain": [
              "Pipeline(steps=[('simpleimputer', SimpleImputer(strategy='most_frequent')),\n",
              "                ('ordinalencoder', OrdinalEncoder())])"
            ],
            "text/html": [
              "<style>#sk-850d4843-6d98-4a50-a4ce-a761a3585c66 {color: black;background-color: white;}#sk-850d4843-6d98-4a50-a4ce-a761a3585c66 pre{padding: 0;}#sk-850d4843-6d98-4a50-a4ce-a761a3585c66 div.sk-toggleable {background-color: white;}#sk-850d4843-6d98-4a50-a4ce-a761a3585c66 label.sk-toggleable__label {cursor: pointer;display: block;width: 100%;margin-bottom: 0;padding: 0.3em;box-sizing: border-box;text-align: center;}#sk-850d4843-6d98-4a50-a4ce-a761a3585c66 label.sk-toggleable__label-arrow:before {content: \"▸\";float: left;margin-right: 0.25em;color: #696969;}#sk-850d4843-6d98-4a50-a4ce-a761a3585c66 label.sk-toggleable__label-arrow:hover:before {color: black;}#sk-850d4843-6d98-4a50-a4ce-a761a3585c66 div.sk-estimator:hover label.sk-toggleable__label-arrow:before {color: black;}#sk-850d4843-6d98-4a50-a4ce-a761a3585c66 div.sk-toggleable__content {max-height: 0;max-width: 0;overflow: hidden;text-align: left;background-color: #f0f8ff;}#sk-850d4843-6d98-4a50-a4ce-a761a3585c66 div.sk-toggleable__content pre {margin: 0.2em;color: black;border-radius: 0.25em;background-color: #f0f8ff;}#sk-850d4843-6d98-4a50-a4ce-a761a3585c66 input.sk-toggleable__control:checked~div.sk-toggleable__content {max-height: 200px;max-width: 100%;overflow: auto;}#sk-850d4843-6d98-4a50-a4ce-a761a3585c66 input.sk-toggleable__control:checked~label.sk-toggleable__label-arrow:before {content: \"▾\";}#sk-850d4843-6d98-4a50-a4ce-a761a3585c66 div.sk-estimator input.sk-toggleable__control:checked~label.sk-toggleable__label {background-color: #d4ebff;}#sk-850d4843-6d98-4a50-a4ce-a761a3585c66 div.sk-label input.sk-toggleable__control:checked~label.sk-toggleable__label {background-color: #d4ebff;}#sk-850d4843-6d98-4a50-a4ce-a761a3585c66 input.sk-hidden--visually {border: 0;clip: rect(1px 1px 1px 1px);clip: rect(1px, 1px, 1px, 1px);height: 1px;margin: -1px;overflow: hidden;padding: 0;position: absolute;width: 1px;}#sk-850d4843-6d98-4a50-a4ce-a761a3585c66 div.sk-estimator {font-family: monospace;background-color: #f0f8ff;border: 1px dotted black;border-radius: 0.25em;box-sizing: border-box;margin-bottom: 0.5em;}#sk-850d4843-6d98-4a50-a4ce-a761a3585c66 div.sk-estimator:hover {background-color: #d4ebff;}#sk-850d4843-6d98-4a50-a4ce-a761a3585c66 div.sk-parallel-item::after {content: \"\";width: 100%;border-bottom: 1px solid gray;flex-grow: 1;}#sk-850d4843-6d98-4a50-a4ce-a761a3585c66 div.sk-label:hover label.sk-toggleable__label {background-color: #d4ebff;}#sk-850d4843-6d98-4a50-a4ce-a761a3585c66 div.sk-serial::before {content: \"\";position: absolute;border-left: 1px solid gray;box-sizing: border-box;top: 2em;bottom: 0;left: 50%;}#sk-850d4843-6d98-4a50-a4ce-a761a3585c66 div.sk-serial {display: flex;flex-direction: column;align-items: center;background-color: white;padding-right: 0.2em;padding-left: 0.2em;}#sk-850d4843-6d98-4a50-a4ce-a761a3585c66 div.sk-item {z-index: 1;}#sk-850d4843-6d98-4a50-a4ce-a761a3585c66 div.sk-parallel {display: flex;align-items: stretch;justify-content: center;background-color: white;}#sk-850d4843-6d98-4a50-a4ce-a761a3585c66 div.sk-parallel::before {content: \"\";position: absolute;border-left: 1px solid gray;box-sizing: border-box;top: 2em;bottom: 0;left: 50%;}#sk-850d4843-6d98-4a50-a4ce-a761a3585c66 div.sk-parallel-item {display: flex;flex-direction: column;position: relative;background-color: white;}#sk-850d4843-6d98-4a50-a4ce-a761a3585c66 div.sk-parallel-item:first-child::after {align-self: flex-end;width: 50%;}#sk-850d4843-6d98-4a50-a4ce-a761a3585c66 div.sk-parallel-item:last-child::after {align-self: flex-start;width: 50%;}#sk-850d4843-6d98-4a50-a4ce-a761a3585c66 div.sk-parallel-item:only-child::after {width: 0;}#sk-850d4843-6d98-4a50-a4ce-a761a3585c66 div.sk-dashed-wrapped {border: 1px dashed gray;margin: 0 0.4em 0.5em 0.4em;box-sizing: border-box;padding-bottom: 0.4em;background-color: white;position: relative;}#sk-850d4843-6d98-4a50-a4ce-a761a3585c66 div.sk-label label {font-family: monospace;font-weight: bold;background-color: white;display: inline-block;line-height: 1.2em;}#sk-850d4843-6d98-4a50-a4ce-a761a3585c66 div.sk-label-container {position: relative;z-index: 2;text-align: center;}#sk-850d4843-6d98-4a50-a4ce-a761a3585c66 div.sk-container {/* jupyter's `normalize.less` sets `[hidden] { display: none; }` but bootstrap.min.css set `[hidden] { display: none !important; }` so we also need the `!important` here to be able to override the default hidden behavior on the sphinx rendered scikit-learn.org. See: https://github.com/scikit-learn/scikit-learn/issues/21755 */display: inline-block !important;position: relative;}#sk-850d4843-6d98-4a50-a4ce-a761a3585c66 div.sk-text-repr-fallback {display: none;}</style><div id=\"sk-850d4843-6d98-4a50-a4ce-a761a3585c66\" class=\"sk-top-container\"><div class=\"sk-text-repr-fallback\"><pre>Pipeline(steps=[(&#x27;simpleimputer&#x27;, SimpleImputer(strategy=&#x27;most_frequent&#x27;)),\n",
              "                (&#x27;ordinalencoder&#x27;, OrdinalEncoder())])</pre><b>Please rerun this cell to show the HTML repr or trust the notebook.</b></div><div class=\"sk-container\" hidden><div class=\"sk-item sk-dashed-wrapped\"><div class=\"sk-label-container\"><div class=\"sk-label sk-toggleable\"><input class=\"sk-toggleable__control sk-hidden--visually\" id=\"14ab9942-d5b9-466e-a89f-e6f0e58cf048\" type=\"checkbox\" ><label for=\"14ab9942-d5b9-466e-a89f-e6f0e58cf048\" class=\"sk-toggleable__label sk-toggleable__label-arrow\">Pipeline</label><div class=\"sk-toggleable__content\"><pre>Pipeline(steps=[(&#x27;simpleimputer&#x27;, SimpleImputer(strategy=&#x27;most_frequent&#x27;)),\n",
              "                (&#x27;ordinalencoder&#x27;, OrdinalEncoder())])</pre></div></div></div><div class=\"sk-serial\"><div class=\"sk-item\"><div class=\"sk-estimator sk-toggleable\"><input class=\"sk-toggleable__control sk-hidden--visually\" id=\"66590c4d-29de-44f2-a43a-52583fc0e5f9\" type=\"checkbox\" ><label for=\"66590c4d-29de-44f2-a43a-52583fc0e5f9\" class=\"sk-toggleable__label sk-toggleable__label-arrow\">SimpleImputer</label><div class=\"sk-toggleable__content\"><pre>SimpleImputer(strategy=&#x27;most_frequent&#x27;)</pre></div></div></div><div class=\"sk-item\"><div class=\"sk-estimator sk-toggleable\"><input class=\"sk-toggleable__control sk-hidden--visually\" id=\"7fec7be6-bb9c-4f83-81ec-b3bbfbe4d60e\" type=\"checkbox\" ><label for=\"7fec7be6-bb9c-4f83-81ec-b3bbfbe4d60e\" class=\"sk-toggleable__label sk-toggleable__label-arrow\">OrdinalEncoder</label><div class=\"sk-toggleable__content\"><pre>OrdinalEncoder()</pre></div></div></div></div></div></div></div>"
            ]
          },
          "metadata": {},
          "execution_count": 133
        }
      ]
    },
    {
      "cell_type": "markdown",
      "source": [
        "9. Instanciar ColumnTransformer"
      ],
      "metadata": {
        "id": "cbvrNNQgXi0c"
      }
    },
    {
      "cell_type": "code",
      "source": [
        "# Tuplas para Column Transformer\n",
        "number_tuple = (numeric_pipe, num_selector)\n",
        "category_tuple = (categorical_pipe, cat_selector)\n",
        "nominal_tuple = (nominal_pipe, cat_selector)\n",
        "# ColumnTransformer\n",
        "preprocessor = make_column_transformer(number_tuple, category_tuple, nominal_tuple, remainder='passthrough')\n",
        "preprocessor"
      ],
      "metadata": {
        "colab": {
          "base_uri": "https://localhost:8080/",
          "height": 152
        },
        "id": "tSBwMFtCXkCj",
        "outputId": "e6aed3ef-60ff-46dd-99e3-661ac81fbf3e"
      },
      "execution_count": 134,
      "outputs": [
        {
          "output_type": "execute_result",
          "data": {
            "text/plain": [
              "ColumnTransformer(remainder='passthrough',\n",
              "                  transformers=[('pipeline-1',\n",
              "                                 Pipeline(steps=[('simpleimputer',\n",
              "                                                  SimpleImputer()),\n",
              "                                                 ('standardscaler',\n",
              "                                                  StandardScaler())]),\n",
              "                                 <sklearn.compose._column_transformer.make_column_selector object at 0x7f82114d6a50>),\n",
              "                                ('pipeline-2',\n",
              "                                 Pipeline(steps=[('simpleimputer',\n",
              "                                                  SimpleImputer(strategy='most_frequent')),\n",
              "                                                 ('onehotencoder',\n",
              "                                                  OneHotEncoder(handle_unknown='ignore',\n",
              "                                                                sparse=False))]),\n",
              "                                 <sklearn.compose._column_transformer.make_column_selector object at 0x7f82114fd8d0>),\n",
              "                                ('pipeline-3',\n",
              "                                 Pipeline(steps=[('simpleimputer',\n",
              "                                                  SimpleImputer(strategy='most_frequent')),\n",
              "                                                 ('ordinalencoder',\n",
              "                                                  OrdinalEncoder())]),\n",
              "                                 <sklearn.compose._column_transformer.make_column_selector object at 0x7f82114fd8d0>)])"
            ],
            "text/html": [
              "<style>#sk-900fde75-a397-4b1d-a6f2-65786df5535b {color: black;background-color: white;}#sk-900fde75-a397-4b1d-a6f2-65786df5535b pre{padding: 0;}#sk-900fde75-a397-4b1d-a6f2-65786df5535b div.sk-toggleable {background-color: white;}#sk-900fde75-a397-4b1d-a6f2-65786df5535b label.sk-toggleable__label {cursor: pointer;display: block;width: 100%;margin-bottom: 0;padding: 0.3em;box-sizing: border-box;text-align: center;}#sk-900fde75-a397-4b1d-a6f2-65786df5535b label.sk-toggleable__label-arrow:before {content: \"▸\";float: left;margin-right: 0.25em;color: #696969;}#sk-900fde75-a397-4b1d-a6f2-65786df5535b label.sk-toggleable__label-arrow:hover:before {color: black;}#sk-900fde75-a397-4b1d-a6f2-65786df5535b div.sk-estimator:hover label.sk-toggleable__label-arrow:before {color: black;}#sk-900fde75-a397-4b1d-a6f2-65786df5535b div.sk-toggleable__content {max-height: 0;max-width: 0;overflow: hidden;text-align: left;background-color: #f0f8ff;}#sk-900fde75-a397-4b1d-a6f2-65786df5535b div.sk-toggleable__content pre {margin: 0.2em;color: black;border-radius: 0.25em;background-color: #f0f8ff;}#sk-900fde75-a397-4b1d-a6f2-65786df5535b input.sk-toggleable__control:checked~div.sk-toggleable__content {max-height: 200px;max-width: 100%;overflow: auto;}#sk-900fde75-a397-4b1d-a6f2-65786df5535b input.sk-toggleable__control:checked~label.sk-toggleable__label-arrow:before {content: \"▾\";}#sk-900fde75-a397-4b1d-a6f2-65786df5535b div.sk-estimator input.sk-toggleable__control:checked~label.sk-toggleable__label {background-color: #d4ebff;}#sk-900fde75-a397-4b1d-a6f2-65786df5535b div.sk-label input.sk-toggleable__control:checked~label.sk-toggleable__label {background-color: #d4ebff;}#sk-900fde75-a397-4b1d-a6f2-65786df5535b input.sk-hidden--visually {border: 0;clip: rect(1px 1px 1px 1px);clip: rect(1px, 1px, 1px, 1px);height: 1px;margin: -1px;overflow: hidden;padding: 0;position: absolute;width: 1px;}#sk-900fde75-a397-4b1d-a6f2-65786df5535b div.sk-estimator {font-family: monospace;background-color: #f0f8ff;border: 1px dotted black;border-radius: 0.25em;box-sizing: border-box;margin-bottom: 0.5em;}#sk-900fde75-a397-4b1d-a6f2-65786df5535b div.sk-estimator:hover {background-color: #d4ebff;}#sk-900fde75-a397-4b1d-a6f2-65786df5535b div.sk-parallel-item::after {content: \"\";width: 100%;border-bottom: 1px solid gray;flex-grow: 1;}#sk-900fde75-a397-4b1d-a6f2-65786df5535b div.sk-label:hover label.sk-toggleable__label {background-color: #d4ebff;}#sk-900fde75-a397-4b1d-a6f2-65786df5535b div.sk-serial::before {content: \"\";position: absolute;border-left: 1px solid gray;box-sizing: border-box;top: 2em;bottom: 0;left: 50%;}#sk-900fde75-a397-4b1d-a6f2-65786df5535b div.sk-serial {display: flex;flex-direction: column;align-items: center;background-color: white;padding-right: 0.2em;padding-left: 0.2em;}#sk-900fde75-a397-4b1d-a6f2-65786df5535b div.sk-item {z-index: 1;}#sk-900fde75-a397-4b1d-a6f2-65786df5535b div.sk-parallel {display: flex;align-items: stretch;justify-content: center;background-color: white;}#sk-900fde75-a397-4b1d-a6f2-65786df5535b div.sk-parallel::before {content: \"\";position: absolute;border-left: 1px solid gray;box-sizing: border-box;top: 2em;bottom: 0;left: 50%;}#sk-900fde75-a397-4b1d-a6f2-65786df5535b div.sk-parallel-item {display: flex;flex-direction: column;position: relative;background-color: white;}#sk-900fde75-a397-4b1d-a6f2-65786df5535b div.sk-parallel-item:first-child::after {align-self: flex-end;width: 50%;}#sk-900fde75-a397-4b1d-a6f2-65786df5535b div.sk-parallel-item:last-child::after {align-self: flex-start;width: 50%;}#sk-900fde75-a397-4b1d-a6f2-65786df5535b div.sk-parallel-item:only-child::after {width: 0;}#sk-900fde75-a397-4b1d-a6f2-65786df5535b div.sk-dashed-wrapped {border: 1px dashed gray;margin: 0 0.4em 0.5em 0.4em;box-sizing: border-box;padding-bottom: 0.4em;background-color: white;position: relative;}#sk-900fde75-a397-4b1d-a6f2-65786df5535b div.sk-label label {font-family: monospace;font-weight: bold;background-color: white;display: inline-block;line-height: 1.2em;}#sk-900fde75-a397-4b1d-a6f2-65786df5535b div.sk-label-container {position: relative;z-index: 2;text-align: center;}#sk-900fde75-a397-4b1d-a6f2-65786df5535b div.sk-container {/* jupyter's `normalize.less` sets `[hidden] { display: none; }` but bootstrap.min.css set `[hidden] { display: none !important; }` so we also need the `!important` here to be able to override the default hidden behavior on the sphinx rendered scikit-learn.org. See: https://github.com/scikit-learn/scikit-learn/issues/21755 */display: inline-block !important;position: relative;}#sk-900fde75-a397-4b1d-a6f2-65786df5535b div.sk-text-repr-fallback {display: none;}</style><div id=\"sk-900fde75-a397-4b1d-a6f2-65786df5535b\" class=\"sk-top-container\"><div class=\"sk-text-repr-fallback\"><pre>ColumnTransformer(remainder=&#x27;passthrough&#x27;,\n",
              "                  transformers=[(&#x27;pipeline-1&#x27;,\n",
              "                                 Pipeline(steps=[(&#x27;simpleimputer&#x27;,\n",
              "                                                  SimpleImputer()),\n",
              "                                                 (&#x27;standardscaler&#x27;,\n",
              "                                                  StandardScaler())]),\n",
              "                                 &lt;sklearn.compose._column_transformer.make_column_selector object at 0x7f82114d6a50&gt;),\n",
              "                                (&#x27;pipeline-2&#x27;,\n",
              "                                 Pipeline(steps=[(&#x27;simpleimputer&#x27;,\n",
              "                                                  SimpleImputer(strategy=&#x27;most_frequent&#x27;)),\n",
              "                                                 (&#x27;onehotencoder&#x27;,\n",
              "                                                  OneHotEncoder(handle_unknown=&#x27;ignore&#x27;,\n",
              "                                                                sparse=False))]),\n",
              "                                 &lt;sklearn.compose._column_transformer.make_column_selector object at 0x7f82114fd8d0&gt;),\n",
              "                                (&#x27;pipeline-3&#x27;,\n",
              "                                 Pipeline(steps=[(&#x27;simpleimputer&#x27;,\n",
              "                                                  SimpleImputer(strategy=&#x27;most_frequent&#x27;)),\n",
              "                                                 (&#x27;ordinalencoder&#x27;,\n",
              "                                                  OrdinalEncoder())]),\n",
              "                                 &lt;sklearn.compose._column_transformer.make_column_selector object at 0x7f82114fd8d0&gt;)])</pre><b>Please rerun this cell to show the HTML repr or trust the notebook.</b></div><div class=\"sk-container\" hidden><div class=\"sk-item sk-dashed-wrapped\"><div class=\"sk-label-container\"><div class=\"sk-label sk-toggleable\"><input class=\"sk-toggleable__control sk-hidden--visually\" id=\"b0773111-7dbc-4d0d-b736-52bb7a0379b4\" type=\"checkbox\" ><label for=\"b0773111-7dbc-4d0d-b736-52bb7a0379b4\" class=\"sk-toggleable__label sk-toggleable__label-arrow\">ColumnTransformer</label><div class=\"sk-toggleable__content\"><pre>ColumnTransformer(remainder=&#x27;passthrough&#x27;,\n",
              "                  transformers=[(&#x27;pipeline-1&#x27;,\n",
              "                                 Pipeline(steps=[(&#x27;simpleimputer&#x27;,\n",
              "                                                  SimpleImputer()),\n",
              "                                                 (&#x27;standardscaler&#x27;,\n",
              "                                                  StandardScaler())]),\n",
              "                                 &lt;sklearn.compose._column_transformer.make_column_selector object at 0x7f82114d6a50&gt;),\n",
              "                                (&#x27;pipeline-2&#x27;,\n",
              "                                 Pipeline(steps=[(&#x27;simpleimputer&#x27;,\n",
              "                                                  SimpleImputer(strategy=&#x27;most_frequent&#x27;)),\n",
              "                                                 (&#x27;onehotencoder&#x27;,\n",
              "                                                  OneHotEncoder(handle_unknown=&#x27;ignore&#x27;,\n",
              "                                                                sparse=False))]),\n",
              "                                 &lt;sklearn.compose._column_transformer.make_column_selector object at 0x7f82114fd8d0&gt;),\n",
              "                                (&#x27;pipeline-3&#x27;,\n",
              "                                 Pipeline(steps=[(&#x27;simpleimputer&#x27;,\n",
              "                                                  SimpleImputer(strategy=&#x27;most_frequent&#x27;)),\n",
              "                                                 (&#x27;ordinalencoder&#x27;,\n",
              "                                                  OrdinalEncoder())]),\n",
              "                                 &lt;sklearn.compose._column_transformer.make_column_selector object at 0x7f82114fd8d0&gt;)])</pre></div></div></div><div class=\"sk-parallel\"><div class=\"sk-parallel-item\"><div class=\"sk-item\"><div class=\"sk-label-container\"><div class=\"sk-label sk-toggleable\"><input class=\"sk-toggleable__control sk-hidden--visually\" id=\"d11fa823-aff9-452c-a1dd-b3cdd24d161a\" type=\"checkbox\" ><label for=\"d11fa823-aff9-452c-a1dd-b3cdd24d161a\" class=\"sk-toggleable__label sk-toggleable__label-arrow\">pipeline-1</label><div class=\"sk-toggleable__content\"><pre>&lt;sklearn.compose._column_transformer.make_column_selector object at 0x7f82114d6a50&gt;</pre></div></div></div><div class=\"sk-serial\"><div class=\"sk-item\"><div class=\"sk-serial\"><div class=\"sk-item\"><div class=\"sk-estimator sk-toggleable\"><input class=\"sk-toggleable__control sk-hidden--visually\" id=\"36483ada-19d9-4338-9740-6dec6671962f\" type=\"checkbox\" ><label for=\"36483ada-19d9-4338-9740-6dec6671962f\" class=\"sk-toggleable__label sk-toggleable__label-arrow\">SimpleImputer</label><div class=\"sk-toggleable__content\"><pre>SimpleImputer()</pre></div></div></div><div class=\"sk-item\"><div class=\"sk-estimator sk-toggleable\"><input class=\"sk-toggleable__control sk-hidden--visually\" id=\"90bd311d-a4c4-494b-9487-4c1c6fccf32c\" type=\"checkbox\" ><label for=\"90bd311d-a4c4-494b-9487-4c1c6fccf32c\" class=\"sk-toggleable__label sk-toggleable__label-arrow\">StandardScaler</label><div class=\"sk-toggleable__content\"><pre>StandardScaler()</pre></div></div></div></div></div></div></div></div><div class=\"sk-parallel-item\"><div class=\"sk-item\"><div class=\"sk-label-container\"><div class=\"sk-label sk-toggleable\"><input class=\"sk-toggleable__control sk-hidden--visually\" id=\"d6bd5343-27d9-48b8-8378-8280f4207d5d\" type=\"checkbox\" ><label for=\"d6bd5343-27d9-48b8-8378-8280f4207d5d\" class=\"sk-toggleable__label sk-toggleable__label-arrow\">pipeline-2</label><div class=\"sk-toggleable__content\"><pre>&lt;sklearn.compose._column_transformer.make_column_selector object at 0x7f82114fd8d0&gt;</pre></div></div></div><div class=\"sk-serial\"><div class=\"sk-item\"><div class=\"sk-serial\"><div class=\"sk-item\"><div class=\"sk-estimator sk-toggleable\"><input class=\"sk-toggleable__control sk-hidden--visually\" id=\"52f509c8-b71a-4305-b81a-90aada8105cb\" type=\"checkbox\" ><label for=\"52f509c8-b71a-4305-b81a-90aada8105cb\" class=\"sk-toggleable__label sk-toggleable__label-arrow\">SimpleImputer</label><div class=\"sk-toggleable__content\"><pre>SimpleImputer(strategy=&#x27;most_frequent&#x27;)</pre></div></div></div><div class=\"sk-item\"><div class=\"sk-estimator sk-toggleable\"><input class=\"sk-toggleable__control sk-hidden--visually\" id=\"28ddba5e-e0fd-4a99-8b3b-d00599b4e330\" type=\"checkbox\" ><label for=\"28ddba5e-e0fd-4a99-8b3b-d00599b4e330\" class=\"sk-toggleable__label sk-toggleable__label-arrow\">OneHotEncoder</label><div class=\"sk-toggleable__content\"><pre>OneHotEncoder(handle_unknown=&#x27;ignore&#x27;, sparse=False)</pre></div></div></div></div></div></div></div></div><div class=\"sk-parallel-item\"><div class=\"sk-item\"><div class=\"sk-label-container\"><div class=\"sk-label sk-toggleable\"><input class=\"sk-toggleable__control sk-hidden--visually\" id=\"a977eb87-19bb-48d5-8c3d-36f93c5a1bab\" type=\"checkbox\" ><label for=\"a977eb87-19bb-48d5-8c3d-36f93c5a1bab\" class=\"sk-toggleable__label sk-toggleable__label-arrow\">pipeline-3</label><div class=\"sk-toggleable__content\"><pre>&lt;sklearn.compose._column_transformer.make_column_selector object at 0x7f82114fd8d0&gt;</pre></div></div></div><div class=\"sk-serial\"><div class=\"sk-item\"><div class=\"sk-serial\"><div class=\"sk-item\"><div class=\"sk-estimator sk-toggleable\"><input class=\"sk-toggleable__control sk-hidden--visually\" id=\"062eb31c-9523-4781-a6b6-7b0a00f4f77e\" type=\"checkbox\" ><label for=\"062eb31c-9523-4781-a6b6-7b0a00f4f77e\" class=\"sk-toggleable__label sk-toggleable__label-arrow\">SimpleImputer</label><div class=\"sk-toggleable__content\"><pre>SimpleImputer(strategy=&#x27;most_frequent&#x27;)</pre></div></div></div><div class=\"sk-item\"><div class=\"sk-estimator sk-toggleable\"><input class=\"sk-toggleable__control sk-hidden--visually\" id=\"e28b9a8b-29dd-4075-b3cc-cb0d1c12869f\" type=\"checkbox\" ><label for=\"e28b9a8b-29dd-4075-b3cc-cb0d1c12869f\" class=\"sk-toggleable__label sk-toggleable__label-arrow\">OrdinalEncoder</label><div class=\"sk-toggleable__content\"><pre>OrdinalEncoder()</pre></div></div></div></div></div></div></div></div><div class=\"sk-parallel-item\"><div class=\"sk-item\"><div class=\"sk-label-container\"><div class=\"sk-label sk-toggleable\"><input class=\"sk-toggleable__control sk-hidden--visually\" id=\"fd27fa51-7e95-4f9f-9bcb-a28847b60a9e\" type=\"checkbox\" ><label for=\"fd27fa51-7e95-4f9f-9bcb-a28847b60a9e\" class=\"sk-toggleable__label sk-toggleable__label-arrow\">remainder</label><div class=\"sk-toggleable__content\"><pre></pre></div></div></div><div class=\"sk-serial\"><div class=\"sk-item\"><div class=\"sk-estimator sk-toggleable\"><input class=\"sk-toggleable__control sk-hidden--visually\" id=\"6b34bdd4-4c80-4484-a38e-64ec6d6e0505\" type=\"checkbox\" ><label for=\"6b34bdd4-4c80-4484-a38e-64ec6d6e0505\" class=\"sk-toggleable__label sk-toggleable__label-arrow\">passthrough</label><div class=\"sk-toggleable__content\"><pre>passthrough</pre></div></div></div></div></div></div></div></div></div></div>"
            ]
          },
          "metadata": {},
          "execution_count": 134
        }
      ]
    },
    {
      "cell_type": "markdown",
      "source": [
        "Las tuplas lo que hacen es que nuestros transformadores coincidan con los diferentes tipos de datos de nuestras columnas, y haremos uso de esos transformdores a traves de pipelines."
      ],
      "metadata": {
        "id": "D4HGOuTqz7Rp"
      }
    },
    {
      "cell_type": "markdown",
      "source": [
        "10.Transformador de datos"
      ],
      "metadata": {
        "id": "5pSj9MMyYnw5"
      }
    },
    {
      "cell_type": "code",
      "source": [
        "# fit on train\n",
        "preprocessor.fit(X_train)"
      ],
      "metadata": {
        "colab": {
          "base_uri": "https://localhost:8080/",
          "height": 152
        },
        "id": "N5fdGkQEYwz0",
        "outputId": "20115094-46ae-49b1-db77-70ebadf530c8"
      },
      "execution_count": 135,
      "outputs": [
        {
          "output_type": "execute_result",
          "data": {
            "text/plain": [
              "ColumnTransformer(remainder='passthrough',\n",
              "                  transformers=[('pipeline-1',\n",
              "                                 Pipeline(steps=[('simpleimputer',\n",
              "                                                  SimpleImputer()),\n",
              "                                                 ('standardscaler',\n",
              "                                                  StandardScaler())]),\n",
              "                                 <sklearn.compose._column_transformer.make_column_selector object at 0x7f82114d6a50>),\n",
              "                                ('pipeline-2',\n",
              "                                 Pipeline(steps=[('simpleimputer',\n",
              "                                                  SimpleImputer(strategy='most_frequent')),\n",
              "                                                 ('onehotencoder',\n",
              "                                                  OneHotEncoder(handle_unknown='ignore',\n",
              "                                                                sparse=False))]),\n",
              "                                 <sklearn.compose._column_transformer.make_column_selector object at 0x7f82114fd8d0>),\n",
              "                                ('pipeline-3',\n",
              "                                 Pipeline(steps=[('simpleimputer',\n",
              "                                                  SimpleImputer(strategy='most_frequent')),\n",
              "                                                 ('ordinalencoder',\n",
              "                                                  OrdinalEncoder())]),\n",
              "                                 <sklearn.compose._column_transformer.make_column_selector object at 0x7f82114fd8d0>)])"
            ],
            "text/html": [
              "<style>#sk-ae8de514-872c-4d4d-a1a9-eb3daf8e8e01 {color: black;background-color: white;}#sk-ae8de514-872c-4d4d-a1a9-eb3daf8e8e01 pre{padding: 0;}#sk-ae8de514-872c-4d4d-a1a9-eb3daf8e8e01 div.sk-toggleable {background-color: white;}#sk-ae8de514-872c-4d4d-a1a9-eb3daf8e8e01 label.sk-toggleable__label {cursor: pointer;display: block;width: 100%;margin-bottom: 0;padding: 0.3em;box-sizing: border-box;text-align: center;}#sk-ae8de514-872c-4d4d-a1a9-eb3daf8e8e01 label.sk-toggleable__label-arrow:before {content: \"▸\";float: left;margin-right: 0.25em;color: #696969;}#sk-ae8de514-872c-4d4d-a1a9-eb3daf8e8e01 label.sk-toggleable__label-arrow:hover:before {color: black;}#sk-ae8de514-872c-4d4d-a1a9-eb3daf8e8e01 div.sk-estimator:hover label.sk-toggleable__label-arrow:before {color: black;}#sk-ae8de514-872c-4d4d-a1a9-eb3daf8e8e01 div.sk-toggleable__content {max-height: 0;max-width: 0;overflow: hidden;text-align: left;background-color: #f0f8ff;}#sk-ae8de514-872c-4d4d-a1a9-eb3daf8e8e01 div.sk-toggleable__content pre {margin: 0.2em;color: black;border-radius: 0.25em;background-color: #f0f8ff;}#sk-ae8de514-872c-4d4d-a1a9-eb3daf8e8e01 input.sk-toggleable__control:checked~div.sk-toggleable__content {max-height: 200px;max-width: 100%;overflow: auto;}#sk-ae8de514-872c-4d4d-a1a9-eb3daf8e8e01 input.sk-toggleable__control:checked~label.sk-toggleable__label-arrow:before {content: \"▾\";}#sk-ae8de514-872c-4d4d-a1a9-eb3daf8e8e01 div.sk-estimator input.sk-toggleable__control:checked~label.sk-toggleable__label {background-color: #d4ebff;}#sk-ae8de514-872c-4d4d-a1a9-eb3daf8e8e01 div.sk-label input.sk-toggleable__control:checked~label.sk-toggleable__label {background-color: #d4ebff;}#sk-ae8de514-872c-4d4d-a1a9-eb3daf8e8e01 input.sk-hidden--visually {border: 0;clip: rect(1px 1px 1px 1px);clip: rect(1px, 1px, 1px, 1px);height: 1px;margin: -1px;overflow: hidden;padding: 0;position: absolute;width: 1px;}#sk-ae8de514-872c-4d4d-a1a9-eb3daf8e8e01 div.sk-estimator {font-family: monospace;background-color: #f0f8ff;border: 1px dotted black;border-radius: 0.25em;box-sizing: border-box;margin-bottom: 0.5em;}#sk-ae8de514-872c-4d4d-a1a9-eb3daf8e8e01 div.sk-estimator:hover {background-color: #d4ebff;}#sk-ae8de514-872c-4d4d-a1a9-eb3daf8e8e01 div.sk-parallel-item::after {content: \"\";width: 100%;border-bottom: 1px solid gray;flex-grow: 1;}#sk-ae8de514-872c-4d4d-a1a9-eb3daf8e8e01 div.sk-label:hover label.sk-toggleable__label {background-color: #d4ebff;}#sk-ae8de514-872c-4d4d-a1a9-eb3daf8e8e01 div.sk-serial::before {content: \"\";position: absolute;border-left: 1px solid gray;box-sizing: border-box;top: 2em;bottom: 0;left: 50%;}#sk-ae8de514-872c-4d4d-a1a9-eb3daf8e8e01 div.sk-serial {display: flex;flex-direction: column;align-items: center;background-color: white;padding-right: 0.2em;padding-left: 0.2em;}#sk-ae8de514-872c-4d4d-a1a9-eb3daf8e8e01 div.sk-item {z-index: 1;}#sk-ae8de514-872c-4d4d-a1a9-eb3daf8e8e01 div.sk-parallel {display: flex;align-items: stretch;justify-content: center;background-color: white;}#sk-ae8de514-872c-4d4d-a1a9-eb3daf8e8e01 div.sk-parallel::before {content: \"\";position: absolute;border-left: 1px solid gray;box-sizing: border-box;top: 2em;bottom: 0;left: 50%;}#sk-ae8de514-872c-4d4d-a1a9-eb3daf8e8e01 div.sk-parallel-item {display: flex;flex-direction: column;position: relative;background-color: white;}#sk-ae8de514-872c-4d4d-a1a9-eb3daf8e8e01 div.sk-parallel-item:first-child::after {align-self: flex-end;width: 50%;}#sk-ae8de514-872c-4d4d-a1a9-eb3daf8e8e01 div.sk-parallel-item:last-child::after {align-self: flex-start;width: 50%;}#sk-ae8de514-872c-4d4d-a1a9-eb3daf8e8e01 div.sk-parallel-item:only-child::after {width: 0;}#sk-ae8de514-872c-4d4d-a1a9-eb3daf8e8e01 div.sk-dashed-wrapped {border: 1px dashed gray;margin: 0 0.4em 0.5em 0.4em;box-sizing: border-box;padding-bottom: 0.4em;background-color: white;position: relative;}#sk-ae8de514-872c-4d4d-a1a9-eb3daf8e8e01 div.sk-label label {font-family: monospace;font-weight: bold;background-color: white;display: inline-block;line-height: 1.2em;}#sk-ae8de514-872c-4d4d-a1a9-eb3daf8e8e01 div.sk-label-container {position: relative;z-index: 2;text-align: center;}#sk-ae8de514-872c-4d4d-a1a9-eb3daf8e8e01 div.sk-container {/* jupyter's `normalize.less` sets `[hidden] { display: none; }` but bootstrap.min.css set `[hidden] { display: none !important; }` so we also need the `!important` here to be able to override the default hidden behavior on the sphinx rendered scikit-learn.org. See: https://github.com/scikit-learn/scikit-learn/issues/21755 */display: inline-block !important;position: relative;}#sk-ae8de514-872c-4d4d-a1a9-eb3daf8e8e01 div.sk-text-repr-fallback {display: none;}</style><div id=\"sk-ae8de514-872c-4d4d-a1a9-eb3daf8e8e01\" class=\"sk-top-container\"><div class=\"sk-text-repr-fallback\"><pre>ColumnTransformer(remainder=&#x27;passthrough&#x27;,\n",
              "                  transformers=[(&#x27;pipeline-1&#x27;,\n",
              "                                 Pipeline(steps=[(&#x27;simpleimputer&#x27;,\n",
              "                                                  SimpleImputer()),\n",
              "                                                 (&#x27;standardscaler&#x27;,\n",
              "                                                  StandardScaler())]),\n",
              "                                 &lt;sklearn.compose._column_transformer.make_column_selector object at 0x7f82114d6a50&gt;),\n",
              "                                (&#x27;pipeline-2&#x27;,\n",
              "                                 Pipeline(steps=[(&#x27;simpleimputer&#x27;,\n",
              "                                                  SimpleImputer(strategy=&#x27;most_frequent&#x27;)),\n",
              "                                                 (&#x27;onehotencoder&#x27;,\n",
              "                                                  OneHotEncoder(handle_unknown=&#x27;ignore&#x27;,\n",
              "                                                                sparse=False))]),\n",
              "                                 &lt;sklearn.compose._column_transformer.make_column_selector object at 0x7f82114fd8d0&gt;),\n",
              "                                (&#x27;pipeline-3&#x27;,\n",
              "                                 Pipeline(steps=[(&#x27;simpleimputer&#x27;,\n",
              "                                                  SimpleImputer(strategy=&#x27;most_frequent&#x27;)),\n",
              "                                                 (&#x27;ordinalencoder&#x27;,\n",
              "                                                  OrdinalEncoder())]),\n",
              "                                 &lt;sklearn.compose._column_transformer.make_column_selector object at 0x7f82114fd8d0&gt;)])</pre><b>Please rerun this cell to show the HTML repr or trust the notebook.</b></div><div class=\"sk-container\" hidden><div class=\"sk-item sk-dashed-wrapped\"><div class=\"sk-label-container\"><div class=\"sk-label sk-toggleable\"><input class=\"sk-toggleable__control sk-hidden--visually\" id=\"31e12865-9178-47ed-910e-a16e591f168f\" type=\"checkbox\" ><label for=\"31e12865-9178-47ed-910e-a16e591f168f\" class=\"sk-toggleable__label sk-toggleable__label-arrow\">ColumnTransformer</label><div class=\"sk-toggleable__content\"><pre>ColumnTransformer(remainder=&#x27;passthrough&#x27;,\n",
              "                  transformers=[(&#x27;pipeline-1&#x27;,\n",
              "                                 Pipeline(steps=[(&#x27;simpleimputer&#x27;,\n",
              "                                                  SimpleImputer()),\n",
              "                                                 (&#x27;standardscaler&#x27;,\n",
              "                                                  StandardScaler())]),\n",
              "                                 &lt;sklearn.compose._column_transformer.make_column_selector object at 0x7f82114d6a50&gt;),\n",
              "                                (&#x27;pipeline-2&#x27;,\n",
              "                                 Pipeline(steps=[(&#x27;simpleimputer&#x27;,\n",
              "                                                  SimpleImputer(strategy=&#x27;most_frequent&#x27;)),\n",
              "                                                 (&#x27;onehotencoder&#x27;,\n",
              "                                                  OneHotEncoder(handle_unknown=&#x27;ignore&#x27;,\n",
              "                                                                sparse=False))]),\n",
              "                                 &lt;sklearn.compose._column_transformer.make_column_selector object at 0x7f82114fd8d0&gt;),\n",
              "                                (&#x27;pipeline-3&#x27;,\n",
              "                                 Pipeline(steps=[(&#x27;simpleimputer&#x27;,\n",
              "                                                  SimpleImputer(strategy=&#x27;most_frequent&#x27;)),\n",
              "                                                 (&#x27;ordinalencoder&#x27;,\n",
              "                                                  OrdinalEncoder())]),\n",
              "                                 &lt;sklearn.compose._column_transformer.make_column_selector object at 0x7f82114fd8d0&gt;)])</pre></div></div></div><div class=\"sk-parallel\"><div class=\"sk-parallel-item\"><div class=\"sk-item\"><div class=\"sk-label-container\"><div class=\"sk-label sk-toggleable\"><input class=\"sk-toggleable__control sk-hidden--visually\" id=\"ed60a1c8-9ed6-4803-b059-ffa01f641020\" type=\"checkbox\" ><label for=\"ed60a1c8-9ed6-4803-b059-ffa01f641020\" class=\"sk-toggleable__label sk-toggleable__label-arrow\">pipeline-1</label><div class=\"sk-toggleable__content\"><pre>&lt;sklearn.compose._column_transformer.make_column_selector object at 0x7f82114d6a50&gt;</pre></div></div></div><div class=\"sk-serial\"><div class=\"sk-item\"><div class=\"sk-serial\"><div class=\"sk-item\"><div class=\"sk-estimator sk-toggleable\"><input class=\"sk-toggleable__control sk-hidden--visually\" id=\"124279f3-519e-4769-97e4-8606b75e02ee\" type=\"checkbox\" ><label for=\"124279f3-519e-4769-97e4-8606b75e02ee\" class=\"sk-toggleable__label sk-toggleable__label-arrow\">SimpleImputer</label><div class=\"sk-toggleable__content\"><pre>SimpleImputer()</pre></div></div></div><div class=\"sk-item\"><div class=\"sk-estimator sk-toggleable\"><input class=\"sk-toggleable__control sk-hidden--visually\" id=\"08cf4330-db0b-4d07-a2e4-d78dfa320e1a\" type=\"checkbox\" ><label for=\"08cf4330-db0b-4d07-a2e4-d78dfa320e1a\" class=\"sk-toggleable__label sk-toggleable__label-arrow\">StandardScaler</label><div class=\"sk-toggleable__content\"><pre>StandardScaler()</pre></div></div></div></div></div></div></div></div><div class=\"sk-parallel-item\"><div class=\"sk-item\"><div class=\"sk-label-container\"><div class=\"sk-label sk-toggleable\"><input class=\"sk-toggleable__control sk-hidden--visually\" id=\"76461b0b-71ff-44e8-850f-ca9f98fe83e0\" type=\"checkbox\" ><label for=\"76461b0b-71ff-44e8-850f-ca9f98fe83e0\" class=\"sk-toggleable__label sk-toggleable__label-arrow\">pipeline-2</label><div class=\"sk-toggleable__content\"><pre>&lt;sklearn.compose._column_transformer.make_column_selector object at 0x7f82114fd8d0&gt;</pre></div></div></div><div class=\"sk-serial\"><div class=\"sk-item\"><div class=\"sk-serial\"><div class=\"sk-item\"><div class=\"sk-estimator sk-toggleable\"><input class=\"sk-toggleable__control sk-hidden--visually\" id=\"b862edd6-01a4-44cf-95da-a3671c289e26\" type=\"checkbox\" ><label for=\"b862edd6-01a4-44cf-95da-a3671c289e26\" class=\"sk-toggleable__label sk-toggleable__label-arrow\">SimpleImputer</label><div class=\"sk-toggleable__content\"><pre>SimpleImputer(strategy=&#x27;most_frequent&#x27;)</pre></div></div></div><div class=\"sk-item\"><div class=\"sk-estimator sk-toggleable\"><input class=\"sk-toggleable__control sk-hidden--visually\" id=\"4b1c54f8-7d0b-4237-8ee0-16db1e08451e\" type=\"checkbox\" ><label for=\"4b1c54f8-7d0b-4237-8ee0-16db1e08451e\" class=\"sk-toggleable__label sk-toggleable__label-arrow\">OneHotEncoder</label><div class=\"sk-toggleable__content\"><pre>OneHotEncoder(handle_unknown=&#x27;ignore&#x27;, sparse=False)</pre></div></div></div></div></div></div></div></div><div class=\"sk-parallel-item\"><div class=\"sk-item\"><div class=\"sk-label-container\"><div class=\"sk-label sk-toggleable\"><input class=\"sk-toggleable__control sk-hidden--visually\" id=\"05361ca7-29b0-482b-9c12-7e271f03f3d8\" type=\"checkbox\" ><label for=\"05361ca7-29b0-482b-9c12-7e271f03f3d8\" class=\"sk-toggleable__label sk-toggleable__label-arrow\">pipeline-3</label><div class=\"sk-toggleable__content\"><pre>&lt;sklearn.compose._column_transformer.make_column_selector object at 0x7f82114fd8d0&gt;</pre></div></div></div><div class=\"sk-serial\"><div class=\"sk-item\"><div class=\"sk-serial\"><div class=\"sk-item\"><div class=\"sk-estimator sk-toggleable\"><input class=\"sk-toggleable__control sk-hidden--visually\" id=\"3e1bbfd3-cd7d-4402-8302-f6f18fc0b7f2\" type=\"checkbox\" ><label for=\"3e1bbfd3-cd7d-4402-8302-f6f18fc0b7f2\" class=\"sk-toggleable__label sk-toggleable__label-arrow\">SimpleImputer</label><div class=\"sk-toggleable__content\"><pre>SimpleImputer(strategy=&#x27;most_frequent&#x27;)</pre></div></div></div><div class=\"sk-item\"><div class=\"sk-estimator sk-toggleable\"><input class=\"sk-toggleable__control sk-hidden--visually\" id=\"f8f254d0-f674-4165-8441-f9658eebb26c\" type=\"checkbox\" ><label for=\"f8f254d0-f674-4165-8441-f9658eebb26c\" class=\"sk-toggleable__label sk-toggleable__label-arrow\">OrdinalEncoder</label><div class=\"sk-toggleable__content\"><pre>OrdinalEncoder()</pre></div></div></div></div></div></div></div></div><div class=\"sk-parallel-item\"><div class=\"sk-item\"><div class=\"sk-label-container\"><div class=\"sk-label sk-toggleable\"><input class=\"sk-toggleable__control sk-hidden--visually\" id=\"fe6ae3b3-4581-4115-91ac-c5f63a68ebb1\" type=\"checkbox\" ><label for=\"fe6ae3b3-4581-4115-91ac-c5f63a68ebb1\" class=\"sk-toggleable__label sk-toggleable__label-arrow\">remainder</label><div class=\"sk-toggleable__content\"><pre>[]</pre></div></div></div><div class=\"sk-serial\"><div class=\"sk-item\"><div class=\"sk-estimator sk-toggleable\"><input class=\"sk-toggleable__control sk-hidden--visually\" id=\"3850e499-70bd-4dff-a55d-d6c90e9bdb3b\" type=\"checkbox\" ><label for=\"3850e499-70bd-4dff-a55d-d6c90e9bdb3b\" class=\"sk-toggleable__label sk-toggleable__label-arrow\">passthrough</label><div class=\"sk-toggleable__content\"><pre>passthrough</pre></div></div></div></div></div></div></div></div></div></div>"
            ]
          },
          "metadata": {},
          "execution_count": 135
        }
      ]
    },
    {
      "cell_type": "markdown",
      "source": [
        "El codigo anterior nos permite ajustar el column transformer en nuestro espacio de entrenamiento, ajustando nuestros transformadores dentro del COLUMN TRANSFORMER."
      ],
      "metadata": {
        "id": "PeCqNN5-0S9x"
      }
    },
    {
      "cell_type": "code",
      "source": [
        "# Transformar datos de entrenamiento y de prueba\n",
        "X_train_processed = preprocessor.transform(X_train)\n",
        "X_test_processed = preprocessor.transform(X_test)"
      ],
      "metadata": {
        "id": "eCNIq1tjYnFt"
      },
      "execution_count": 136,
      "outputs": []
    },
    {
      "cell_type": "markdown",
      "source": [
        "11.Inspeccionar el resultado"
      ],
      "metadata": {
        "id": "5FMhCkdk1FKf"
      }
    },
    {
      "cell_type": "code",
      "source": [
        "print(np.isnan(X_train_processed).sum().sum(), 'valores faltantes en datos de entrenamiento')\n",
        "print(np.isnan(X_test_processed).sum().sum(), 'valores faltantes en datos de prueba')\n",
        "print('\\n')\n",
        "print('Toda la data en X_train_processed es', X_train_processed.dtype)\n",
        "print('Toda la data en X_test_processed es', X_test_processed.dtype)\n",
        "print('\\n')\n",
        "print('shape de la data es', X_train_processed.shape)\n",
        "print('\\n')\n",
        "X_train_processed"
      ],
      "metadata": {
        "colab": {
          "base_uri": "https://localhost:8080/"
        },
        "id": "AmwCjaX51JUZ",
        "outputId": "23234356-c3dd-48bc-b948-1577b8c7fc04"
      },
      "execution_count": 137,
      "outputs": [
        {
          "output_type": "stream",
          "name": "stdout",
          "text": [
            "0 valores faltantes en datos de entrenamiento\n",
            "0 valores faltantes en datos de prueba\n",
            "\n",
            "\n",
            "Toda la data en X_train_processed es float64\n",
            "Toda la data en X_test_processed es float64\n",
            "\n",
            "\n",
            "shape de la data es (6392, 32)\n",
            "\n",
            "\n"
          ]
        },
        {
          "output_type": "execute_result",
          "data": {
            "text/plain": [
              "array([[ 0.81724868,  0.7403206 , -0.71277507, ...,  9.        ,\n",
              "         2.        ,  2.        ],\n",
              "       [ 0.5563395 , -1.35076614, -1.29105225, ..., 13.        ,\n",
              "         2.        ,  2.        ],\n",
              "       [-0.13151196, -1.35076614,  1.81331864, ..., 10.        ,\n",
              "         0.        ,  1.        ],\n",
              "       ...,\n",
              "       [ 1.11373638,  0.7403206 , -0.92052713, ...,  8.        ,\n",
              "         1.        ,  1.        ],\n",
              "       [ 1.76600931,  0.7403206 , -0.2277552 , ..., 13.        ,\n",
              "         1.        ,  1.        ],\n",
              "       [ 0.81724868,  0.7403206 , -0.95867683, ...,  9.        ,\n",
              "         0.        ,  1.        ]])"
            ]
          },
          "metadata": {},
          "execution_count": 137
        }
      ]
    },
    {
      "cell_type": "markdown",
      "source": [
        "Como podemos leerlo en el array de numpy arrojado, no hay valores faltantes, todos los datos son de tipo numerico flotante y despues del one hot coder tenemos mas columnas que al inicio, ahora tenemos 1589 vs 32 columnas iniciales, todas fueron escaladas.\n",
        "\n",
        "\n",
        "Realizamos varias tranformaciones en un solo paso de transformacion, acortando el codigo."
      ],
      "metadata": {
        "id": "qmQP6ARE1oZl"
      }
    },
    {
      "cell_type": "markdown",
      "source": [
        "# **Modelo Regresion Lineal**"
      ],
      "metadata": {
        "id": "BXqQ5hRElbIK"
      }
    },
    {
      "cell_type": "markdown",
      "source": [
        "**Importar modelo**"
      ],
      "metadata": {
        "id": "fJrUL-LRnWPa"
      }
    },
    {
      "cell_type": "code",
      "source": [
        "from sklearn.linear_model import LinearRegression"
      ],
      "metadata": {
        "id": "8O6JITAvlgXC"
      },
      "execution_count": 138,
      "outputs": []
    },
    {
      "cell_type": "markdown",
      "source": [
        "**Instanciar el modelo**"
      ],
      "metadata": {
        "id": "Kgi7dTUjnfY0"
      }
    },
    {
      "cell_type": "code",
      "source": [
        "reg = LinearRegression()"
      ],
      "metadata": {
        "id": "RdnwGVKSniHi"
      },
      "execution_count": 139,
      "outputs": []
    },
    {
      "cell_type": "markdown",
      "source": [
        "**Entrenar el modelo**"
      ],
      "metadata": {
        "id": "wR2Uob4dnlcl"
      }
    },
    {
      "cell_type": "code",
      "source": [
        "reg.fit(X_train_processed,y_train)"
      ],
      "metadata": {
        "colab": {
          "base_uri": "https://localhost:8080/",
          "height": 75
        },
        "id": "PySQejcNnnYh",
        "outputId": "54a4b28d-217a-4a52-d19b-9bd2a94a9c1b"
      },
      "execution_count": 140,
      "outputs": [
        {
          "output_type": "execute_result",
          "data": {
            "text/plain": [
              "LinearRegression()"
            ],
            "text/html": [
              "<style>#sk-cb06690e-c9b2-42d8-942f-40cd55a69148 {color: black;background-color: white;}#sk-cb06690e-c9b2-42d8-942f-40cd55a69148 pre{padding: 0;}#sk-cb06690e-c9b2-42d8-942f-40cd55a69148 div.sk-toggleable {background-color: white;}#sk-cb06690e-c9b2-42d8-942f-40cd55a69148 label.sk-toggleable__label {cursor: pointer;display: block;width: 100%;margin-bottom: 0;padding: 0.3em;box-sizing: border-box;text-align: center;}#sk-cb06690e-c9b2-42d8-942f-40cd55a69148 label.sk-toggleable__label-arrow:before {content: \"▸\";float: left;margin-right: 0.25em;color: #696969;}#sk-cb06690e-c9b2-42d8-942f-40cd55a69148 label.sk-toggleable__label-arrow:hover:before {color: black;}#sk-cb06690e-c9b2-42d8-942f-40cd55a69148 div.sk-estimator:hover label.sk-toggleable__label-arrow:before {color: black;}#sk-cb06690e-c9b2-42d8-942f-40cd55a69148 div.sk-toggleable__content {max-height: 0;max-width: 0;overflow: hidden;text-align: left;background-color: #f0f8ff;}#sk-cb06690e-c9b2-42d8-942f-40cd55a69148 div.sk-toggleable__content pre {margin: 0.2em;color: black;border-radius: 0.25em;background-color: #f0f8ff;}#sk-cb06690e-c9b2-42d8-942f-40cd55a69148 input.sk-toggleable__control:checked~div.sk-toggleable__content {max-height: 200px;max-width: 100%;overflow: auto;}#sk-cb06690e-c9b2-42d8-942f-40cd55a69148 input.sk-toggleable__control:checked~label.sk-toggleable__label-arrow:before {content: \"▾\";}#sk-cb06690e-c9b2-42d8-942f-40cd55a69148 div.sk-estimator input.sk-toggleable__control:checked~label.sk-toggleable__label {background-color: #d4ebff;}#sk-cb06690e-c9b2-42d8-942f-40cd55a69148 div.sk-label input.sk-toggleable__control:checked~label.sk-toggleable__label {background-color: #d4ebff;}#sk-cb06690e-c9b2-42d8-942f-40cd55a69148 input.sk-hidden--visually {border: 0;clip: rect(1px 1px 1px 1px);clip: rect(1px, 1px, 1px, 1px);height: 1px;margin: -1px;overflow: hidden;padding: 0;position: absolute;width: 1px;}#sk-cb06690e-c9b2-42d8-942f-40cd55a69148 div.sk-estimator {font-family: monospace;background-color: #f0f8ff;border: 1px dotted black;border-radius: 0.25em;box-sizing: border-box;margin-bottom: 0.5em;}#sk-cb06690e-c9b2-42d8-942f-40cd55a69148 div.sk-estimator:hover {background-color: #d4ebff;}#sk-cb06690e-c9b2-42d8-942f-40cd55a69148 div.sk-parallel-item::after {content: \"\";width: 100%;border-bottom: 1px solid gray;flex-grow: 1;}#sk-cb06690e-c9b2-42d8-942f-40cd55a69148 div.sk-label:hover label.sk-toggleable__label {background-color: #d4ebff;}#sk-cb06690e-c9b2-42d8-942f-40cd55a69148 div.sk-serial::before {content: \"\";position: absolute;border-left: 1px solid gray;box-sizing: border-box;top: 2em;bottom: 0;left: 50%;}#sk-cb06690e-c9b2-42d8-942f-40cd55a69148 div.sk-serial {display: flex;flex-direction: column;align-items: center;background-color: white;padding-right: 0.2em;padding-left: 0.2em;}#sk-cb06690e-c9b2-42d8-942f-40cd55a69148 div.sk-item {z-index: 1;}#sk-cb06690e-c9b2-42d8-942f-40cd55a69148 div.sk-parallel {display: flex;align-items: stretch;justify-content: center;background-color: white;}#sk-cb06690e-c9b2-42d8-942f-40cd55a69148 div.sk-parallel::before {content: \"\";position: absolute;border-left: 1px solid gray;box-sizing: border-box;top: 2em;bottom: 0;left: 50%;}#sk-cb06690e-c9b2-42d8-942f-40cd55a69148 div.sk-parallel-item {display: flex;flex-direction: column;position: relative;background-color: white;}#sk-cb06690e-c9b2-42d8-942f-40cd55a69148 div.sk-parallel-item:first-child::after {align-self: flex-end;width: 50%;}#sk-cb06690e-c9b2-42d8-942f-40cd55a69148 div.sk-parallel-item:last-child::after {align-self: flex-start;width: 50%;}#sk-cb06690e-c9b2-42d8-942f-40cd55a69148 div.sk-parallel-item:only-child::after {width: 0;}#sk-cb06690e-c9b2-42d8-942f-40cd55a69148 div.sk-dashed-wrapped {border: 1px dashed gray;margin: 0 0.4em 0.5em 0.4em;box-sizing: border-box;padding-bottom: 0.4em;background-color: white;position: relative;}#sk-cb06690e-c9b2-42d8-942f-40cd55a69148 div.sk-label label {font-family: monospace;font-weight: bold;background-color: white;display: inline-block;line-height: 1.2em;}#sk-cb06690e-c9b2-42d8-942f-40cd55a69148 div.sk-label-container {position: relative;z-index: 2;text-align: center;}#sk-cb06690e-c9b2-42d8-942f-40cd55a69148 div.sk-container {/* jupyter's `normalize.less` sets `[hidden] { display: none; }` but bootstrap.min.css set `[hidden] { display: none !important; }` so we also need the `!important` here to be able to override the default hidden behavior on the sphinx rendered scikit-learn.org. See: https://github.com/scikit-learn/scikit-learn/issues/21755 */display: inline-block !important;position: relative;}#sk-cb06690e-c9b2-42d8-942f-40cd55a69148 div.sk-text-repr-fallback {display: none;}</style><div id=\"sk-cb06690e-c9b2-42d8-942f-40cd55a69148\" class=\"sk-top-container\"><div class=\"sk-text-repr-fallback\"><pre>LinearRegression()</pre><b>Please rerun this cell to show the HTML repr or trust the notebook.</b></div><div class=\"sk-container\" hidden><div class=\"sk-item\"><div class=\"sk-estimator sk-toggleable\"><input class=\"sk-toggleable__control sk-hidden--visually\" id=\"9431cb41-d2e8-4968-b76c-b0f589d3fe00\" type=\"checkbox\" checked><label for=\"9431cb41-d2e8-4968-b76c-b0f589d3fe00\" class=\"sk-toggleable__label sk-toggleable__label-arrow\">LinearRegression</label><div class=\"sk-toggleable__content\"><pre>LinearRegression()</pre></div></div></div></div></div>"
            ]
          },
          "metadata": {},
          "execution_count": 140
        }
      ]
    },
    {
      "cell_type": "markdown",
      "source": [
        "# **Medición del rendimiento del modelo**"
      ],
      "metadata": {
        "id": "lmXwfSe4nwz8"
      }
    },
    {
      "cell_type": "markdown",
      "source": [
        "# **Coeficiente de Determinacion**"
      ],
      "metadata": {
        "id": "d2rQIQiF3eC-"
      }
    },
    {
      "cell_type": "code",
      "source": [
        "train_score = reg.score(X_train_processed, y_train)\n",
        "print(train_score)"
      ],
      "metadata": {
        "colab": {
          "base_uri": "https://localhost:8080/"
        },
        "id": "hwgPQySSnyt0",
        "outputId": "37d36599-df4b-45e7-b940-3a1824031219"
      },
      "execution_count": 141,
      "outputs": [
        {
          "output_type": "stream",
          "name": "stdout",
          "text": [
            "0.5605660416716669\n"
          ]
        }
      ]
    },
    {
      "cell_type": "markdown",
      "source": [
        "Se calcula coeficiente de determinacion para evaluar el modelo, la anterior metrica nos indica que el 56.05% de la variación en las ventas se puede explicar por las características de nuestro modelo."
      ],
      "metadata": {
        "id": "2_rI2K_cn4A2"
      }
    },
    {
      "cell_type": "code",
      "source": [
        "test_score = reg.score(X_test_processed, y_test)\n",
        "print(test_score)"
      ],
      "metadata": {
        "colab": {
          "base_uri": "https://localhost:8080/"
        },
        "id": "6-3FgxBKohMB",
        "outputId": "c86c700d-050c-4840-bdb3-d963f6b74772"
      },
      "execution_count": 142,
      "outputs": [
        {
          "output_type": "stream",
          "name": "stdout",
          "text": [
            "0.5658422861507393\n"
          ]
        }
      ]
    },
    {
      "cell_type": "markdown",
      "source": [
        "**Obtencion de predicciones**"
      ],
      "metadata": {
        "id": "1w6EU5Kn29wF"
      }
    },
    {
      "cell_type": "code",
      "source": [
        "train_pred_reg = reg.predict(X_train_processed)\n",
        "\n",
        "test_pred_reg = reg.predict(X_test_processed)"
      ],
      "metadata": {
        "id": "6pm5RhcH3AS0"
      },
      "execution_count": 143,
      "outputs": []
    },
    {
      "cell_type": "markdown",
      "source": [
        "# **RECM**"
      ],
      "metadata": {
        "id": "fdGbzA7A3pTB"
      }
    },
    {
      "cell_type": "code",
      "source": [
        "import numpy as np\n",
        "from sklearn.metrics import r2_score\n",
        "from sklearn.metrics import mean_absolute_error\n",
        "from sklearn.metrics import mean_squared_error"
      ],
      "metadata": {
        "id": "7XArt3MG3lzk"
      },
      "execution_count": 144,
      "outputs": []
    },
    {
      "cell_type": "markdown",
      "source": [
        "Para calcular el RECM debemos primero calcular el ECM asi:\n"
      ],
      "metadata": {
        "id": "wDox2l8S4eDC"
      }
    },
    {
      "cell_type": "code",
      "source": [
        "mse_train = mean_squared_error(y_train, train_pred_reg)\n",
        "mse_test = mean_squared_error(y_test, test_pred_reg)"
      ],
      "metadata": {
        "id": "VStejoxS4rUg"
      },
      "execution_count": 145,
      "outputs": []
    },
    {
      "cell_type": "code",
      "source": [
        "rmse_train = np.sqrt(mean_squared_error(y_train, train_pred_reg))\n",
        "rmse_test = np.sqrt(mean_squared_error(y_test, test_pred_reg))"
      ],
      "metadata": {
        "id": "zODYZzUX48sv"
      },
      "execution_count": 146,
      "outputs": []
    },
    {
      "cell_type": "code",
      "source": [
        "rmse_test"
      ],
      "metadata": {
        "colab": {
          "base_uri": "https://localhost:8080/"
        },
        "id": "O02mTTqK5NAO",
        "outputId": "01b24627-fb27-4b43-e842-a7066c9bf29a"
      },
      "execution_count": 147,
      "outputs": [
        {
          "output_type": "execute_result",
          "data": {
            "text/plain": [
              "1094.4547829107291"
            ]
          },
          "metadata": {},
          "execution_count": 147
        }
      ]
    },
    {
      "cell_type": "code",
      "source": [
        "rmse_train"
      ],
      "metadata": {
        "colab": {
          "base_uri": "https://localhost:8080/"
        },
        "id": "6DXAqjMS5IbA",
        "outputId": "ad9c9471-092b-434e-fa98-a3c27fcb98a9"
      },
      "execution_count": 148,
      "outputs": [
        {
          "output_type": "execute_result",
          "data": {
            "text/plain": [
              "1140.3882386001144"
            ]
          },
          "metadata": {},
          "execution_count": 148
        }
      ]
    },
    {
      "cell_type": "code",
      "source": [
        "y_train"
      ],
      "metadata": {
        "colab": {
          "base_uri": "https://localhost:8080/"
        },
        "id": "xHt_2XJTKyqY",
        "outputId": "b8d3fe2f-d21c-41c1-d0b4-0c701261e924"
      },
      "execution_count": 149,
      "outputs": [
        {
          "output_type": "execute_result",
          "data": {
            "text/plain": [
              "4776     515.3292\n",
              "7510    3056.0220\n",
              "5828    1577.9460\n",
              "5327    1331.6000\n",
              "4810    1687.1372\n",
              "          ...    \n",
              "5734     280.9676\n",
              "5191    1301.6390\n",
              "5390    6145.3340\n",
              "860     1649.8524\n",
              "7270     965.4100\n",
              "Name: Item_Outlet_Sales, Length: 6392, dtype: float64"
            ]
          },
          "metadata": {},
          "execution_count": 149
        }
      ]
    },
    {
      "cell_type": "code",
      "source": [
        "y_test"
      ],
      "metadata": {
        "colab": {
          "base_uri": "https://localhost:8080/"
        },
        "id": "Hv3mZBkGn2k1",
        "outputId": "8d144073-3be2-4c52-babf-14437cd4079b"
      },
      "execution_count": 150,
      "outputs": [
        {
          "output_type": "execute_result",
          "data": {
            "text/plain": [
              "7503    1743.0644\n",
              "2957     356.8688\n",
              "7031     377.5086\n",
              "1084    5778.4782\n",
              "856     2356.9320\n",
              "          ...    \n",
              "4753    3793.7284\n",
              "4836    2410.8618\n",
              "8064    5309.7550\n",
              "4418    2530.7058\n",
              "1784    4138.6128\n",
              "Name: Item_Outlet_Sales, Length: 2131, dtype: float64"
            ]
          },
          "metadata": {},
          "execution_count": 150
        }
      ]
    },
    {
      "cell_type": "markdown",
      "source": [
        "Revisando loos resultados obtenidos en MSE y RMSE que aunque son altos son validos si nos fijamos en nuestra variable resultado, lo que nos esta indicando dicha metrica es que tenemos una desviacion de 1094 USD en nuestras ventas, lo cual es acorde a nuestro score de R2 que nos esta dando en un 56,5%, un modelo que tiene alto desajuste."
      ],
      "metadata": {
        "id": "BWovubkmLRvb"
      }
    },
    {
      "cell_type": "markdown",
      "source": [
        "# **ARBOL DE REGRESIÓN**"
      ],
      "metadata": {
        "id": "VRiJ_rvp_jKc"
      }
    },
    {
      "cell_type": "markdown",
      "source": [
        "**Importar el modelo a usar**"
      ],
      "metadata": {
        "id": "hD7easMXANw0"
      }
    },
    {
      "cell_type": "code",
      "source": [
        "from sklearn.tree import DecisionTreeRegressor"
      ],
      "metadata": {
        "id": "y77wCMAF_wNm"
      },
      "execution_count": 151,
      "outputs": []
    },
    {
      "cell_type": "markdown",
      "source": [
        "**Hacer una instancia del modelo**"
      ],
      "metadata": {
        "id": "Ju_OV_qlAWs1"
      }
    },
    {
      "cell_type": "code",
      "source": [
        "dec_tree = DecisionTreeRegressor(random_state = 42)"
      ],
      "metadata": {
        "id": "3sUFhJXnAEQo"
      },
      "execution_count": 152,
      "outputs": []
    },
    {
      "cell_type": "markdown",
      "source": [
        "**Ajustar el modelo**"
      ],
      "metadata": {
        "id": "Uqq4T47MAjMB"
      }
    },
    {
      "cell_type": "code",
      "source": [
        "dec_tree.fit(X_train_processed, y_train)"
      ],
      "metadata": {
        "colab": {
          "base_uri": "https://localhost:8080/",
          "height": 75
        },
        "id": "96qLQPIDAHCw",
        "outputId": "aba640c8-1b01-4e9a-de60-be796a2324ca"
      },
      "execution_count": 153,
      "outputs": [
        {
          "output_type": "execute_result",
          "data": {
            "text/plain": [
              "DecisionTreeRegressor(random_state=42)"
            ],
            "text/html": [
              "<style>#sk-76466542-114b-4948-8787-b53b00a364d3 {color: black;background-color: white;}#sk-76466542-114b-4948-8787-b53b00a364d3 pre{padding: 0;}#sk-76466542-114b-4948-8787-b53b00a364d3 div.sk-toggleable {background-color: white;}#sk-76466542-114b-4948-8787-b53b00a364d3 label.sk-toggleable__label {cursor: pointer;display: block;width: 100%;margin-bottom: 0;padding: 0.3em;box-sizing: border-box;text-align: center;}#sk-76466542-114b-4948-8787-b53b00a364d3 label.sk-toggleable__label-arrow:before {content: \"▸\";float: left;margin-right: 0.25em;color: #696969;}#sk-76466542-114b-4948-8787-b53b00a364d3 label.sk-toggleable__label-arrow:hover:before {color: black;}#sk-76466542-114b-4948-8787-b53b00a364d3 div.sk-estimator:hover label.sk-toggleable__label-arrow:before {color: black;}#sk-76466542-114b-4948-8787-b53b00a364d3 div.sk-toggleable__content {max-height: 0;max-width: 0;overflow: hidden;text-align: left;background-color: #f0f8ff;}#sk-76466542-114b-4948-8787-b53b00a364d3 div.sk-toggleable__content pre {margin: 0.2em;color: black;border-radius: 0.25em;background-color: #f0f8ff;}#sk-76466542-114b-4948-8787-b53b00a364d3 input.sk-toggleable__control:checked~div.sk-toggleable__content {max-height: 200px;max-width: 100%;overflow: auto;}#sk-76466542-114b-4948-8787-b53b00a364d3 input.sk-toggleable__control:checked~label.sk-toggleable__label-arrow:before {content: \"▾\";}#sk-76466542-114b-4948-8787-b53b00a364d3 div.sk-estimator input.sk-toggleable__control:checked~label.sk-toggleable__label {background-color: #d4ebff;}#sk-76466542-114b-4948-8787-b53b00a364d3 div.sk-label input.sk-toggleable__control:checked~label.sk-toggleable__label {background-color: #d4ebff;}#sk-76466542-114b-4948-8787-b53b00a364d3 input.sk-hidden--visually {border: 0;clip: rect(1px 1px 1px 1px);clip: rect(1px, 1px, 1px, 1px);height: 1px;margin: -1px;overflow: hidden;padding: 0;position: absolute;width: 1px;}#sk-76466542-114b-4948-8787-b53b00a364d3 div.sk-estimator {font-family: monospace;background-color: #f0f8ff;border: 1px dotted black;border-radius: 0.25em;box-sizing: border-box;margin-bottom: 0.5em;}#sk-76466542-114b-4948-8787-b53b00a364d3 div.sk-estimator:hover {background-color: #d4ebff;}#sk-76466542-114b-4948-8787-b53b00a364d3 div.sk-parallel-item::after {content: \"\";width: 100%;border-bottom: 1px solid gray;flex-grow: 1;}#sk-76466542-114b-4948-8787-b53b00a364d3 div.sk-label:hover label.sk-toggleable__label {background-color: #d4ebff;}#sk-76466542-114b-4948-8787-b53b00a364d3 div.sk-serial::before {content: \"\";position: absolute;border-left: 1px solid gray;box-sizing: border-box;top: 2em;bottom: 0;left: 50%;}#sk-76466542-114b-4948-8787-b53b00a364d3 div.sk-serial {display: flex;flex-direction: column;align-items: center;background-color: white;padding-right: 0.2em;padding-left: 0.2em;}#sk-76466542-114b-4948-8787-b53b00a364d3 div.sk-item {z-index: 1;}#sk-76466542-114b-4948-8787-b53b00a364d3 div.sk-parallel {display: flex;align-items: stretch;justify-content: center;background-color: white;}#sk-76466542-114b-4948-8787-b53b00a364d3 div.sk-parallel::before {content: \"\";position: absolute;border-left: 1px solid gray;box-sizing: border-box;top: 2em;bottom: 0;left: 50%;}#sk-76466542-114b-4948-8787-b53b00a364d3 div.sk-parallel-item {display: flex;flex-direction: column;position: relative;background-color: white;}#sk-76466542-114b-4948-8787-b53b00a364d3 div.sk-parallel-item:first-child::after {align-self: flex-end;width: 50%;}#sk-76466542-114b-4948-8787-b53b00a364d3 div.sk-parallel-item:last-child::after {align-self: flex-start;width: 50%;}#sk-76466542-114b-4948-8787-b53b00a364d3 div.sk-parallel-item:only-child::after {width: 0;}#sk-76466542-114b-4948-8787-b53b00a364d3 div.sk-dashed-wrapped {border: 1px dashed gray;margin: 0 0.4em 0.5em 0.4em;box-sizing: border-box;padding-bottom: 0.4em;background-color: white;position: relative;}#sk-76466542-114b-4948-8787-b53b00a364d3 div.sk-label label {font-family: monospace;font-weight: bold;background-color: white;display: inline-block;line-height: 1.2em;}#sk-76466542-114b-4948-8787-b53b00a364d3 div.sk-label-container {position: relative;z-index: 2;text-align: center;}#sk-76466542-114b-4948-8787-b53b00a364d3 div.sk-container {/* jupyter's `normalize.less` sets `[hidden] { display: none; }` but bootstrap.min.css set `[hidden] { display: none !important; }` so we also need the `!important` here to be able to override the default hidden behavior on the sphinx rendered scikit-learn.org. See: https://github.com/scikit-learn/scikit-learn/issues/21755 */display: inline-block !important;position: relative;}#sk-76466542-114b-4948-8787-b53b00a364d3 div.sk-text-repr-fallback {display: none;}</style><div id=\"sk-76466542-114b-4948-8787-b53b00a364d3\" class=\"sk-top-container\"><div class=\"sk-text-repr-fallback\"><pre>DecisionTreeRegressor(random_state=42)</pre><b>Please rerun this cell to show the HTML repr or trust the notebook.</b></div><div class=\"sk-container\" hidden><div class=\"sk-item\"><div class=\"sk-estimator sk-toggleable\"><input class=\"sk-toggleable__control sk-hidden--visually\" id=\"88255136-ee37-4c7d-b840-ebb76da88399\" type=\"checkbox\" checked><label for=\"88255136-ee37-4c7d-b840-ebb76da88399\" class=\"sk-toggleable__label sk-toggleable__label-arrow\">DecisionTreeRegressor</label><div class=\"sk-toggleable__content\"><pre>DecisionTreeRegressor(random_state=42)</pre></div></div></div></div></div>"
            ]
          },
          "metadata": {},
          "execution_count": 153
        }
      ]
    },
    {
      "cell_type": "markdown",
      "source": [
        "**Predecir valores**"
      ],
      "metadata": {
        "id": "jbZBCTghAnQM"
      }
    },
    {
      "cell_type": "code",
      "source": [
        "train_pred_1 = dec_tree.predict(X_train_processed)\n",
        "test_pred_1= dec_tree.predict(X_test_processed)"
      ],
      "metadata": {
        "id": "rn0IsOY4AqsQ"
      },
      "execution_count": 154,
      "outputs": []
    },
    {
      "cell_type": "markdown",
      "source": [
        "**Evaluar rendimiento modelo**"
      ],
      "metadata": {
        "id": "je0uPOPlA1KB"
      }
    },
    {
      "cell_type": "code",
      "source": [
        "train_score_1 = dec_tree.score(X_train_processed, y_train)\n",
        "test_score_1 = dec_tree.score(X_test_processed, y_test)\n",
        "\n",
        "print(train_score_1)\n",
        "print(test_score_1)"
      ],
      "metadata": {
        "colab": {
          "base_uri": "https://localhost:8080/"
        },
        "id": "dYxU8N8dA4z3",
        "outputId": "acb4233a-3d85-435f-b3b2-2a1a2c5c7c73"
      },
      "execution_count": 155,
      "outputs": [
        {
          "output_type": "stream",
          "name": "stdout",
          "text": [
            "1.0\n",
            "0.18644905612912144\n"
          ]
        }
      ]
    },
    {
      "cell_type": "markdown",
      "source": [
        "Al ejecutar el árbol de regresión observamos un deficiente ajuste de nuestro modelo (presenta overfitting, funciona perfecto en conjunto de entrenamiento pero es muy deficiente en conjunto de prueba), debemos revisar la profundidad de nuestro árbol, si esta muy grande, es apropiado hipertunear alguno de los parámetros y ver cómo se va comportando el modelo, en esta ocasión voy a utilizar la profundidad y ver como se comporta el resultado."
      ],
      "metadata": {
        "id": "NjRqwd14MX71"
      }
    },
    {
      "cell_type": "markdown",
      "source": [
        "**Ajustar el modelo**"
      ],
      "metadata": {
        "id": "oXHCHsXPBJSi"
      }
    },
    {
      "cell_type": "code",
      "source": [
        "#Se llaman los hiperparametros que son ajustables para mejorar el modelo\n",
        "dec_tree.get_params()"
      ],
      "metadata": {
        "colab": {
          "base_uri": "https://localhost:8080/"
        },
        "id": "IW_gVCpcBLHK",
        "outputId": "ffc09e88-c9cf-4c6f-8be2-c88ee2b99466"
      },
      "execution_count": 156,
      "outputs": [
        {
          "output_type": "execute_result",
          "data": {
            "text/plain": [
              "{'ccp_alpha': 0.0,\n",
              " 'criterion': 'squared_error',\n",
              " 'max_depth': None,\n",
              " 'max_features': None,\n",
              " 'max_leaf_nodes': None,\n",
              " 'min_impurity_decrease': 0.0,\n",
              " 'min_samples_leaf': 1,\n",
              " 'min_samples_split': 2,\n",
              " 'min_weight_fraction_leaf': 0.0,\n",
              " 'random_state': 42,\n",
              " 'splitter': 'best'}"
            ]
          },
          "metadata": {},
          "execution_count": 156
        }
      ]
    },
    {
      "cell_type": "code",
      "source": [
        "# Esta es la profundidad inicial de nuestro arbol\n",
        "dec_tree.get_depth()"
      ],
      "metadata": {
        "colab": {
          "base_uri": "https://localhost:8080/"
        },
        "id": "Yjy_qBiEBS6K",
        "outputId": "bc4f8013-4bf6-4d25-d152-aeb693beb741"
      },
      "execution_count": 157,
      "outputs": [
        {
          "output_type": "execute_result",
          "data": {
            "text/plain": [
              "37"
            ]
          },
          "metadata": {},
          "execution_count": 157
        }
      ]
    },
    {
      "cell_type": "code",
      "source": [
        "# Nuestro arbol tiene 6.268 nodos hojas\n",
        "dec_tree.get_n_leaves()"
      ],
      "metadata": {
        "colab": {
          "base_uri": "https://localhost:8080/"
        },
        "id": "T1BLIoMoBgtu",
        "outputId": "da674847-aea7-44f3-b42b-c3a740398013"
      },
      "execution_count": 158,
      "outputs": [
        {
          "output_type": "execute_result",
          "data": {
            "text/plain": [
              "6268"
            ]
          },
          "metadata": {},
          "execution_count": 158
        }
      ]
    },
    {
      "cell_type": "code",
      "source": [
        "# Lista de valores a probar para calcular el valor de max_depth:\n",
        "\n",
        "max_profundidad_rango = list(range(2, 37))# calcula un valor entre 2 y 37\n",
        "\n",
        "# Se almacena la puntuacion de cada valor\n",
        "\n",
        "r2 = []\n",
        "for depth in max_profundidad_rango:\n",
        "    dec_tree = DecisionTreeRegressor(max_depth = depth, \n",
        "                             random_state = 42)\n",
        "    dec_tree.fit(X_train_processed, y_train)\n",
        "    score = dec_tree.score(X_test_processed, y_test)\n",
        "    r2.append(score)"
      ],
      "metadata": {
        "id": "Fdz6AYVfB1vA"
      },
      "execution_count": 164,
      "outputs": []
    },
    {
      "cell_type": "code",
      "source": [
        "# Visualizar qué valor de max_depth lleva a una puntuación R2 más alta\n",
        "\n",
        "import matplotlib.pyplot as plt\n",
        "plt.plot(max_profundidad_rango, r2, color = 'red')\n",
        "plt.xlabel('max_depth', fontsize = 13 , color = 'blue')\n",
        "plt.ylabel('R2',fontsize = 13 , color = 'blue');\n",
        "plt.title('Profundidad optima Árbol de Regresión', fontsize = 16 , color = 'blue')"
      ],
      "metadata": {
        "colab": {
          "base_uri": "https://localhost:8080/",
          "height": 321
        },
        "id": "BLzIVS5cDD56",
        "outputId": "d536bbff-2319-470f-8f49-414c45dbfb55"
      },
      "execution_count": 165,
      "outputs": [
        {
          "output_type": "execute_result",
          "data": {
            "text/plain": [
              "Text(0.5, 1.0, 'Profundidad optima Árbol de Regresión')"
            ]
          },
          "metadata": {},
          "execution_count": 165
        },
        {
          "output_type": "display_data",
          "data": {
            "text/plain": [
              "<Figure size 432x288 with 1 Axes>"
            ],
            "image/png": "[encoded data removed]"
          },
          "metadata": {
            "needs_background": "light"
          }
        }
      ]
    },
    {
      "cell_type": "code",
      "source": [
        "dec_tree_5 = DecisionTreeRegressor(max_depth = 5, random_state = 42)\n",
        "dec_tree_5.fit(X_train_processed, y_train)\n",
        "train_5_score = dec_tree_5.score(X_train_processed, y_train)\n",
        "test_5_score = dec_tree_5.score(X_test_processed, y_test)\n",
        "print(train_5_score)\n",
        "print(test_5_score)"
      ],
      "metadata": {
        "colab": {
          "base_uri": "https://localhost:8080/"
        },
        "id": "yOnIlrx5NhTn",
        "outputId": "44b493c3-0c57-415a-986a-a087d08d76fd"
      },
      "execution_count": 166,
      "outputs": [
        {
          "output_type": "stream",
          "name": "stdout",
          "text": [
            "0.6039397477322956\n",
            "0.5947099753159972\n"
          ]
        }
      ]
    },
    {
      "cell_type": "code",
      "source": [
        "y_test"
      ],
      "metadata": {
        "colab": {
          "base_uri": "https://localhost:8080/"
        },
        "id": "xtbcSsx4nxhb",
        "outputId": "b01ea5d5-8ce4-4514-ffb6-e6bae0821532"
      },
      "execution_count": 162,
      "outputs": [
        {
          "output_type": "execute_result",
          "data": {
            "text/plain": [
              "7503    1743.0644\n",
              "2957     356.8688\n",
              "7031     377.5086\n",
              "1084    5778.4782\n",
              "856     2356.9320\n",
              "          ...    \n",
              "4753    3793.7284\n",
              "4836    2410.8618\n",
              "8064    5309.7550\n",
              "4418    2530.7058\n",
              "1784    4138.6128\n",
              "Name: Item_Outlet_Sales, Length: 2131, dtype: float64"
            ]
          },
          "metadata": {},
          "execution_count": 162
        }
      ]
    },
    {
      "cell_type": "code",
      "source": [
        "from sklearn.tree import DecisionTreeRegressor\n",
        "tree_reg = DecisionTreeRegressor(max_depth=5) # Prueba cambiar el hiperparámetro de profundidad máxima!\n",
        "tree_reg.fit(X_train_processed, y_train)"
      ],
      "metadata": {
        "colab": {
          "base_uri": "https://localhost:8080/",
          "height": 75
        },
        "id": "Bn_N8hDkrA-x",
        "outputId": "f14a7737-78d1-4dce-e683-63ac305418e1"
      },
      "execution_count": 163,
      "outputs": [
        {
          "output_type": "execute_result",
          "data": {
            "text/plain": [
              "DecisionTreeRegressor(max_depth=5)"
            ],
            "text/html": [
              "<style>#sk-26a4e7f3-42fe-40a2-8646-5f99a294187c {color: black;background-color: white;}#sk-26a4e7f3-42fe-40a2-8646-5f99a294187c pre{padding: 0;}#sk-26a4e7f3-42fe-40a2-8646-5f99a294187c div.sk-toggleable {background-color: white;}#sk-26a4e7f3-42fe-40a2-8646-5f99a294187c label.sk-toggleable__label {cursor: pointer;display: block;width: 100%;margin-bottom: 0;padding: 0.3em;box-sizing: border-box;text-align: center;}#sk-26a4e7f3-42fe-40a2-8646-5f99a294187c label.sk-toggleable__label-arrow:before {content: \"▸\";float: left;margin-right: 0.25em;color: #696969;}#sk-26a4e7f3-42fe-40a2-8646-5f99a294187c label.sk-toggleable__label-arrow:hover:before {color: black;}#sk-26a4e7f3-42fe-40a2-8646-5f99a294187c div.sk-estimator:hover label.sk-toggleable__label-arrow:before {color: black;}#sk-26a4e7f3-42fe-40a2-8646-5f99a294187c div.sk-toggleable__content {max-height: 0;max-width: 0;overflow: hidden;text-align: left;background-color: #f0f8ff;}#sk-26a4e7f3-42fe-40a2-8646-5f99a294187c div.sk-toggleable__content pre {margin: 0.2em;color: black;border-radius: 0.25em;background-color: #f0f8ff;}#sk-26a4e7f3-42fe-40a2-8646-5f99a294187c input.sk-toggleable__control:checked~div.sk-toggleable__content {max-height: 200px;max-width: 100%;overflow: auto;}#sk-26a4e7f3-42fe-40a2-8646-5f99a294187c input.sk-toggleable__control:checked~label.sk-toggleable__label-arrow:before {content: \"▾\";}#sk-26a4e7f3-42fe-40a2-8646-5f99a294187c div.sk-estimator input.sk-toggleable__control:checked~label.sk-toggleable__label {background-color: #d4ebff;}#sk-26a4e7f3-42fe-40a2-8646-5f99a294187c div.sk-label input.sk-toggleable__control:checked~label.sk-toggleable__label {background-color: #d4ebff;}#sk-26a4e7f3-42fe-40a2-8646-5f99a294187c input.sk-hidden--visually {border: 0;clip: rect(1px 1px 1px 1px);clip: rect(1px, 1px, 1px, 1px);height: 1px;margin: -1px;overflow: hidden;padding: 0;position: absolute;width: 1px;}#sk-26a4e7f3-42fe-40a2-8646-5f99a294187c div.sk-estimator {font-family: monospace;background-color: #f0f8ff;border: 1px dotted black;border-radius: 0.25em;box-sizing: border-box;margin-bottom: 0.5em;}#sk-26a4e7f3-42fe-40a2-8646-5f99a294187c div.sk-estimator:hover {background-color: #d4ebff;}#sk-26a4e7f3-42fe-40a2-8646-5f99a294187c div.sk-parallel-item::after {content: \"\";width: 100%;border-bottom: 1px solid gray;flex-grow: 1;}#sk-26a4e7f3-42fe-40a2-8646-5f99a294187c div.sk-label:hover label.sk-toggleable__label {background-color: #d4ebff;}#sk-26a4e7f3-42fe-40a2-8646-5f99a294187c div.sk-serial::before {content: \"\";position: absolute;border-left: 1px solid gray;box-sizing: border-box;top: 2em;bottom: 0;left: 50%;}#sk-26a4e7f3-42fe-40a2-8646-5f99a294187c div.sk-serial {display: flex;flex-direction: column;align-items: center;background-color: white;padding-right: 0.2em;padding-left: 0.2em;}#sk-26a4e7f3-42fe-40a2-8646-5f99a294187c div.sk-item {z-index: 1;}#sk-26a4e7f3-42fe-40a2-8646-5f99a294187c div.sk-parallel {display: flex;align-items: stretch;justify-content: center;background-color: white;}#sk-26a4e7f3-42fe-40a2-8646-5f99a294187c div.sk-parallel::before {content: \"\";position: absolute;border-left: 1px solid gray;box-sizing: border-box;top: 2em;bottom: 0;left: 50%;}#sk-26a4e7f3-42fe-40a2-8646-5f99a294187c div.sk-parallel-item {display: flex;flex-direction: column;position: relative;background-color: white;}#sk-26a4e7f3-42fe-40a2-8646-5f99a294187c div.sk-parallel-item:first-child::after {align-self: flex-end;width: 50%;}#sk-26a4e7f3-42fe-40a2-8646-5f99a294187c div.sk-parallel-item:last-child::after {align-self: flex-start;width: 50%;}#sk-26a4e7f3-42fe-40a2-8646-5f99a294187c div.sk-parallel-item:only-child::after {width: 0;}#sk-26a4e7f3-42fe-40a2-8646-5f99a294187c div.sk-dashed-wrapped {border: 1px dashed gray;margin: 0 0.4em 0.5em 0.4em;box-sizing: border-box;padding-bottom: 0.4em;background-color: white;position: relative;}#sk-26a4e7f3-42fe-40a2-8646-5f99a294187c div.sk-label label {font-family: monospace;font-weight: bold;background-color: white;display: inline-block;line-height: 1.2em;}#sk-26a4e7f3-42fe-40a2-8646-5f99a294187c div.sk-label-container {position: relative;z-index: 2;text-align: center;}#sk-26a4e7f3-42fe-40a2-8646-5f99a294187c div.sk-container {/* jupyter's `normalize.less` sets `[hidden] { display: none; }` but bootstrap.min.css set `[hidden] { display: none !important; }` so we also need the `!important` here to be able to override the default hidden behavior on the sphinx rendered scikit-learn.org. See: https://github.com/scikit-learn/scikit-learn/issues/21755 */display: inline-block !important;position: relative;}#sk-26a4e7f3-42fe-40a2-8646-5f99a294187c div.sk-text-repr-fallback {display: none;}</style><div id=\"sk-26a4e7f3-42fe-40a2-8646-5f99a294187c\" class=\"sk-top-container\"><div class=\"sk-text-repr-fallback\"><pre>DecisionTreeRegressor(max_depth=5)</pre><b>Please rerun this cell to show the HTML repr or trust the notebook.</b></div><div class=\"sk-container\" hidden><div class=\"sk-item\"><div class=\"sk-estimator sk-toggleable\"><input class=\"sk-toggleable__control sk-hidden--visually\" id=\"147fe989-0944-4617-bcb1-51c626bff24f\" type=\"checkbox\" checked><label for=\"147fe989-0944-4617-bcb1-51c626bff24f\" class=\"sk-toggleable__label sk-toggleable__label-arrow\">DecisionTreeRegressor</label><div class=\"sk-toggleable__content\"><pre>DecisionTreeRegressor(max_depth=5)</pre></div></div></div></div></div>"
            ]
          },
          "metadata": {},
          "execution_count": 163
        }
      ]
    },
    {
      "cell_type": "markdown",
      "source": [
        "Validando la profundidad óptima que deberia tener nuestro árbol es 5 nodos, lo cual mejora nuestro score de 19% a 59% en nuestro set de prueba."
      ],
      "metadata": {
        "id": "UTBxYY_FDQbm"
      }
    },
    {
      "cell_type": "markdown",
      "source": [
        "Una vez aplicado diferentes métricas para medir el rendimiento de nuestro modelo, es apropiado decir que el modelo bajo un arbol de regresión tiene mejores resultados si lo comparamos con el coeficiente de determinación calculado bajo regresión lineal (pasamos de 56% a un 59%), manteniendose la tendencia deficiente en los resultados de predicción de nuestro modelo.\n",
        "Situación similar corre si comparamos este resultado con el obtenido por RMSE , ya que por este último el error obtenido es muy alto.\n",
        "\n",
        "Por lo anterior, el modelo que recomiendo implementar es el arbol de regresion ya que los datos de prediccion en set de prueba son mas optimos."
      ],
      "metadata": {
        "id": "qHSEtx_YpPmg"
      }
    }
  ]
}