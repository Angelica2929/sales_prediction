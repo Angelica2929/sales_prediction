{
  "nbformat": 4,
  "nbformat_minor": 0,
  "metadata": {
    "colab": {
      "provenance": [],
      "collapsed_sections": [],
      "mount_file_id": "1vnlJj5JHn1Lb2bXqwdQYORtmvur_gZmE",
      "authorship_tag": "ABX9TyPZjMEzIH9yDwO6vmRXoQAy",
      "include_colab_link": true
    },
    "kernelspec": {
      "name": "python3",
      "display_name": "Python 3"
    },
    "language_info": {
      "name": "python"
    }
  },
  "cells": [
    {
      "cell_type": "markdown",
      "metadata": {
        "id": "view-in-github",
        "colab_type": "text"
      },
      "source": [
        "<a href=\"https://colab.research.google.com/github/Angelica2929/sales_prediction/blob/main/Preprocesamiento_modelo.ipynb\" target=\"_parent\"><img src=\"https://colab.research.google.com/assets/colab-badge.svg\" alt=\"Open In Colab\"/></a>"
      ]
    },
    {
      "cell_type": "markdown",
      "source": [
        "**Proyecto 1 Prediccion Ventas - Parte 5 (base)**"
      ],
      "metadata": {
        "id": "ItezfRidyLFJ"
      }
    },
    {
      "cell_type": "markdown",
      "source": [
        "El objetivo de este paso es ayudar al distribuidor usando el aprendizaje automático para realizar predicciones sobre futuras ventas basándose en los datos proporcionados.\n",
        "\n"
      ],
      "metadata": {
        "id": "kYYr1FfJyM8a"
      }
    },
    {
      "cell_type": "markdown",
      "source": [
        "1.Importar las biblioetcas necesarias."
      ],
      "metadata": {
        "id": "fPj-AZeIzIwu"
      }
    },
    {
      "cell_type": "code",
      "execution_count": 39,
      "metadata": {
        "id": "VTrsWo2bx7Kk"
      },
      "outputs": [],
      "source": [
        "import pandas as pd\n",
        "import numpy as np\n",
        "from sklearn.preprocessing import StandardScaler, OneHotEncoder\n",
        "from sklearn.impute import SimpleImputer\n",
        "from sklearn.compose import make_column_transformer, make_column_selector\n",
        "from sklearn.pipeline import make_pipeline\n",
        "from sklearn.model_selection import train_test_split\n",
        "from sklearn import set_config\n",
        "set_config(display='diagram')"
      ]
    },
    {
      "cell_type": "markdown",
      "source": [
        "2.Cargar estructura de datos"
      ],
      "metadata": {
        "id": "w7mwdnqfzNpv"
      }
    },
    {
      "cell_type": "code",
      "source": [
        "filename = '/content/drive/MyDrive/CODING DOJO/WEEK 5/sales_predictions.csv'\n",
        "df = pd.read_csv(filename)\n",
        "df.head()"
      ],
      "metadata": {
        "colab": {
          "base_uri": "https://localhost:8080/",
          "height": 357
        },
        "id": "DOXJYLLAzQ_B",
        "outputId": "a6a0685d-d28a-4470-c50d-462e679998f3"
      },
      "execution_count": 40,
      "outputs": [
        {
          "output_type": "execute_result",
          "data": {
            "text/plain": [
              "  Item_Identifier  Item_Weight Item_Fat_Content  Item_Visibility  \\\n",
              "0           FDA15         9.30          Low Fat         0.016047   \n",
              "1           DRC01         5.92          Regular         0.019278   \n",
              "2           FDN15        17.50          Low Fat         0.016760   \n",
              "3           FDX07        19.20          Regular         0.000000   \n",
              "4           NCD19         8.93          Low Fat         0.000000   \n",
              "\n",
              "               Item_Type  Item_MRP Outlet_Identifier  \\\n",
              "0                  Dairy  249.8092            OUT049   \n",
              "1            Soft Drinks   48.2692            OUT018   \n",
              "2                   Meat  141.6180            OUT049   \n",
              "3  Fruits and Vegetables  182.0950            OUT010   \n",
              "4              Household   53.8614            OUT013   \n",
              "\n",
              "   Outlet_Establishment_Year Outlet_Size Outlet_Location_Type  \\\n",
              "0                       1999      Medium               Tier 1   \n",
              "1                       2009      Medium               Tier 3   \n",
              "2                       1999      Medium               Tier 1   \n",
              "3                       1998         NaN               Tier 3   \n",
              "4                       1987        High               Tier 3   \n",
              "\n",
              "         Outlet_Type  Item_Outlet_Sales  \n",
              "0  Supermarket Type1          3735.1380  \n",
              "1  Supermarket Type2           443.4228  \n",
              "2  Supermarket Type1          2097.2700  \n",
              "3      Grocery Store           732.3800  \n",
              "4  Supermarket Type1           994.7052  "
            ],
            "text/html": [
              "\n",
              "  <div id=\"df-b0d01922-fbbf-4154-bbc4-4ab08fcd232a\">\n",
              "    <div class=\"colab-df-container\">\n",
              "      <div>\n",
              "<style scoped>\n",
              "    .dataframe tbody tr th:only-of-type {\n",
              "        vertical-align: middle;\n",
              "    }\n",
              "\n",
              "    .dataframe tbody tr th {\n",
              "        vertical-align: top;\n",
              "    }\n",
              "\n",
              "    .dataframe thead th {\n",
              "        text-align: right;\n",
              "    }\n",
              "</style>\n",
              "<table border=\"1\" class=\"dataframe\">\n",
              "  <thead>\n",
              "    <tr style=\"text-align: right;\">\n",
              "      <th></th>\n",
              "      <th>Item_Identifier</th>\n",
              "      <th>Item_Weight</th>\n",
              "      <th>Item_Fat_Content</th>\n",
              "      <th>Item_Visibility</th>\n",
              "      <th>Item_Type</th>\n",
              "      <th>Item_MRP</th>\n",
              "      <th>Outlet_Identifier</th>\n",
              "      <th>Outlet_Establishment_Year</th>\n",
              "      <th>Outlet_Size</th>\n",
              "      <th>Outlet_Location_Type</th>\n",
              "      <th>Outlet_Type</th>\n",
              "      <th>Item_Outlet_Sales</th>\n",
              "    </tr>\n",
              "  </thead>\n",
              "  <tbody>\n",
              "    <tr>\n",
              "      <th>0</th>\n",
              "      <td>FDA15</td>\n",
              "      <td>9.30</td>\n",
              "      <td>Low Fat</td>\n",
              "      <td>0.016047</td>\n",
              "      <td>Dairy</td>\n",
              "      <td>249.8092</td>\n",
              "      <td>OUT049</td>\n",
              "      <td>1999</td>\n",
              "      <td>Medium</td>\n",
              "      <td>Tier 1</td>\n",
              "      <td>Supermarket Type1</td>\n",
              "      <td>3735.1380</td>\n",
              "    </tr>\n",
              "    <tr>\n",
              "      <th>1</th>\n",
              "      <td>DRC01</td>\n",
              "      <td>5.92</td>\n",
              "      <td>Regular</td>\n",
              "      <td>0.019278</td>\n",
              "      <td>Soft Drinks</td>\n",
              "      <td>48.2692</td>\n",
              "      <td>OUT018</td>\n",
              "      <td>2009</td>\n",
              "      <td>Medium</td>\n",
              "      <td>Tier 3</td>\n",
              "      <td>Supermarket Type2</td>\n",
              "      <td>443.4228</td>\n",
              "    </tr>\n",
              "    <tr>\n",
              "      <th>2</th>\n",
              "      <td>FDN15</td>\n",
              "      <td>17.50</td>\n",
              "      <td>Low Fat</td>\n",
              "      <td>0.016760</td>\n",
              "      <td>Meat</td>\n",
              "      <td>141.6180</td>\n",
              "      <td>OUT049</td>\n",
              "      <td>1999</td>\n",
              "      <td>Medium</td>\n",
              "      <td>Tier 1</td>\n",
              "      <td>Supermarket Type1</td>\n",
              "      <td>2097.2700</td>\n",
              "    </tr>\n",
              "    <tr>\n",
              "      <th>3</th>\n",
              "      <td>FDX07</td>\n",
              "      <td>19.20</td>\n",
              "      <td>Regular</td>\n",
              "      <td>0.000000</td>\n",
              "      <td>Fruits and Vegetables</td>\n",
              "      <td>182.0950</td>\n",
              "      <td>OUT010</td>\n",
              "      <td>1998</td>\n",
              "      <td>NaN</td>\n",
              "      <td>Tier 3</td>\n",
              "      <td>Grocery Store</td>\n",
              "      <td>732.3800</td>\n",
              "    </tr>\n",
              "    <tr>\n",
              "      <th>4</th>\n",
              "      <td>NCD19</td>\n",
              "      <td>8.93</td>\n",
              "      <td>Low Fat</td>\n",
              "      <td>0.000000</td>\n",
              "      <td>Household</td>\n",
              "      <td>53.8614</td>\n",
              "      <td>OUT013</td>\n",
              "      <td>1987</td>\n",
              "      <td>High</td>\n",
              "      <td>Tier 3</td>\n",
              "      <td>Supermarket Type1</td>\n",
              "      <td>994.7052</td>\n",
              "    </tr>\n",
              "  </tbody>\n",
              "</table>\n",
              "</div>\n",
              "      <button class=\"colab-df-convert\" onclick=\"convertToInteractive('df-b0d01922-fbbf-4154-bbc4-4ab08fcd232a')\"\n",
              "              title=\"Convert this dataframe to an interactive table.\"\n",
              "              style=\"display:none;\">\n",
              "        \n",
              "  <svg xmlns=\"http://www.w3.org/2000/svg\" height=\"24px\"viewBox=\"0 0 24 24\"\n",
              "       width=\"24px\">\n",
              "    <path d=\"M0 0h24v24H0V0z\" fill=\"none\"/>\n",
              "    <path d=\"M18.56 5.44l.94 2.06.94-2.06 2.06-.94-2.06-.94-.94-2.06-.94 2.06-2.06.94zm-11 1L8.5 8.5l.94-2.06 2.06-.94-2.06-.94L8.5 2.5l-.94 2.06-2.06.94zm10 10l.94 2.06.94-2.06 2.06-.94-2.06-.94-.94-2.06-.94 2.06-2.06.94z\"/><path d=\"M17.41 7.96l-1.37-1.37c-.4-.4-.92-.59-1.43-.59-.52 0-1.04.2-1.43.59L10.3 9.45l-7.72 7.72c-.78.78-.78 2.05 0 2.83L4 21.41c.39.39.9.59 1.41.59.51 0 1.02-.2 1.41-.59l7.78-7.78 2.81-2.81c.8-.78.8-2.07 0-2.86zM5.41 20L4 18.59l7.72-7.72 1.47 1.35L5.41 20z\"/>\n",
              "  </svg>\n",
              "      </button>\n",
              "      \n",
              "  <style>\n",
              "    .colab-df-container {\n",
              "      display:flex;\n",
              "      flex-wrap:wrap;\n",
              "      gap: 12px;\n",
              "    }\n",
              "\n",
              "    .colab-df-convert {\n",
              "      background-color: #E8F0FE;\n",
              "      border: none;\n",
              "      border-radius: 50%;\n",
              "      cursor: pointer;\n",
              "      display: none;\n",
              "      fill: #1967D2;\n",
              "      height: 32px;\n",
              "      padding: 0 0 0 0;\n",
              "      width: 32px;\n",
              "    }\n",
              "\n",
              "    .colab-df-convert:hover {\n",
              "      background-color: #E2EBFA;\n",
              "      box-shadow: 0px 1px 2px rgba(60, 64, 67, 0.3), 0px 1px 3px 1px rgba(60, 64, 67, 0.15);\n",
              "      fill: #174EA6;\n",
              "    }\n",
              "\n",
              "    [theme=dark] .colab-df-convert {\n",
              "      background-color: #3B4455;\n",
              "      fill: #D2E3FC;\n",
              "    }\n",
              "\n",
              "    [theme=dark] .colab-df-convert:hover {\n",
              "      background-color: #434B5C;\n",
              "      box-shadow: 0px 1px 3px 1px rgba(0, 0, 0, 0.15);\n",
              "      filter: drop-shadow(0px 1px 2px rgba(0, 0, 0, 0.3));\n",
              "      fill: #FFFFFF;\n",
              "    }\n",
              "  </style>\n",
              "\n",
              "      <script>\n",
              "        const buttonEl =\n",
              "          document.querySelector('#df-b0d01922-fbbf-4154-bbc4-4ab08fcd232a button.colab-df-convert');\n",
              "        buttonEl.style.display =\n",
              "          google.colab.kernel.accessAllowed ? 'block' : 'none';\n",
              "\n",
              "        async function convertToInteractive(key) {\n",
              "          const element = document.querySelector('#df-b0d01922-fbbf-4154-bbc4-4ab08fcd232a');\n",
              "          const dataTable =\n",
              "            await google.colab.kernel.invokeFunction('convertToInteractive',\n",
              "                                                     [key], {});\n",
              "          if (!dataTable) return;\n",
              "\n",
              "          const docLinkHtml = 'Like what you see? Visit the ' +\n",
              "            '<a target=\"_blank\" href=https://colab.research.google.com/notebooks/data_table.ipynb>data table notebook</a>'\n",
              "            + ' to learn more about interactive tables.';\n",
              "          element.innerHTML = '';\n",
              "          dataTable['output_type'] = 'display_data';\n",
              "          await google.colab.output.renderOutput(dataTable, element);\n",
              "          const docLink = document.createElement('div');\n",
              "          docLink.innerHTML = docLinkHtml;\n",
              "          element.appendChild(docLink);\n",
              "        }\n",
              "      </script>\n",
              "    </div>\n",
              "  </div>\n",
              "  "
            ]
          },
          "metadata": {},
          "execution_count": 40
        }
      ]
    },
    {
      "cell_type": "markdown",
      "source": [
        "3. Explorar los datos"
      ],
      "metadata": {
        "id": "OdiHy-NE0YVn"
      }
    },
    {
      "cell_type": "code",
      "source": [
        "df.info()"
      ],
      "metadata": {
        "colab": {
          "base_uri": "https://localhost:8080/"
        },
        "id": "vbN051T50Zzo",
        "outputId": "a573a0fc-3322-4d72-88ad-90cf0ba8a5cf"
      },
      "execution_count": 41,
      "outputs": [
        {
          "output_type": "stream",
          "name": "stdout",
          "text": [
            "<class 'pandas.core.frame.DataFrame'>\n",
            "RangeIndex: 8523 entries, 0 to 8522\n",
            "Data columns (total 12 columns):\n",
            " #   Column                     Non-Null Count  Dtype  \n",
            "---  ------                     --------------  -----  \n",
            " 0   Item_Identifier            8523 non-null   object \n",
            " 1   Item_Weight                7060 non-null   float64\n",
            " 2   Item_Fat_Content           8523 non-null   object \n",
            " 3   Item_Visibility            8523 non-null   float64\n",
            " 4   Item_Type                  8523 non-null   object \n",
            " 5   Item_MRP                   8523 non-null   float64\n",
            " 6   Outlet_Identifier          8523 non-null   object \n",
            " 7   Outlet_Establishment_Year  8523 non-null   int64  \n",
            " 8   Outlet_Size                6113 non-null   object \n",
            " 9   Outlet_Location_Type       8523 non-null   object \n",
            " 10  Outlet_Type                8523 non-null   object \n",
            " 11  Item_Outlet_Sales          8523 non-null   float64\n",
            "dtypes: float64(4), int64(1), object(7)\n",
            "memory usage: 799.2+ KB\n"
          ]
        }
      ]
    },
    {
      "cell_type": "markdown",
      "source": [
        "Al realizar la exploracion de nuestra data, podemos identificar 3 tipos de caracteristicas asi:\n",
        "\n",
        "\n",
        "**NUMERICAS**\n",
        "\n",
        "'Item_Weight',\n",
        "'Item_Fat_Content',\n",
        "'Item_Visibility',\n",
        "'Item_MRP',\n",
        "'Outlet_Establishment_Year'\n",
        "\n",
        "**ORDINALES**.                                              \n",
        "'Item_Fat_Content'\n",
        "\n",
        "**NOMINALES**\n",
        "\n",
        "'Item_Identifier',\n",
        "'Item_Type',\n",
        "'Outlet_Identifier',\n",
        "'Outlet_Size',\n",
        "'Outlet_Location_Type',\n",
        "'Outlet_Type'\n",
        "\n",
        "Para el proceso de aprendizaje de nuestro modelo sera necesario transformar nuestras caracteristicas nominales y si es el caso ordinales en variables numericas, esto para mayor funcionalidad de nuestro modelo.\n",
        "\n",
        "Adicionalmente identificamos datos faltantes en las categorias de Item_Weight (Variable Numerica)y OutleT Size (Variable Categorica), situacion que debemos abordar a continuacion con el metodo de Mean Imputation para variables numericas y Most_frequent imputation para variables categoricas."
      ],
      "metadata": {
        "id": "wlJVMqxxegBW"
      }
    },
    {
      "cell_type": "markdown",
      "source": [
        "4. Codificación ordinal"
      ],
      "metadata": {
        "id": "AQjQb9Wt0uVX"
      }
    },
    {
      "cell_type": "code",
      "source": [
        "df['Item_Fat_Content'].value_counts()"
      ],
      "metadata": {
        "colab": {
          "base_uri": "https://localhost:8080/"
        },
        "id": "u44MPJAA07cl",
        "outputId": "638e9cbd-397a-43a8-faf0-5852c9a348f2"
      },
      "execution_count": 42,
      "outputs": [
        {
          "output_type": "execute_result",
          "data": {
            "text/plain": [
              "Low Fat    5089\n",
              "Regular    2889\n",
              "LF          316\n",
              "reg         117\n",
              "low fat     112\n",
              "Name: Item_Fat_Content, dtype: int64"
            ]
          },
          "metadata": {},
          "execution_count": 42
        }
      ]
    },
    {
      "cell_type": "code",
      "source": [
        "# Codificación ordinal \"Item_Fat_Content\"\n",
        "replacement_dictionary = {'Low':1, 'Low Fat':1, 'LF':1, 'low fat':1, 'Regular':0, 'reg':0}\n",
        "df['Item_Fat_Content'].replace(replacement_dictionary, inplace=True)\n",
        "df['Item_Fat_Content']"
      ],
      "metadata": {
        "colab": {
          "base_uri": "https://localhost:8080/"
        },
        "id": "ix-pS2jv1ode",
        "outputId": "434da70b-224d-4324-9345-7c84b93cd0f2"
      },
      "execution_count": 43,
      "outputs": [
        {
          "output_type": "execute_result",
          "data": {
            "text/plain": [
              "0       1\n",
              "1       0\n",
              "2       1\n",
              "3       0\n",
              "4       1\n",
              "       ..\n",
              "8518    1\n",
              "8519    0\n",
              "8520    1\n",
              "8521    0\n",
              "8522    1\n",
              "Name: Item_Fat_Content, Length: 8523, dtype: int64"
            ]
          },
          "metadata": {},
          "execution_count": 43
        }
      ]
    },
    {
      "cell_type": "code",
      "source": [
        "df['Item_Fat_Content'].value_counts()"
      ],
      "metadata": {
        "colab": {
          "base_uri": "https://localhost:8080/"
        },
        "id": "fSoH6vuN3Tzq",
        "outputId": "c18afd47-9ae6-42cf-d7f3-2d571145cc87"
      },
      "execution_count": 44,
      "outputs": [
        {
          "output_type": "execute_result",
          "data": {
            "text/plain": [
              "1    5517\n",
              "0    3006\n",
              "Name: Item_Fat_Content, dtype: int64"
            ]
          },
          "metadata": {},
          "execution_count": 44
        }
      ]
    },
    {
      "cell_type": "markdown",
      "source": [
        "Nuestra variable Item Fat Content es una variable de tipo nominal, fue necesario una conversion, por lo cual hicimos  un diccionario y un replace para ajustar la informacion con inconformidades. Ahora esta ordinalmente codificada."
      ],
      "metadata": {
        "id": "_cYugkd_f9xz"
      }
    },
    {
      "cell_type": "markdown",
      "source": [
        "5. Train test Split"
      ],
      "metadata": {
        "id": "g50lfPu24bOu"
      }
    },
    {
      "cell_type": "code",
      "source": [
        "X = df.drop('Item_Outlet_Sales', axis=1)\n",
        "y = df['Item_Outlet_Sales']\n",
        "X_train, X_test, y_train, y_test = train_test_split(X, y, random_state=42)"
      ],
      "metadata": {
        "id": "NAliNYUG4fqp"
      },
      "execution_count": 45,
      "outputs": []
    },
    {
      "cell_type": "markdown",
      "source": [
        "Nuestra variable target (a predecir) es **Item_Outlet_Sales** que corresponde al total de ventas por tienda, para predecir dicha variable nos apoyaremos basados en el resto de categorias que vienen incluidas como peso, contenido graso,categoria, precio, año creacion tienda etc...\n",
        "\n",
        "Este proceso consiste en dividir nuestro conjunto de datos en 2 grupos (entrenamiento y prueba), y es aqui donde ocurre el proceso de aprendizaje y validacion de nuestro modelo, esto con el proposito de conocer como se va a comportar nuestro target en la medida que nuestro conjunto de caracteristicas se mueva de una o determinada forma.\n"
      ],
      "metadata": {
        "id": "Ho60czYEZaOD"
      }
    },
    {
      "cell_type": "markdown",
      "source": [
        "6.Instanciar selectores de columnas"
      ],
      "metadata": {
        "id": "0ZYgv2Rd5Bfh"
      }
    },
    {
      "cell_type": "code",
      "source": [
        "cat_selector = make_column_selector(dtype_include='object')\n",
        "cat_selector"
      ],
      "metadata": {
        "colab": {
          "base_uri": "https://localhost:8080/"
        },
        "id": "kgBfqE5U5Dnc",
        "outputId": "e91cc534-c0f7-4793-8dde-acd5af842eef"
      },
      "execution_count": 46,
      "outputs": [
        {
          "output_type": "execute_result",
          "data": {
            "text/plain": [
              "<sklearn.compose._column_transformer.make_column_selector at 0x7fcc369309d0>"
            ]
          },
          "metadata": {},
          "execution_count": 46
        }
      ]
    },
    {
      "cell_type": "code",
      "source": [
        "#Nos devuelve una lista con las columnas que coinciden con el patron solicitado, en este caso, las categoricas.\n",
        "cat_selector(X_train)"
      ],
      "metadata": {
        "colab": {
          "base_uri": "https://localhost:8080/"
        },
        "id": "yqqKMFM0dplO",
        "outputId": "8ca05341-b4ac-4f5b-d223-ae250156fd12"
      },
      "execution_count": 47,
      "outputs": [
        {
          "output_type": "execute_result",
          "data": {
            "text/plain": [
              "['Item_Identifier',\n",
              " 'Item_Type',\n",
              " 'Outlet_Identifier',\n",
              " 'Outlet_Size',\n",
              " 'Outlet_Location_Type',\n",
              " 'Outlet_Type']"
            ]
          },
          "metadata": {},
          "execution_count": 47
        }
      ]
    },
    {
      "cell_type": "code",
      "source": [
        "num_selector = make_column_selector(dtype_include='number')\n",
        "num_selector"
      ],
      "metadata": {
        "colab": {
          "base_uri": "https://localhost:8080/"
        },
        "id": "rIhrByyPdj8D",
        "outputId": "3d03892b-92ab-48f8-e6f0-fb7a98d7c710"
      },
      "execution_count": 55,
      "outputs": [
        {
          "output_type": "execute_result",
          "data": {
            "text/plain": [
              "<sklearn.compose._column_transformer.make_column_selector at 0x7fcc369304d0>"
            ]
          },
          "metadata": {},
          "execution_count": 55
        }
      ]
    },
    {
      "cell_type": "code",
      "source": [
        "#Nos devuelve una lista con las columnas que coinciden con el patron solicitado, en este caso, las numericas.\n",
        "num_selector(X_train)"
      ],
      "metadata": {
        "colab": {
          "base_uri": "https://localhost:8080/"
        },
        "id": "itJQW06TduFQ",
        "outputId": "3119bbe3-0445-4a2b-96f9-49f608c1542d"
      },
      "execution_count": 56,
      "outputs": [
        {
          "output_type": "execute_result",
          "data": {
            "text/plain": [
              "['Item_Weight',\n",
              " 'Item_Fat_Content',\n",
              " 'Item_Visibility',\n",
              " 'Item_MRP',\n",
              " 'Outlet_Establishment_Year']"
            ]
          },
          "metadata": {},
          "execution_count": 56
        }
      ]
    },
    {
      "cell_type": "markdown",
      "source": [
        "7.Instanciar transformadores"
      ],
      "metadata": {
        "id": "cqbczzLZ5hXV"
      }
    },
    {
      "cell_type": "code",
      "source": [
        "# Imputers\n",
        "freq_imputer = SimpleImputer(strategy='most_frequent')\n",
        "mean_imputer = SimpleImputer(strategy='mean')\n",
        "# Scaler\n",
        "scaler = StandardScaler()\n",
        "# One-hot encoder\n",
        "ohe = OneHotEncoder(handle_unknown='ignore', sparse=False)"
      ],
      "metadata": {
        "id": "zIjrG4ld5ip5"
      },
      "execution_count": 51,
      "outputs": []
    },
    {
      "cell_type": "markdown",
      "source": [
        "Tenemos 2 simple imputers con diferentes estrategias de imputacion, most frequent y mean imputer."
      ],
      "metadata": {
        "id": "PKHfejQbzrE8"
      }
    },
    {
      "cell_type": "markdown",
      "source": [
        "8. Instanciar pipelines"
      ],
      "metadata": {
        "id": "gdYCvW2t5snp"
      }
    },
    {
      "cell_type": "code",
      "source": [
        "#Pipeline Numerico\n",
        "numeric_pipe = make_pipeline(mean_imputer, scaler)\n",
        "numeric_pipe"
      ],
      "metadata": {
        "colab": {
          "base_uri": "https://localhost:8080/",
          "height": 126
        },
        "id": "93zsGMD-WfuU",
        "outputId": "10f44cb9-f1a5-4155-8252-ded8e3ce9f82"
      },
      "execution_count": 53,
      "outputs": [
        {
          "output_type": "execute_result",
          "data": {
            "text/plain": [
              "Pipeline(steps=[('simpleimputer', SimpleImputer()),\n",
              "                ('standardscaler', StandardScaler())])"
            ],
            "text/html": [
              "<style>#sk-cc49a800-dba7-4e36-bbb8-16ccebf026ba {color: black;background-color: white;}#sk-cc49a800-dba7-4e36-bbb8-16ccebf026ba pre{padding: 0;}#sk-cc49a800-dba7-4e36-bbb8-16ccebf026ba div.sk-toggleable {background-color: white;}#sk-cc49a800-dba7-4e36-bbb8-16ccebf026ba label.sk-toggleable__label {cursor: pointer;display: block;width: 100%;margin-bottom: 0;padding: 0.3em;box-sizing: border-box;text-align: center;}#sk-cc49a800-dba7-4e36-bbb8-16ccebf026ba label.sk-toggleable__label-arrow:before {content: \"▸\";float: left;margin-right: 0.25em;color: #696969;}#sk-cc49a800-dba7-4e36-bbb8-16ccebf026ba label.sk-toggleable__label-arrow:hover:before {color: black;}#sk-cc49a800-dba7-4e36-bbb8-16ccebf026ba div.sk-estimator:hover label.sk-toggleable__label-arrow:before {color: black;}#sk-cc49a800-dba7-4e36-bbb8-16ccebf026ba div.sk-toggleable__content {max-height: 0;max-width: 0;overflow: hidden;text-align: left;background-color: #f0f8ff;}#sk-cc49a800-dba7-4e36-bbb8-16ccebf026ba div.sk-toggleable__content pre {margin: 0.2em;color: black;border-radius: 0.25em;background-color: #f0f8ff;}#sk-cc49a800-dba7-4e36-bbb8-16ccebf026ba input.sk-toggleable__control:checked~div.sk-toggleable__content {max-height: 200px;max-width: 100%;overflow: auto;}#sk-cc49a800-dba7-4e36-bbb8-16ccebf026ba input.sk-toggleable__control:checked~label.sk-toggleable__label-arrow:before {content: \"▾\";}#sk-cc49a800-dba7-4e36-bbb8-16ccebf026ba div.sk-estimator input.sk-toggleable__control:checked~label.sk-toggleable__label {background-color: #d4ebff;}#sk-cc49a800-dba7-4e36-bbb8-16ccebf026ba div.sk-label input.sk-toggleable__control:checked~label.sk-toggleable__label {background-color: #d4ebff;}#sk-cc49a800-dba7-4e36-bbb8-16ccebf026ba input.sk-hidden--visually {border: 0;clip: rect(1px 1px 1px 1px);clip: rect(1px, 1px, 1px, 1px);height: 1px;margin: -1px;overflow: hidden;padding: 0;position: absolute;width: 1px;}#sk-cc49a800-dba7-4e36-bbb8-16ccebf026ba div.sk-estimator {font-family: monospace;background-color: #f0f8ff;border: 1px dotted black;border-radius: 0.25em;box-sizing: border-box;margin-bottom: 0.5em;}#sk-cc49a800-dba7-4e36-bbb8-16ccebf026ba div.sk-estimator:hover {background-color: #d4ebff;}#sk-cc49a800-dba7-4e36-bbb8-16ccebf026ba div.sk-parallel-item::after {content: \"\";width: 100%;border-bottom: 1px solid gray;flex-grow: 1;}#sk-cc49a800-dba7-4e36-bbb8-16ccebf026ba div.sk-label:hover label.sk-toggleable__label {background-color: #d4ebff;}#sk-cc49a800-dba7-4e36-bbb8-16ccebf026ba div.sk-serial::before {content: \"\";position: absolute;border-left: 1px solid gray;box-sizing: border-box;top: 2em;bottom: 0;left: 50%;}#sk-cc49a800-dba7-4e36-bbb8-16ccebf026ba div.sk-serial {display: flex;flex-direction: column;align-items: center;background-color: white;padding-right: 0.2em;padding-left: 0.2em;}#sk-cc49a800-dba7-4e36-bbb8-16ccebf026ba div.sk-item {z-index: 1;}#sk-cc49a800-dba7-4e36-bbb8-16ccebf026ba div.sk-parallel {display: flex;align-items: stretch;justify-content: center;background-color: white;}#sk-cc49a800-dba7-4e36-bbb8-16ccebf026ba div.sk-parallel::before {content: \"\";position: absolute;border-left: 1px solid gray;box-sizing: border-box;top: 2em;bottom: 0;left: 50%;}#sk-cc49a800-dba7-4e36-bbb8-16ccebf026ba div.sk-parallel-item {display: flex;flex-direction: column;position: relative;background-color: white;}#sk-cc49a800-dba7-4e36-bbb8-16ccebf026ba div.sk-parallel-item:first-child::after {align-self: flex-end;width: 50%;}#sk-cc49a800-dba7-4e36-bbb8-16ccebf026ba div.sk-parallel-item:last-child::after {align-self: flex-start;width: 50%;}#sk-cc49a800-dba7-4e36-bbb8-16ccebf026ba div.sk-parallel-item:only-child::after {width: 0;}#sk-cc49a800-dba7-4e36-bbb8-16ccebf026ba div.sk-dashed-wrapped {border: 1px dashed gray;margin: 0 0.4em 0.5em 0.4em;box-sizing: border-box;padding-bottom: 0.4em;background-color: white;position: relative;}#sk-cc49a800-dba7-4e36-bbb8-16ccebf026ba div.sk-label label {font-family: monospace;font-weight: bold;background-color: white;display: inline-block;line-height: 1.2em;}#sk-cc49a800-dba7-4e36-bbb8-16ccebf026ba div.sk-label-container {position: relative;z-index: 2;text-align: center;}#sk-cc49a800-dba7-4e36-bbb8-16ccebf026ba div.sk-container {/* jupyter's `normalize.less` sets `[hidden] { display: none; }` but bootstrap.min.css set `[hidden] { display: none !important; }` so we also need the `!important` here to be able to override the default hidden behavior on the sphinx rendered scikit-learn.org. See: https://github.com/scikit-learn/scikit-learn/issues/21755 */display: inline-block !important;position: relative;}#sk-cc49a800-dba7-4e36-bbb8-16ccebf026ba div.sk-text-repr-fallback {display: none;}</style><div id=\"sk-cc49a800-dba7-4e36-bbb8-16ccebf026ba\" class=\"sk-top-container\"><div class=\"sk-text-repr-fallback\"><pre>Pipeline(steps=[(&#x27;simpleimputer&#x27;, SimpleImputer()),\n",
              "                (&#x27;standardscaler&#x27;, StandardScaler())])</pre><b>Please rerun this cell to show the HTML repr or trust the notebook.</b></div><div class=\"sk-container\" hidden><div class=\"sk-item sk-dashed-wrapped\"><div class=\"sk-label-container\"><div class=\"sk-label sk-toggleable\"><input class=\"sk-toggleable__control sk-hidden--visually\" id=\"6ce0a2e6-ed87-49ac-be2f-3ef8e5642570\" type=\"checkbox\" ><label for=\"6ce0a2e6-ed87-49ac-be2f-3ef8e5642570\" class=\"sk-toggleable__label sk-toggleable__label-arrow\">Pipeline</label><div class=\"sk-toggleable__content\"><pre>Pipeline(steps=[(&#x27;simpleimputer&#x27;, SimpleImputer()),\n",
              "                (&#x27;standardscaler&#x27;, StandardScaler())])</pre></div></div></div><div class=\"sk-serial\"><div class=\"sk-item\"><div class=\"sk-estimator sk-toggleable\"><input class=\"sk-toggleable__control sk-hidden--visually\" id=\"35dd7269-efc0-4517-b454-0cb41aeec64a\" type=\"checkbox\" ><label for=\"35dd7269-efc0-4517-b454-0cb41aeec64a\" class=\"sk-toggleable__label sk-toggleable__label-arrow\">SimpleImputer</label><div class=\"sk-toggleable__content\"><pre>SimpleImputer()</pre></div></div></div><div class=\"sk-item\"><div class=\"sk-estimator sk-toggleable\"><input class=\"sk-toggleable__control sk-hidden--visually\" id=\"d8389d0f-ff6a-4824-bcb9-672bde72aae0\" type=\"checkbox\" ><label for=\"d8389d0f-ff6a-4824-bcb9-672bde72aae0\" class=\"sk-toggleable__label sk-toggleable__label-arrow\">StandardScaler</label><div class=\"sk-toggleable__content\"><pre>StandardScaler()</pre></div></div></div></div></div></div></div>"
            ]
          },
          "metadata": {},
          "execution_count": 53
        }
      ]
    },
    {
      "cell_type": "code",
      "source": [
        "# Pipeline Categorico\n",
        "categorical_pipe = make_pipeline(freq_imputer, ohe)\n",
        "categorical_pipe"
      ],
      "metadata": {
        "colab": {
          "base_uri": "https://localhost:8080/",
          "height": 126
        },
        "id": "Qg-LgmvUWj1m",
        "outputId": "b71f0e8c-1cf8-429f-8353-e3c82584f87c"
      },
      "execution_count": 54,
      "outputs": [
        {
          "output_type": "execute_result",
          "data": {
            "text/plain": [
              "Pipeline(steps=[('simpleimputer', SimpleImputer(strategy='most_frequent')),\n",
              "                ('onehotencoder',\n",
              "                 OneHotEncoder(handle_unknown='ignore', sparse=False))])"
            ],
            "text/html": [
              "<style>#sk-3bd1ab32-4f05-431c-9b55-b6973883923a {color: black;background-color: white;}#sk-3bd1ab32-4f05-431c-9b55-b6973883923a pre{padding: 0;}#sk-3bd1ab32-4f05-431c-9b55-b6973883923a div.sk-toggleable {background-color: white;}#sk-3bd1ab32-4f05-431c-9b55-b6973883923a label.sk-toggleable__label {cursor: pointer;display: block;width: 100%;margin-bottom: 0;padding: 0.3em;box-sizing: border-box;text-align: center;}#sk-3bd1ab32-4f05-431c-9b55-b6973883923a label.sk-toggleable__label-arrow:before {content: \"▸\";float: left;margin-right: 0.25em;color: #696969;}#sk-3bd1ab32-4f05-431c-9b55-b6973883923a label.sk-toggleable__label-arrow:hover:before {color: black;}#sk-3bd1ab32-4f05-431c-9b55-b6973883923a div.sk-estimator:hover label.sk-toggleable__label-arrow:before {color: black;}#sk-3bd1ab32-4f05-431c-9b55-b6973883923a div.sk-toggleable__content {max-height: 0;max-width: 0;overflow: hidden;text-align: left;background-color: #f0f8ff;}#sk-3bd1ab32-4f05-431c-9b55-b6973883923a div.sk-toggleable__content pre {margin: 0.2em;color: black;border-radius: 0.25em;background-color: #f0f8ff;}#sk-3bd1ab32-4f05-431c-9b55-b6973883923a input.sk-toggleable__control:checked~div.sk-toggleable__content {max-height: 200px;max-width: 100%;overflow: auto;}#sk-3bd1ab32-4f05-431c-9b55-b6973883923a input.sk-toggleable__control:checked~label.sk-toggleable__label-arrow:before {content: \"▾\";}#sk-3bd1ab32-4f05-431c-9b55-b6973883923a div.sk-estimator input.sk-toggleable__control:checked~label.sk-toggleable__label {background-color: #d4ebff;}#sk-3bd1ab32-4f05-431c-9b55-b6973883923a div.sk-label input.sk-toggleable__control:checked~label.sk-toggleable__label {background-color: #d4ebff;}#sk-3bd1ab32-4f05-431c-9b55-b6973883923a input.sk-hidden--visually {border: 0;clip: rect(1px 1px 1px 1px);clip: rect(1px, 1px, 1px, 1px);height: 1px;margin: -1px;overflow: hidden;padding: 0;position: absolute;width: 1px;}#sk-3bd1ab32-4f05-431c-9b55-b6973883923a div.sk-estimator {font-family: monospace;background-color: #f0f8ff;border: 1px dotted black;border-radius: 0.25em;box-sizing: border-box;margin-bottom: 0.5em;}#sk-3bd1ab32-4f05-431c-9b55-b6973883923a div.sk-estimator:hover {background-color: #d4ebff;}#sk-3bd1ab32-4f05-431c-9b55-b6973883923a div.sk-parallel-item::after {content: \"\";width: 100%;border-bottom: 1px solid gray;flex-grow: 1;}#sk-3bd1ab32-4f05-431c-9b55-b6973883923a div.sk-label:hover label.sk-toggleable__label {background-color: #d4ebff;}#sk-3bd1ab32-4f05-431c-9b55-b6973883923a div.sk-serial::before {content: \"\";position: absolute;border-left: 1px solid gray;box-sizing: border-box;top: 2em;bottom: 0;left: 50%;}#sk-3bd1ab32-4f05-431c-9b55-b6973883923a div.sk-serial {display: flex;flex-direction: column;align-items: center;background-color: white;padding-right: 0.2em;padding-left: 0.2em;}#sk-3bd1ab32-4f05-431c-9b55-b6973883923a div.sk-item {z-index: 1;}#sk-3bd1ab32-4f05-431c-9b55-b6973883923a div.sk-parallel {display: flex;align-items: stretch;justify-content: center;background-color: white;}#sk-3bd1ab32-4f05-431c-9b55-b6973883923a div.sk-parallel::before {content: \"\";position: absolute;border-left: 1px solid gray;box-sizing: border-box;top: 2em;bottom: 0;left: 50%;}#sk-3bd1ab32-4f05-431c-9b55-b6973883923a div.sk-parallel-item {display: flex;flex-direction: column;position: relative;background-color: white;}#sk-3bd1ab32-4f05-431c-9b55-b6973883923a div.sk-parallel-item:first-child::after {align-self: flex-end;width: 50%;}#sk-3bd1ab32-4f05-431c-9b55-b6973883923a div.sk-parallel-item:last-child::after {align-self: flex-start;width: 50%;}#sk-3bd1ab32-4f05-431c-9b55-b6973883923a div.sk-parallel-item:only-child::after {width: 0;}#sk-3bd1ab32-4f05-431c-9b55-b6973883923a div.sk-dashed-wrapped {border: 1px dashed gray;margin: 0 0.4em 0.5em 0.4em;box-sizing: border-box;padding-bottom: 0.4em;background-color: white;position: relative;}#sk-3bd1ab32-4f05-431c-9b55-b6973883923a div.sk-label label {font-family: monospace;font-weight: bold;background-color: white;display: inline-block;line-height: 1.2em;}#sk-3bd1ab32-4f05-431c-9b55-b6973883923a div.sk-label-container {position: relative;z-index: 2;text-align: center;}#sk-3bd1ab32-4f05-431c-9b55-b6973883923a div.sk-container {/* jupyter's `normalize.less` sets `[hidden] { display: none; }` but bootstrap.min.css set `[hidden] { display: none !important; }` so we also need the `!important` here to be able to override the default hidden behavior on the sphinx rendered scikit-learn.org. See: https://github.com/scikit-learn/scikit-learn/issues/21755 */display: inline-block !important;position: relative;}#sk-3bd1ab32-4f05-431c-9b55-b6973883923a div.sk-text-repr-fallback {display: none;}</style><div id=\"sk-3bd1ab32-4f05-431c-9b55-b6973883923a\" class=\"sk-top-container\"><div class=\"sk-text-repr-fallback\"><pre>Pipeline(steps=[(&#x27;simpleimputer&#x27;, SimpleImputer(strategy=&#x27;most_frequent&#x27;)),\n",
              "                (&#x27;onehotencoder&#x27;,\n",
              "                 OneHotEncoder(handle_unknown=&#x27;ignore&#x27;, sparse=False))])</pre><b>Please rerun this cell to show the HTML repr or trust the notebook.</b></div><div class=\"sk-container\" hidden><div class=\"sk-item sk-dashed-wrapped\"><div class=\"sk-label-container\"><div class=\"sk-label sk-toggleable\"><input class=\"sk-toggleable__control sk-hidden--visually\" id=\"c02325d3-e20c-4b4c-9b16-94061eb5ad69\" type=\"checkbox\" ><label for=\"c02325d3-e20c-4b4c-9b16-94061eb5ad69\" class=\"sk-toggleable__label sk-toggleable__label-arrow\">Pipeline</label><div class=\"sk-toggleable__content\"><pre>Pipeline(steps=[(&#x27;simpleimputer&#x27;, SimpleImputer(strategy=&#x27;most_frequent&#x27;)),\n",
              "                (&#x27;onehotencoder&#x27;,\n",
              "                 OneHotEncoder(handle_unknown=&#x27;ignore&#x27;, sparse=False))])</pre></div></div></div><div class=\"sk-serial\"><div class=\"sk-item\"><div class=\"sk-estimator sk-toggleable\"><input class=\"sk-toggleable__control sk-hidden--visually\" id=\"98f6300c-2216-442a-bc15-e68b575c9153\" type=\"checkbox\" ><label for=\"98f6300c-2216-442a-bc15-e68b575c9153\" class=\"sk-toggleable__label sk-toggleable__label-arrow\">SimpleImputer</label><div class=\"sk-toggleable__content\"><pre>SimpleImputer(strategy=&#x27;most_frequent&#x27;)</pre></div></div></div><div class=\"sk-item\"><div class=\"sk-estimator sk-toggleable\"><input class=\"sk-toggleable__control sk-hidden--visually\" id=\"250f7860-6e9d-4378-9c9f-6a9797ece7a9\" type=\"checkbox\" ><label for=\"250f7860-6e9d-4378-9c9f-6a9797ece7a9\" class=\"sk-toggleable__label sk-toggleable__label-arrow\">OneHotEncoder</label><div class=\"sk-toggleable__content\"><pre>OneHotEncoder(handle_unknown=&#x27;ignore&#x27;, sparse=False)</pre></div></div></div></div></div></div></div>"
            ]
          },
          "metadata": {},
          "execution_count": 54
        }
      ]
    },
    {
      "cell_type": "markdown",
      "source": [
        "9. Instanciar ColumnTransformer"
      ],
      "metadata": {
        "id": "cbvrNNQgXi0c"
      }
    },
    {
      "cell_type": "code",
      "source": [
        "# Tuplas para Column Transformer\n",
        "number_tuple = (numeric_pipe, num_selector)\n",
        "category_tuple = (categorical_pipe, cat_selector)\n",
        "# ColumnTransformer\n",
        "preprocessor = make_column_transformer(number_tuple, category_tuple, remainder='passthrough')\n",
        "preprocessor"
      ],
      "metadata": {
        "colab": {
          "base_uri": "https://localhost:8080/",
          "height": 152
        },
        "id": "tSBwMFtCXkCj",
        "outputId": "758b7510-bb54-43cb-af5a-36cf8168e1d4"
      },
      "execution_count": 62,
      "outputs": [
        {
          "output_type": "execute_result",
          "data": {
            "text/plain": [
              "ColumnTransformer(remainder='passthrough',\n",
              "                  transformers=[('pipeline-1',\n",
              "                                 Pipeline(steps=[('simpleimputer',\n",
              "                                                  SimpleImputer()),\n",
              "                                                 ('standardscaler',\n",
              "                                                  StandardScaler())]),\n",
              "                                 <sklearn.compose._column_transformer.make_column_selector object at 0x7fcc369304d0>),\n",
              "                                ('pipeline-2',\n",
              "                                 Pipeline(steps=[('simpleimputer',\n",
              "                                                  SimpleImputer(strategy='most_frequent')),\n",
              "                                                 ('onehotencoder',\n",
              "                                                  OneHotEncoder(handle_unknown='ignore',\n",
              "                                                                sparse=False))]),\n",
              "                                 <sklearn.compose._column_transformer.make_column_selector object at 0x7fcc369309d0>)])"
            ],
            "text/html": [
              "<style>#sk-bf621ddd-e818-4141-a5f2-1636f371c54c {color: black;background-color: white;}#sk-bf621ddd-e818-4141-a5f2-1636f371c54c pre{padding: 0;}#sk-bf621ddd-e818-4141-a5f2-1636f371c54c div.sk-toggleable {background-color: white;}#sk-bf621ddd-e818-4141-a5f2-1636f371c54c label.sk-toggleable__label {cursor: pointer;display: block;width: 100%;margin-bottom: 0;padding: 0.3em;box-sizing: border-box;text-align: center;}#sk-bf621ddd-e818-4141-a5f2-1636f371c54c label.sk-toggleable__label-arrow:before {content: \"▸\";float: left;margin-right: 0.25em;color: #696969;}#sk-bf621ddd-e818-4141-a5f2-1636f371c54c label.sk-toggleable__label-arrow:hover:before {color: black;}#sk-bf621ddd-e818-4141-a5f2-1636f371c54c div.sk-estimator:hover label.sk-toggleable__label-arrow:before {color: black;}#sk-bf621ddd-e818-4141-a5f2-1636f371c54c div.sk-toggleable__content {max-height: 0;max-width: 0;overflow: hidden;text-align: left;background-color: #f0f8ff;}#sk-bf621ddd-e818-4141-a5f2-1636f371c54c div.sk-toggleable__content pre {margin: 0.2em;color: black;border-radius: 0.25em;background-color: #f0f8ff;}#sk-bf621ddd-e818-4141-a5f2-1636f371c54c input.sk-toggleable__control:checked~div.sk-toggleable__content {max-height: 200px;max-width: 100%;overflow: auto;}#sk-bf621ddd-e818-4141-a5f2-1636f371c54c input.sk-toggleable__control:checked~label.sk-toggleable__label-arrow:before {content: \"▾\";}#sk-bf621ddd-e818-4141-a5f2-1636f371c54c div.sk-estimator input.sk-toggleable__control:checked~label.sk-toggleable__label {background-color: #d4ebff;}#sk-bf621ddd-e818-4141-a5f2-1636f371c54c div.sk-label input.sk-toggleable__control:checked~label.sk-toggleable__label {background-color: #d4ebff;}#sk-bf621ddd-e818-4141-a5f2-1636f371c54c input.sk-hidden--visually {border: 0;clip: rect(1px 1px 1px 1px);clip: rect(1px, 1px, 1px, 1px);height: 1px;margin: -1px;overflow: hidden;padding: 0;position: absolute;width: 1px;}#sk-bf621ddd-e818-4141-a5f2-1636f371c54c div.sk-estimator {font-family: monospace;background-color: #f0f8ff;border: 1px dotted black;border-radius: 0.25em;box-sizing: border-box;margin-bottom: 0.5em;}#sk-bf621ddd-e818-4141-a5f2-1636f371c54c div.sk-estimator:hover {background-color: #d4ebff;}#sk-bf621ddd-e818-4141-a5f2-1636f371c54c div.sk-parallel-item::after {content: \"\";width: 100%;border-bottom: 1px solid gray;flex-grow: 1;}#sk-bf621ddd-e818-4141-a5f2-1636f371c54c div.sk-label:hover label.sk-toggleable__label {background-color: #d4ebff;}#sk-bf621ddd-e818-4141-a5f2-1636f371c54c div.sk-serial::before {content: \"\";position: absolute;border-left: 1px solid gray;box-sizing: border-box;top: 2em;bottom: 0;left: 50%;}#sk-bf621ddd-e818-4141-a5f2-1636f371c54c div.sk-serial {display: flex;flex-direction: column;align-items: center;background-color: white;padding-right: 0.2em;padding-left: 0.2em;}#sk-bf621ddd-e818-4141-a5f2-1636f371c54c div.sk-item {z-index: 1;}#sk-bf621ddd-e818-4141-a5f2-1636f371c54c div.sk-parallel {display: flex;align-items: stretch;justify-content: center;background-color: white;}#sk-bf621ddd-e818-4141-a5f2-1636f371c54c div.sk-parallel::before {content: \"\";position: absolute;border-left: 1px solid gray;box-sizing: border-box;top: 2em;bottom: 0;left: 50%;}#sk-bf621ddd-e818-4141-a5f2-1636f371c54c div.sk-parallel-item {display: flex;flex-direction: column;position: relative;background-color: white;}#sk-bf621ddd-e818-4141-a5f2-1636f371c54c div.sk-parallel-item:first-child::after {align-self: flex-end;width: 50%;}#sk-bf621ddd-e818-4141-a5f2-1636f371c54c div.sk-parallel-item:last-child::after {align-self: flex-start;width: 50%;}#sk-bf621ddd-e818-4141-a5f2-1636f371c54c div.sk-parallel-item:only-child::after {width: 0;}#sk-bf621ddd-e818-4141-a5f2-1636f371c54c div.sk-dashed-wrapped {border: 1px dashed gray;margin: 0 0.4em 0.5em 0.4em;box-sizing: border-box;padding-bottom: 0.4em;background-color: white;position: relative;}#sk-bf621ddd-e818-4141-a5f2-1636f371c54c div.sk-label label {font-family: monospace;font-weight: bold;background-color: white;display: inline-block;line-height: 1.2em;}#sk-bf621ddd-e818-4141-a5f2-1636f371c54c div.sk-label-container {position: relative;z-index: 2;text-align: center;}#sk-bf621ddd-e818-4141-a5f2-1636f371c54c div.sk-container {/* jupyter's `normalize.less` sets `[hidden] { display: none; }` but bootstrap.min.css set `[hidden] { display: none !important; }` so we also need the `!important` here to be able to override the default hidden behavior on the sphinx rendered scikit-learn.org. See: https://github.com/scikit-learn/scikit-learn/issues/21755 */display: inline-block !important;position: relative;}#sk-bf621ddd-e818-4141-a5f2-1636f371c54c div.sk-text-repr-fallback {display: none;}</style><div id=\"sk-bf621ddd-e818-4141-a5f2-1636f371c54c\" class=\"sk-top-container\"><div class=\"sk-text-repr-fallback\"><pre>ColumnTransformer(remainder=&#x27;passthrough&#x27;,\n",
              "                  transformers=[(&#x27;pipeline-1&#x27;,\n",
              "                                 Pipeline(steps=[(&#x27;simpleimputer&#x27;,\n",
              "                                                  SimpleImputer()),\n",
              "                                                 (&#x27;standardscaler&#x27;,\n",
              "                                                  StandardScaler())]),\n",
              "                                 &lt;sklearn.compose._column_transformer.make_column_selector object at 0x7fcc369304d0&gt;),\n",
              "                                (&#x27;pipeline-2&#x27;,\n",
              "                                 Pipeline(steps=[(&#x27;simpleimputer&#x27;,\n",
              "                                                  SimpleImputer(strategy=&#x27;most_frequent&#x27;)),\n",
              "                                                 (&#x27;onehotencoder&#x27;,\n",
              "                                                  OneHotEncoder(handle_unknown=&#x27;ignore&#x27;,\n",
              "                                                                sparse=False))]),\n",
              "                                 &lt;sklearn.compose._column_transformer.make_column_selector object at 0x7fcc369309d0&gt;)])</pre><b>Please rerun this cell to show the HTML repr or trust the notebook.</b></div><div class=\"sk-container\" hidden><div class=\"sk-item sk-dashed-wrapped\"><div class=\"sk-label-container\"><div class=\"sk-label sk-toggleable\"><input class=\"sk-toggleable__control sk-hidden--visually\" id=\"1f6fae34-5b44-4af4-91fb-5257ce5a2b6d\" type=\"checkbox\" ><label for=\"1f6fae34-5b44-4af4-91fb-5257ce5a2b6d\" class=\"sk-toggleable__label sk-toggleable__label-arrow\">ColumnTransformer</label><div class=\"sk-toggleable__content\"><pre>ColumnTransformer(remainder=&#x27;passthrough&#x27;,\n",
              "                  transformers=[(&#x27;pipeline-1&#x27;,\n",
              "                                 Pipeline(steps=[(&#x27;simpleimputer&#x27;,\n",
              "                                                  SimpleImputer()),\n",
              "                                                 (&#x27;standardscaler&#x27;,\n",
              "                                                  StandardScaler())]),\n",
              "                                 &lt;sklearn.compose._column_transformer.make_column_selector object at 0x7fcc369304d0&gt;),\n",
              "                                (&#x27;pipeline-2&#x27;,\n",
              "                                 Pipeline(steps=[(&#x27;simpleimputer&#x27;,\n",
              "                                                  SimpleImputer(strategy=&#x27;most_frequent&#x27;)),\n",
              "                                                 (&#x27;onehotencoder&#x27;,\n",
              "                                                  OneHotEncoder(handle_unknown=&#x27;ignore&#x27;,\n",
              "                                                                sparse=False))]),\n",
              "                                 &lt;sklearn.compose._column_transformer.make_column_selector object at 0x7fcc369309d0&gt;)])</pre></div></div></div><div class=\"sk-parallel\"><div class=\"sk-parallel-item\"><div class=\"sk-item\"><div class=\"sk-label-container\"><div class=\"sk-label sk-toggleable\"><input class=\"sk-toggleable__control sk-hidden--visually\" id=\"817f1487-b7ba-464c-9d93-aed3b654f1f3\" type=\"checkbox\" ><label for=\"817f1487-b7ba-464c-9d93-aed3b654f1f3\" class=\"sk-toggleable__label sk-toggleable__label-arrow\">pipeline-1</label><div class=\"sk-toggleable__content\"><pre>&lt;sklearn.compose._column_transformer.make_column_selector object at 0x7fcc369304d0&gt;</pre></div></div></div><div class=\"sk-serial\"><div class=\"sk-item\"><div class=\"sk-serial\"><div class=\"sk-item\"><div class=\"sk-estimator sk-toggleable\"><input class=\"sk-toggleable__control sk-hidden--visually\" id=\"b0f6d85d-4dee-49e0-9a5b-4aca63792e2c\" type=\"checkbox\" ><label for=\"b0f6d85d-4dee-49e0-9a5b-4aca63792e2c\" class=\"sk-toggleable__label sk-toggleable__label-arrow\">SimpleImputer</label><div class=\"sk-toggleable__content\"><pre>SimpleImputer()</pre></div></div></div><div class=\"sk-item\"><div class=\"sk-estimator sk-toggleable\"><input class=\"sk-toggleable__control sk-hidden--visually\" id=\"e045e2af-a25e-41c5-ad49-623b997579b1\" type=\"checkbox\" ><label for=\"e045e2af-a25e-41c5-ad49-623b997579b1\" class=\"sk-toggleable__label sk-toggleable__label-arrow\">StandardScaler</label><div class=\"sk-toggleable__content\"><pre>StandardScaler()</pre></div></div></div></div></div></div></div></div><div class=\"sk-parallel-item\"><div class=\"sk-item\"><div class=\"sk-label-container\"><div class=\"sk-label sk-toggleable\"><input class=\"sk-toggleable__control sk-hidden--visually\" id=\"1f53e51a-0913-425a-86ee-ad2825e0cd0c\" type=\"checkbox\" ><label for=\"1f53e51a-0913-425a-86ee-ad2825e0cd0c\" class=\"sk-toggleable__label sk-toggleable__label-arrow\">pipeline-2</label><div class=\"sk-toggleable__content\"><pre>&lt;sklearn.compose._column_transformer.make_column_selector object at 0x7fcc369309d0&gt;</pre></div></div></div><div class=\"sk-serial\"><div class=\"sk-item\"><div class=\"sk-serial\"><div class=\"sk-item\"><div class=\"sk-estimator sk-toggleable\"><input class=\"sk-toggleable__control sk-hidden--visually\" id=\"f49eaedf-e179-4653-8a65-b27097c745e9\" type=\"checkbox\" ><label for=\"f49eaedf-e179-4653-8a65-b27097c745e9\" class=\"sk-toggleable__label sk-toggleable__label-arrow\">SimpleImputer</label><div class=\"sk-toggleable__content\"><pre>SimpleImputer(strategy=&#x27;most_frequent&#x27;)</pre></div></div></div><div class=\"sk-item\"><div class=\"sk-estimator sk-toggleable\"><input class=\"sk-toggleable__control sk-hidden--visually\" id=\"d3cc4322-fa05-4c59-b83d-796fc1d4518b\" type=\"checkbox\" ><label for=\"d3cc4322-fa05-4c59-b83d-796fc1d4518b\" class=\"sk-toggleable__label sk-toggleable__label-arrow\">OneHotEncoder</label><div class=\"sk-toggleable__content\"><pre>OneHotEncoder(handle_unknown=&#x27;ignore&#x27;, sparse=False)</pre></div></div></div></div></div></div></div></div><div class=\"sk-parallel-item\"><div class=\"sk-item\"><div class=\"sk-label-container\"><div class=\"sk-label sk-toggleable\"><input class=\"sk-toggleable__control sk-hidden--visually\" id=\"d8987b9a-5e52-4d14-b5d7-92dc54ef9f1c\" type=\"checkbox\" ><label for=\"d8987b9a-5e52-4d14-b5d7-92dc54ef9f1c\" class=\"sk-toggleable__label sk-toggleable__label-arrow\">remainder</label><div class=\"sk-toggleable__content\"><pre></pre></div></div></div><div class=\"sk-serial\"><div class=\"sk-item\"><div class=\"sk-estimator sk-toggleable\"><input class=\"sk-toggleable__control sk-hidden--visually\" id=\"8c2abfcf-1223-4ee9-bc45-cae53b8b0ec3\" type=\"checkbox\" ><label for=\"8c2abfcf-1223-4ee9-bc45-cae53b8b0ec3\" class=\"sk-toggleable__label sk-toggleable__label-arrow\">passthrough</label><div class=\"sk-toggleable__content\"><pre>passthrough</pre></div></div></div></div></div></div></div></div></div></div>"
            ]
          },
          "metadata": {},
          "execution_count": 62
        }
      ]
    },
    {
      "cell_type": "markdown",
      "source": [
        "Las tuplas lo que hacen es que nuestros transformadores coincidan con los diferentes tipos de datos de nuestras columnas, y haremos uso de esos transformdores a traves de pipelines."
      ],
      "metadata": {
        "id": "D4HGOuTqz7Rp"
      }
    },
    {
      "cell_type": "markdown",
      "source": [
        "10.Transformador de datos"
      ],
      "metadata": {
        "id": "5pSj9MMyYnw5"
      }
    },
    {
      "cell_type": "code",
      "source": [
        "# fit on train\n",
        "preprocessor.fit(X_train)"
      ],
      "metadata": {
        "colab": {
          "base_uri": "https://localhost:8080/",
          "height": 152
        },
        "id": "N5fdGkQEYwz0",
        "outputId": "fc9d60d7-2d35-4f78-8c9d-a97b772c3781"
      },
      "execution_count": 58,
      "outputs": [
        {
          "output_type": "execute_result",
          "data": {
            "text/plain": [
              "ColumnTransformer(transformers=[('pipeline-1',\n",
              "                                 Pipeline(steps=[('simpleimputer',\n",
              "                                                  SimpleImputer()),\n",
              "                                                 ('standardscaler',\n",
              "                                                  StandardScaler())]),\n",
              "                                 <sklearn.compose._column_transformer.make_column_selector object at 0x7fcc369304d0>),\n",
              "                                ('pipeline-2',\n",
              "                                 Pipeline(steps=[('simpleimputer',\n",
              "                                                  SimpleImputer(strategy='most_frequent')),\n",
              "                                                 ('onehotencoder',\n",
              "                                                  OneHotEncoder(handle_unknown='ignore',\n",
              "                                                                sparse=False))]),\n",
              "                                 <sklearn.compose._column_transformer.make_column_selector object at 0x7fcc369309d0>)])"
            ],
            "text/html": [
              "<style>#sk-9ea431a7-9cb9-43e0-8c46-6d8caed7e6e0 {color: black;background-color: white;}#sk-9ea431a7-9cb9-43e0-8c46-6d8caed7e6e0 pre{padding: 0;}#sk-9ea431a7-9cb9-43e0-8c46-6d8caed7e6e0 div.sk-toggleable {background-color: white;}#sk-9ea431a7-9cb9-43e0-8c46-6d8caed7e6e0 label.sk-toggleable__label {cursor: pointer;display: block;width: 100%;margin-bottom: 0;padding: 0.3em;box-sizing: border-box;text-align: center;}#sk-9ea431a7-9cb9-43e0-8c46-6d8caed7e6e0 label.sk-toggleable__label-arrow:before {content: \"▸\";float: left;margin-right: 0.25em;color: #696969;}#sk-9ea431a7-9cb9-43e0-8c46-6d8caed7e6e0 label.sk-toggleable__label-arrow:hover:before {color: black;}#sk-9ea431a7-9cb9-43e0-8c46-6d8caed7e6e0 div.sk-estimator:hover label.sk-toggleable__label-arrow:before {color: black;}#sk-9ea431a7-9cb9-43e0-8c46-6d8caed7e6e0 div.sk-toggleable__content {max-height: 0;max-width: 0;overflow: hidden;text-align: left;background-color: #f0f8ff;}#sk-9ea431a7-9cb9-43e0-8c46-6d8caed7e6e0 div.sk-toggleable__content pre {margin: 0.2em;color: black;border-radius: 0.25em;background-color: #f0f8ff;}#sk-9ea431a7-9cb9-43e0-8c46-6d8caed7e6e0 input.sk-toggleable__control:checked~div.sk-toggleable__content {max-height: 200px;max-width: 100%;overflow: auto;}#sk-9ea431a7-9cb9-43e0-8c46-6d8caed7e6e0 input.sk-toggleable__control:checked~label.sk-toggleable__label-arrow:before {content: \"▾\";}#sk-9ea431a7-9cb9-43e0-8c46-6d8caed7e6e0 div.sk-estimator input.sk-toggleable__control:checked~label.sk-toggleable__label {background-color: #d4ebff;}#sk-9ea431a7-9cb9-43e0-8c46-6d8caed7e6e0 div.sk-label input.sk-toggleable__control:checked~label.sk-toggleable__label {background-color: #d4ebff;}#sk-9ea431a7-9cb9-43e0-8c46-6d8caed7e6e0 input.sk-hidden--visually {border: 0;clip: rect(1px 1px 1px 1px);clip: rect(1px, 1px, 1px, 1px);height: 1px;margin: -1px;overflow: hidden;padding: 0;position: absolute;width: 1px;}#sk-9ea431a7-9cb9-43e0-8c46-6d8caed7e6e0 div.sk-estimator {font-family: monospace;background-color: #f0f8ff;border: 1px dotted black;border-radius: 0.25em;box-sizing: border-box;margin-bottom: 0.5em;}#sk-9ea431a7-9cb9-43e0-8c46-6d8caed7e6e0 div.sk-estimator:hover {background-color: #d4ebff;}#sk-9ea431a7-9cb9-43e0-8c46-6d8caed7e6e0 div.sk-parallel-item::after {content: \"\";width: 100%;border-bottom: 1px solid gray;flex-grow: 1;}#sk-9ea431a7-9cb9-43e0-8c46-6d8caed7e6e0 div.sk-label:hover label.sk-toggleable__label {background-color: #d4ebff;}#sk-9ea431a7-9cb9-43e0-8c46-6d8caed7e6e0 div.sk-serial::before {content: \"\";position: absolute;border-left: 1px solid gray;box-sizing: border-box;top: 2em;bottom: 0;left: 50%;}#sk-9ea431a7-9cb9-43e0-8c46-6d8caed7e6e0 div.sk-serial {display: flex;flex-direction: column;align-items: center;background-color: white;padding-right: 0.2em;padding-left: 0.2em;}#sk-9ea431a7-9cb9-43e0-8c46-6d8caed7e6e0 div.sk-item {z-index: 1;}#sk-9ea431a7-9cb9-43e0-8c46-6d8caed7e6e0 div.sk-parallel {display: flex;align-items: stretch;justify-content: center;background-color: white;}#sk-9ea431a7-9cb9-43e0-8c46-6d8caed7e6e0 div.sk-parallel::before {content: \"\";position: absolute;border-left: 1px solid gray;box-sizing: border-box;top: 2em;bottom: 0;left: 50%;}#sk-9ea431a7-9cb9-43e0-8c46-6d8caed7e6e0 div.sk-parallel-item {display: flex;flex-direction: column;position: relative;background-color: white;}#sk-9ea431a7-9cb9-43e0-8c46-6d8caed7e6e0 div.sk-parallel-item:first-child::after {align-self: flex-end;width: 50%;}#sk-9ea431a7-9cb9-43e0-8c46-6d8caed7e6e0 div.sk-parallel-item:last-child::after {align-self: flex-start;width: 50%;}#sk-9ea431a7-9cb9-43e0-8c46-6d8caed7e6e0 div.sk-parallel-item:only-child::after {width: 0;}#sk-9ea431a7-9cb9-43e0-8c46-6d8caed7e6e0 div.sk-dashed-wrapped {border: 1px dashed gray;margin: 0 0.4em 0.5em 0.4em;box-sizing: border-box;padding-bottom: 0.4em;background-color: white;position: relative;}#sk-9ea431a7-9cb9-43e0-8c46-6d8caed7e6e0 div.sk-label label {font-family: monospace;font-weight: bold;background-color: white;display: inline-block;line-height: 1.2em;}#sk-9ea431a7-9cb9-43e0-8c46-6d8caed7e6e0 div.sk-label-container {position: relative;z-index: 2;text-align: center;}#sk-9ea431a7-9cb9-43e0-8c46-6d8caed7e6e0 div.sk-container {/* jupyter's `normalize.less` sets `[hidden] { display: none; }` but bootstrap.min.css set `[hidden] { display: none !important; }` so we also need the `!important` here to be able to override the default hidden behavior on the sphinx rendered scikit-learn.org. See: https://github.com/scikit-learn/scikit-learn/issues/21755 */display: inline-block !important;position: relative;}#sk-9ea431a7-9cb9-43e0-8c46-6d8caed7e6e0 div.sk-text-repr-fallback {display: none;}</style><div id=\"sk-9ea431a7-9cb9-43e0-8c46-6d8caed7e6e0\" class=\"sk-top-container\"><div class=\"sk-text-repr-fallback\"><pre>ColumnTransformer(transformers=[(&#x27;pipeline-1&#x27;,\n",
              "                                 Pipeline(steps=[(&#x27;simpleimputer&#x27;,\n",
              "                                                  SimpleImputer()),\n",
              "                                                 (&#x27;standardscaler&#x27;,\n",
              "                                                  StandardScaler())]),\n",
              "                                 &lt;sklearn.compose._column_transformer.make_column_selector object at 0x7fcc369304d0&gt;),\n",
              "                                (&#x27;pipeline-2&#x27;,\n",
              "                                 Pipeline(steps=[(&#x27;simpleimputer&#x27;,\n",
              "                                                  SimpleImputer(strategy=&#x27;most_frequent&#x27;)),\n",
              "                                                 (&#x27;onehotencoder&#x27;,\n",
              "                                                  OneHotEncoder(handle_unknown=&#x27;ignore&#x27;,\n",
              "                                                                sparse=False))]),\n",
              "                                 &lt;sklearn.compose._column_transformer.make_column_selector object at 0x7fcc369309d0&gt;)])</pre><b>Please rerun this cell to show the HTML repr or trust the notebook.</b></div><div class=\"sk-container\" hidden><div class=\"sk-item sk-dashed-wrapped\"><div class=\"sk-label-container\"><div class=\"sk-label sk-toggleable\"><input class=\"sk-toggleable__control sk-hidden--visually\" id=\"13f91b35-7d1c-4458-b88f-7e81a996fc8e\" type=\"checkbox\" ><label for=\"13f91b35-7d1c-4458-b88f-7e81a996fc8e\" class=\"sk-toggleable__label sk-toggleable__label-arrow\">ColumnTransformer</label><div class=\"sk-toggleable__content\"><pre>ColumnTransformer(transformers=[(&#x27;pipeline-1&#x27;,\n",
              "                                 Pipeline(steps=[(&#x27;simpleimputer&#x27;,\n",
              "                                                  SimpleImputer()),\n",
              "                                                 (&#x27;standardscaler&#x27;,\n",
              "                                                  StandardScaler())]),\n",
              "                                 &lt;sklearn.compose._column_transformer.make_column_selector object at 0x7fcc369304d0&gt;),\n",
              "                                (&#x27;pipeline-2&#x27;,\n",
              "                                 Pipeline(steps=[(&#x27;simpleimputer&#x27;,\n",
              "                                                  SimpleImputer(strategy=&#x27;most_frequent&#x27;)),\n",
              "                                                 (&#x27;onehotencoder&#x27;,\n",
              "                                                  OneHotEncoder(handle_unknown=&#x27;ignore&#x27;,\n",
              "                                                                sparse=False))]),\n",
              "                                 &lt;sklearn.compose._column_transformer.make_column_selector object at 0x7fcc369309d0&gt;)])</pre></div></div></div><div class=\"sk-parallel\"><div class=\"sk-parallel-item\"><div class=\"sk-item\"><div class=\"sk-label-container\"><div class=\"sk-label sk-toggleable\"><input class=\"sk-toggleable__control sk-hidden--visually\" id=\"da325817-8794-4d9a-b769-4bab7c0a2712\" type=\"checkbox\" ><label for=\"da325817-8794-4d9a-b769-4bab7c0a2712\" class=\"sk-toggleable__label sk-toggleable__label-arrow\">pipeline-1</label><div class=\"sk-toggleable__content\"><pre>&lt;sklearn.compose._column_transformer.make_column_selector object at 0x7fcc369304d0&gt;</pre></div></div></div><div class=\"sk-serial\"><div class=\"sk-item\"><div class=\"sk-serial\"><div class=\"sk-item\"><div class=\"sk-estimator sk-toggleable\"><input class=\"sk-toggleable__control sk-hidden--visually\" id=\"924c548e-40e4-4413-9095-da02ed33022d\" type=\"checkbox\" ><label for=\"924c548e-40e4-4413-9095-da02ed33022d\" class=\"sk-toggleable__label sk-toggleable__label-arrow\">SimpleImputer</label><div class=\"sk-toggleable__content\"><pre>SimpleImputer()</pre></div></div></div><div class=\"sk-item\"><div class=\"sk-estimator sk-toggleable\"><input class=\"sk-toggleable__control sk-hidden--visually\" id=\"81e040f0-6bba-4040-9d72-41ed0cf0d738\" type=\"checkbox\" ><label for=\"81e040f0-6bba-4040-9d72-41ed0cf0d738\" class=\"sk-toggleable__label sk-toggleable__label-arrow\">StandardScaler</label><div class=\"sk-toggleable__content\"><pre>StandardScaler()</pre></div></div></div></div></div></div></div></div><div class=\"sk-parallel-item\"><div class=\"sk-item\"><div class=\"sk-label-container\"><div class=\"sk-label sk-toggleable\"><input class=\"sk-toggleable__control sk-hidden--visually\" id=\"8a2e2319-182a-4639-ad4b-42297c1d0b32\" type=\"checkbox\" ><label for=\"8a2e2319-182a-4639-ad4b-42297c1d0b32\" class=\"sk-toggleable__label sk-toggleable__label-arrow\">pipeline-2</label><div class=\"sk-toggleable__content\"><pre>&lt;sklearn.compose._column_transformer.make_column_selector object at 0x7fcc369309d0&gt;</pre></div></div></div><div class=\"sk-serial\"><div class=\"sk-item\"><div class=\"sk-serial\"><div class=\"sk-item\"><div class=\"sk-estimator sk-toggleable\"><input class=\"sk-toggleable__control sk-hidden--visually\" id=\"480f22ce-9f8f-46ca-b448-c2fef24ca9bd\" type=\"checkbox\" ><label for=\"480f22ce-9f8f-46ca-b448-c2fef24ca9bd\" class=\"sk-toggleable__label sk-toggleable__label-arrow\">SimpleImputer</label><div class=\"sk-toggleable__content\"><pre>SimpleImputer(strategy=&#x27;most_frequent&#x27;)</pre></div></div></div><div class=\"sk-item\"><div class=\"sk-estimator sk-toggleable\"><input class=\"sk-toggleable__control sk-hidden--visually\" id=\"c90d0018-275c-48b3-a7fd-d7f3050279cb\" type=\"checkbox\" ><label for=\"c90d0018-275c-48b3-a7fd-d7f3050279cb\" class=\"sk-toggleable__label sk-toggleable__label-arrow\">OneHotEncoder</label><div class=\"sk-toggleable__content\"><pre>OneHotEncoder(handle_unknown=&#x27;ignore&#x27;, sparse=False)</pre></div></div></div></div></div></div></div></div></div></div></div></div>"
            ]
          },
          "metadata": {},
          "execution_count": 58
        }
      ]
    },
    {
      "cell_type": "markdown",
      "source": [
        "El codigo anterior nos permite ajustar el column transformer en nuestro espacio de entrenamiento, ajustando nuestros transformadores dentro del COLUMN TRANSFORMER."
      ],
      "metadata": {
        "id": "PeCqNN5-0S9x"
      }
    },
    {
      "cell_type": "code",
      "source": [
        "# Transformar datos de entrenamiento y de prueba\n",
        "X_train_processed = preprocessor.transform(X_train)\n",
        "X_test_processed = preprocessor.transform(X_test)"
      ],
      "metadata": {
        "id": "eCNIq1tjYnFt"
      },
      "execution_count": 60,
      "outputs": []
    },
    {
      "cell_type": "markdown",
      "source": [
        "11.Inspeccionar el resultado"
      ],
      "metadata": {
        "id": "5FMhCkdk1FKf"
      }
    },
    {
      "cell_type": "code",
      "source": [
        "print(np.isnan(X_train_processed).sum().sum(), 'valores faltantes en datos de entrenamiento')\n",
        "print(np.isnan(X_test_processed).sum().sum(), 'valores faltantes en datos de prueba')\n",
        "print('\\n')\n",
        "print('Toda la data en X_train_processed es', X_train_processed.dtype)\n",
        "print('Toda la data en X_test_processed es', X_test_processed.dtype)\n",
        "print('\\n')\n",
        "print('shape de la data es', X_train_processed.shape)\n",
        "print('\\n')\n",
        "X_train_processed"
      ],
      "metadata": {
        "colab": {
          "base_uri": "https://localhost:8080/"
        },
        "id": "AmwCjaX51JUZ",
        "outputId": "2385bdc2-08a0-4cf3-f2f8-0044010ddb5c"
      },
      "execution_count": 61,
      "outputs": [
        {
          "output_type": "stream",
          "name": "stdout",
          "text": [
            "0 valores faltantes en datos de entrenamiento\n",
            "0 valores faltantes en datos de prueba\n",
            "\n",
            "\n",
            "Toda la data en X_train_processed es float64\n",
            "Toda la data en X_test_processed es float64\n",
            "\n",
            "\n",
            "shape de la data es (6392, 1591)\n",
            "\n",
            "\n"
          ]
        },
        {
          "output_type": "execute_result",
          "data": {
            "text/plain": [
              "array([[ 0.81724868,  0.7403206 , -0.71277507, ...,  0.        ,\n",
              "         1.        ,  0.        ],\n",
              "       [ 0.5563395 , -1.35076614, -1.29105225, ...,  0.        ,\n",
              "         1.        ,  0.        ],\n",
              "       [-0.13151196, -1.35076614,  1.81331864, ...,  1.        ,\n",
              "         0.        ,  0.        ],\n",
              "       ...,\n",
              "       [ 1.11373638,  0.7403206 , -0.92052713, ...,  1.        ,\n",
              "         0.        ,  0.        ],\n",
              "       [ 1.76600931,  0.7403206 , -0.2277552 , ...,  1.        ,\n",
              "         0.        ,  0.        ],\n",
              "       [ 0.81724868,  0.7403206 , -0.95867683, ...,  1.        ,\n",
              "         0.        ,  0.        ]])"
            ]
          },
          "metadata": {},
          "execution_count": 61
        }
      ]
    },
    {
      "cell_type": "markdown",
      "source": [
        "Como podemos leerlo en el array de numpy arrojado, no hay valores faltantes, todos los datos son de tipo numerico flotante y despues del one hot coder tenemos mas columnas que al inicio, ahora tenemos 1591 vs 12 columnas iniciales, todas fueron escaladas.\n",
        "\n",
        "\n",
        "Realizamos varias tranformaciones en un solo paso de transformacion, acortando el codigo."
      ],
      "metadata": {
        "id": "qmQP6ARE1oZl"
      }
    }
  ]
}