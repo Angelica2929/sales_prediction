{
  "nbformat": 4,
  "nbformat_minor": 0,
  "metadata": {
    "colab": {
      "provenance": [],
      "collapsed_sections": [],
      "mount_file_id": "1vnlJj5JHn1Lb2bXqwdQYORtmvur_gZmE",
      "authorship_tag": "ABX9TyPZjMEzIH9yDwO6vmRXoQAy",
      "include_colab_link": true
    },
    "kernelspec": {
      "name": "python3",
      "display_name": "Python 3"
    },
    "language_info": {
      "name": "python"
    }
  },
  "cells": [
    {
      "cell_type": "markdown",
      "metadata": {
        "id": "view-in-github",
        "colab_type": "text"
      },
      "source": [
        "<a href=\"https://colab.research.google.com/github/Angelica2929/sales_prediction/blob/main/Preprocesamiento_modelo.ipynb\" target=\"_parent\"><img src=\"https://colab.research.google.com/assets/colab-badge.svg\" alt=\"Open In Colab\"/></a>"
      ]
    },
    {
      "cell_type": "markdown",
      "source": [
        "**Proyecto 1 Prediccion Ventas - Parte 5 (base)**"
      ],
      "metadata": {
        "id": "ItezfRidyLFJ"
      }
    },
    {
      "cell_type": "markdown",
      "source": [
        "El objetivo de este paso es ayudar al distribuidor usando el aprendizaje automático para realizar predicciones sobre futuras ventas basándose en los datos proporcionados.\n",
        "\n"
      ],
      "metadata": {
        "id": "kYYr1FfJyM8a"
      }
    },
    {
      "cell_type": "markdown",
      "source": [
        "1.Importar las biblioetcas necesarias."
      ],
      "metadata": {
        "id": "fPj-AZeIzIwu"
      }
    },
    {
      "cell_type": "code",
      "execution_count": 63,
      "metadata": {
        "id": "VTrsWo2bx7Kk"
      },
      "outputs": [],
      "source": [
        "import pandas as pd\n",
        "import numpy as np\n",
        "from sklearn.preprocessing import StandardScaler, OneHotEncoder\n",
        "from sklearn.impute import SimpleImputer\n",
        "from sklearn.compose import make_column_transformer, make_column_selector\n",
        "from sklearn.pipeline import make_pipeline\n",
        "from sklearn.model_selection import train_test_split\n",
        "from sklearn import set_config\n",
        "set_config(display='diagram')"
      ]
    },
    {
      "cell_type": "markdown",
      "source": [
        "2.Cargar estructura de datos"
      ],
      "metadata": {
        "id": "w7mwdnqfzNpv"
      }
    },
    {
      "cell_type": "code",
      "source": [
        "filename = '/content/drive/MyDrive/CODING DOJO/WEEK 5/sales_predictions.csv'\n",
        "df = pd.read_csv(filename)\n",
        "df.head()"
      ],
      "metadata": {
        "colab": {
          "base_uri": "https://localhost:8080/",
          "height": 357
        },
        "id": "DOXJYLLAzQ_B",
        "outputId": "455c61ef-e198-4dda-bbad-1fbcdd02c733"
      },
      "execution_count": 64,
      "outputs": [
        {
          "output_type": "execute_result",
          "data": {
            "text/plain": [
              "  Item_Identifier  Item_Weight Item_Fat_Content  Item_Visibility  \\\n",
              "0           FDA15         9.30          Low Fat         0.016047   \n",
              "1           DRC01         5.92          Regular         0.019278   \n",
              "2           FDN15        17.50          Low Fat         0.016760   \n",
              "3           FDX07        19.20          Regular         0.000000   \n",
              "4           NCD19         8.93          Low Fat         0.000000   \n",
              "\n",
              "               Item_Type  Item_MRP Outlet_Identifier  \\\n",
              "0                  Dairy  249.8092            OUT049   \n",
              "1            Soft Drinks   48.2692            OUT018   \n",
              "2                   Meat  141.6180            OUT049   \n",
              "3  Fruits and Vegetables  182.0950            OUT010   \n",
              "4              Household   53.8614            OUT013   \n",
              "\n",
              "   Outlet_Establishment_Year Outlet_Size Outlet_Location_Type  \\\n",
              "0                       1999      Medium               Tier 1   \n",
              "1                       2009      Medium               Tier 3   \n",
              "2                       1999      Medium               Tier 1   \n",
              "3                       1998         NaN               Tier 3   \n",
              "4                       1987        High               Tier 3   \n",
              "\n",
              "         Outlet_Type  Item_Outlet_Sales  \n",
              "0  Supermarket Type1          3735.1380  \n",
              "1  Supermarket Type2           443.4228  \n",
              "2  Supermarket Type1          2097.2700  \n",
              "3      Grocery Store           732.3800  \n",
              "4  Supermarket Type1           994.7052  "
            ],
            "text/html": [
              "\n",
              "  <div id=\"df-dc7ea723-cabf-4f9a-b67b-9a53035e4362\">\n",
              "    <div class=\"colab-df-container\">\n",
              "      <div>\n",
              "<style scoped>\n",
              "    .dataframe tbody tr th:only-of-type {\n",
              "        vertical-align: middle;\n",
              "    }\n",
              "\n",
              "    .dataframe tbody tr th {\n",
              "        vertical-align: top;\n",
              "    }\n",
              "\n",
              "    .dataframe thead th {\n",
              "        text-align: right;\n",
              "    }\n",
              "</style>\n",
              "<table border=\"1\" class=\"dataframe\">\n",
              "  <thead>\n",
              "    <tr style=\"text-align: right;\">\n",
              "      <th></th>\n",
              "      <th>Item_Identifier</th>\n",
              "      <th>Item_Weight</th>\n",
              "      <th>Item_Fat_Content</th>\n",
              "      <th>Item_Visibility</th>\n",
              "      <th>Item_Type</th>\n",
              "      <th>Item_MRP</th>\n",
              "      <th>Outlet_Identifier</th>\n",
              "      <th>Outlet_Establishment_Year</th>\n",
              "      <th>Outlet_Size</th>\n",
              "      <th>Outlet_Location_Type</th>\n",
              "      <th>Outlet_Type</th>\n",
              "      <th>Item_Outlet_Sales</th>\n",
              "    </tr>\n",
              "  </thead>\n",
              "  <tbody>\n",
              "    <tr>\n",
              "      <th>0</th>\n",
              "      <td>FDA15</td>\n",
              "      <td>9.30</td>\n",
              "      <td>Low Fat</td>\n",
              "      <td>0.016047</td>\n",
              "      <td>Dairy</td>\n",
              "      <td>249.8092</td>\n",
              "      <td>OUT049</td>\n",
              "      <td>1999</td>\n",
              "      <td>Medium</td>\n",
              "      <td>Tier 1</td>\n",
              "      <td>Supermarket Type1</td>\n",
              "      <td>3735.1380</td>\n",
              "    </tr>\n",
              "    <tr>\n",
              "      <th>1</th>\n",
              "      <td>DRC01</td>\n",
              "      <td>5.92</td>\n",
              "      <td>Regular</td>\n",
              "      <td>0.019278</td>\n",
              "      <td>Soft Drinks</td>\n",
              "      <td>48.2692</td>\n",
              "      <td>OUT018</td>\n",
              "      <td>2009</td>\n",
              "      <td>Medium</td>\n",
              "      <td>Tier 3</td>\n",
              "      <td>Supermarket Type2</td>\n",
              "      <td>443.4228</td>\n",
              "    </tr>\n",
              "    <tr>\n",
              "      <th>2</th>\n",
              "      <td>FDN15</td>\n",
              "      <td>17.50</td>\n",
              "      <td>Low Fat</td>\n",
              "      <td>0.016760</td>\n",
              "      <td>Meat</td>\n",
              "      <td>141.6180</td>\n",
              "      <td>OUT049</td>\n",
              "      <td>1999</td>\n",
              "      <td>Medium</td>\n",
              "      <td>Tier 1</td>\n",
              "      <td>Supermarket Type1</td>\n",
              "      <td>2097.2700</td>\n",
              "    </tr>\n",
              "    <tr>\n",
              "      <th>3</th>\n",
              "      <td>FDX07</td>\n",
              "      <td>19.20</td>\n",
              "      <td>Regular</td>\n",
              "      <td>0.000000</td>\n",
              "      <td>Fruits and Vegetables</td>\n",
              "      <td>182.0950</td>\n",
              "      <td>OUT010</td>\n",
              "      <td>1998</td>\n",
              "      <td>NaN</td>\n",
              "      <td>Tier 3</td>\n",
              "      <td>Grocery Store</td>\n",
              "      <td>732.3800</td>\n",
              "    </tr>\n",
              "    <tr>\n",
              "      <th>4</th>\n",
              "      <td>NCD19</td>\n",
              "      <td>8.93</td>\n",
              "      <td>Low Fat</td>\n",
              "      <td>0.000000</td>\n",
              "      <td>Household</td>\n",
              "      <td>53.8614</td>\n",
              "      <td>OUT013</td>\n",
              "      <td>1987</td>\n",
              "      <td>High</td>\n",
              "      <td>Tier 3</td>\n",
              "      <td>Supermarket Type1</td>\n",
              "      <td>994.7052</td>\n",
              "    </tr>\n",
              "  </tbody>\n",
              "</table>\n",
              "</div>\n",
              "      <button class=\"colab-df-convert\" onclick=\"convertToInteractive('df-dc7ea723-cabf-4f9a-b67b-9a53035e4362')\"\n",
              "              title=\"Convert this dataframe to an interactive table.\"\n",
              "              style=\"display:none;\">\n",
              "        \n",
              "  <svg xmlns=\"http://www.w3.org/2000/svg\" height=\"24px\"viewBox=\"0 0 24 24\"\n",
              "       width=\"24px\">\n",
              "    <path d=\"M0 0h24v24H0V0z\" fill=\"none\"/>\n",
              "    <path d=\"M18.56 5.44l.94 2.06.94-2.06 2.06-.94-2.06-.94-.94-2.06-.94 2.06-2.06.94zm-11 1L8.5 8.5l.94-2.06 2.06-.94-2.06-.94L8.5 2.5l-.94 2.06-2.06.94zm10 10l.94 2.06.94-2.06 2.06-.94-2.06-.94-.94-2.06-.94 2.06-2.06.94z\"/><path d=\"M17.41 7.96l-1.37-1.37c-.4-.4-.92-.59-1.43-.59-.52 0-1.04.2-1.43.59L10.3 9.45l-7.72 7.72c-.78.78-.78 2.05 0 2.83L4 21.41c.39.39.9.59 1.41.59.51 0 1.02-.2 1.41-.59l7.78-7.78 2.81-2.81c.8-.78.8-2.07 0-2.86zM5.41 20L4 18.59l7.72-7.72 1.47 1.35L5.41 20z\"/>\n",
              "  </svg>\n",
              "      </button>\n",
              "      \n",
              "  <style>\n",
              "    .colab-df-container {\n",
              "      display:flex;\n",
              "      flex-wrap:wrap;\n",
              "      gap: 12px;\n",
              "    }\n",
              "\n",
              "    .colab-df-convert {\n",
              "      background-color: #E8F0FE;\n",
              "      border: none;\n",
              "      border-radius: 50%;\n",
              "      cursor: pointer;\n",
              "      display: none;\n",
              "      fill: #1967D2;\n",
              "      height: 32px;\n",
              "      padding: 0 0 0 0;\n",
              "      width: 32px;\n",
              "    }\n",
              "\n",
              "    .colab-df-convert:hover {\n",
              "      background-color: #E2EBFA;\n",
              "      box-shadow: 0px 1px 2px rgba(60, 64, 67, 0.3), 0px 1px 3px 1px rgba(60, 64, 67, 0.15);\n",
              "      fill: #174EA6;\n",
              "    }\n",
              "\n",
              "    [theme=dark] .colab-df-convert {\n",
              "      background-color: #3B4455;\n",
              "      fill: #D2E3FC;\n",
              "    }\n",
              "\n",
              "    [theme=dark] .colab-df-convert:hover {\n",
              "      background-color: #434B5C;\n",
              "      box-shadow: 0px 1px 3px 1px rgba(0, 0, 0, 0.15);\n",
              "      filter: drop-shadow(0px 1px 2px rgba(0, 0, 0, 0.3));\n",
              "      fill: #FFFFFF;\n",
              "    }\n",
              "  </style>\n",
              "\n",
              "      <script>\n",
              "        const buttonEl =\n",
              "          document.querySelector('#df-dc7ea723-cabf-4f9a-b67b-9a53035e4362 button.colab-df-convert');\n",
              "        buttonEl.style.display =\n",
              "          google.colab.kernel.accessAllowed ? 'block' : 'none';\n",
              "\n",
              "        async function convertToInteractive(key) {\n",
              "          const element = document.querySelector('#df-dc7ea723-cabf-4f9a-b67b-9a53035e4362');\n",
              "          const dataTable =\n",
              "            await google.colab.kernel.invokeFunction('convertToInteractive',\n",
              "                                                     [key], {});\n",
              "          if (!dataTable) return;\n",
              "\n",
              "          const docLinkHtml = 'Like what you see? Visit the ' +\n",
              "            '<a target=\"_blank\" href=https://colab.research.google.com/notebooks/data_table.ipynb>data table notebook</a>'\n",
              "            + ' to learn more about interactive tables.';\n",
              "          element.innerHTML = '';\n",
              "          dataTable['output_type'] = 'display_data';\n",
              "          await google.colab.output.renderOutput(dataTable, element);\n",
              "          const docLink = document.createElement('div');\n",
              "          docLink.innerHTML = docLinkHtml;\n",
              "          element.appendChild(docLink);\n",
              "        }\n",
              "      </script>\n",
              "    </div>\n",
              "  </div>\n",
              "  "
            ]
          },
          "metadata": {},
          "execution_count": 64
        }
      ]
    },
    {
      "cell_type": "markdown",
      "source": [
        "3. Explorar los datos"
      ],
      "metadata": {
        "id": "OdiHy-NE0YVn"
      }
    },
    {
      "cell_type": "code",
      "source": [
        "df.info()"
      ],
      "metadata": {
        "colab": {
          "base_uri": "https://localhost:8080/"
        },
        "id": "vbN051T50Zzo",
        "outputId": "54f2bfbe-a70e-4d3c-8071-c217a9a67e27"
      },
      "execution_count": 65,
      "outputs": [
        {
          "output_type": "stream",
          "name": "stdout",
          "text": [
            "<class 'pandas.core.frame.DataFrame'>\n",
            "RangeIndex: 8523 entries, 0 to 8522\n",
            "Data columns (total 12 columns):\n",
            " #   Column                     Non-Null Count  Dtype  \n",
            "---  ------                     --------------  -----  \n",
            " 0   Item_Identifier            8523 non-null   object \n",
            " 1   Item_Weight                7060 non-null   float64\n",
            " 2   Item_Fat_Content           8523 non-null   object \n",
            " 3   Item_Visibility            8523 non-null   float64\n",
            " 4   Item_Type                  8523 non-null   object \n",
            " 5   Item_MRP                   8523 non-null   float64\n",
            " 6   Outlet_Identifier          8523 non-null   object \n",
            " 7   Outlet_Establishment_Year  8523 non-null   int64  \n",
            " 8   Outlet_Size                6113 non-null   object \n",
            " 9   Outlet_Location_Type       8523 non-null   object \n",
            " 10  Outlet_Type                8523 non-null   object \n",
            " 11  Item_Outlet_Sales          8523 non-null   float64\n",
            "dtypes: float64(4), int64(1), object(7)\n",
            "memory usage: 799.2+ KB\n"
          ]
        }
      ]
    },
    {
      "cell_type": "markdown",
      "source": [
        "Al realizar la exploracion de nuestra data, podemos identificar 3 tipos de caracteristicas asi:\n",
        "\n",
        "\n",
        "**NUMERICAS**\n",
        "\n",
        "'Item_Weight',\n",
        "'Item_Fat_Content',\n",
        "'Item_Visibility',\n",
        "'Item_MRP',\n",
        "'Outlet_Establishment_Year'\n",
        "\n",
        "**ORDINALES**.                                              \n",
        "'Item_Fat_Content'\n",
        "\n",
        "**NOMINALES**\n",
        "\n",
        "'Item_Identifier',\n",
        "'Item_Type',\n",
        "'Outlet_Identifier',\n",
        "'Outlet_Size',\n",
        "'Outlet_Location_Type',\n",
        "'Outlet_Type'\n",
        "\n",
        "Para el proceso de aprendizaje de nuestro modelo sera necesario transformar nuestras caracteristicas nominales y si es el caso ordinales en variables numericas, esto para mayor funcionalidad de nuestro modelo.\n",
        "\n",
        "Adicionalmente identificamos datos faltantes en las categorias de Item_Weight (Variable Numerica)y OutleT Size (Variable Categorica), situacion que debemos abordar a continuacion con el metodo de Mean Imputation para variables numericas y Most_frequent imputation para variables categoricas."
      ],
      "metadata": {
        "id": "wlJVMqxxegBW"
      }
    },
    {
      "cell_type": "markdown",
      "source": [
        "4. Codificación ordinal"
      ],
      "metadata": {
        "id": "AQjQb9Wt0uVX"
      }
    },
    {
      "cell_type": "code",
      "source": [
        "df['Item_Fat_Content'].value_counts()"
      ],
      "metadata": {
        "colab": {
          "base_uri": "https://localhost:8080/"
        },
        "id": "u44MPJAA07cl",
        "outputId": "071c06bc-f446-42ad-e1cd-405921f8f0ad"
      },
      "execution_count": 66,
      "outputs": [
        {
          "output_type": "execute_result",
          "data": {
            "text/plain": [
              "Low Fat    5089\n",
              "Regular    2889\n",
              "LF          316\n",
              "reg         117\n",
              "low fat     112\n",
              "Name: Item_Fat_Content, dtype: int64"
            ]
          },
          "metadata": {},
          "execution_count": 66
        }
      ]
    },
    {
      "cell_type": "code",
      "source": [
        "# Codificación ordinal \"Item_Fat_Content\"\n",
        "replacement_dictionary = {'Low':1, 'Low Fat':1, 'LF':1, 'low fat':1, 'Regular':0, 'reg':0}\n",
        "df['Item_Fat_Content'].replace(replacement_dictionary, inplace=True)\n",
        "df['Item_Fat_Content']"
      ],
      "metadata": {
        "colab": {
          "base_uri": "https://localhost:8080/"
        },
        "id": "ix-pS2jv1ode",
        "outputId": "1fcbc826-226d-448f-9d0e-a464e0fe7f69"
      },
      "execution_count": 67,
      "outputs": [
        {
          "output_type": "execute_result",
          "data": {
            "text/plain": [
              "0       1\n",
              "1       0\n",
              "2       1\n",
              "3       0\n",
              "4       1\n",
              "       ..\n",
              "8518    1\n",
              "8519    0\n",
              "8520    1\n",
              "8521    0\n",
              "8522    1\n",
              "Name: Item_Fat_Content, Length: 8523, dtype: int64"
            ]
          },
          "metadata": {},
          "execution_count": 67
        }
      ]
    },
    {
      "cell_type": "code",
      "source": [
        "df['Item_Fat_Content'].value_counts()"
      ],
      "metadata": {
        "colab": {
          "base_uri": "https://localhost:8080/"
        },
        "id": "fSoH6vuN3Tzq",
        "outputId": "5e1285f1-f75e-4cf3-a4a5-856474dd5e58"
      },
      "execution_count": 68,
      "outputs": [
        {
          "output_type": "execute_result",
          "data": {
            "text/plain": [
              "1    5517\n",
              "0    3006\n",
              "Name: Item_Fat_Content, dtype: int64"
            ]
          },
          "metadata": {},
          "execution_count": 68
        }
      ]
    },
    {
      "cell_type": "markdown",
      "source": [
        "Nuestra variable Item Fat Content es una variable de tipo nominal, fue necesario una conversion, por lo cual hicimos  un diccionario y un replace para ajustar la informacion con inconformidades. Ahora esta ordinalmente codificada."
      ],
      "metadata": {
        "id": "_cYugkd_f9xz"
      }
    },
    {
      "cell_type": "markdown",
      "source": [
        "5. Train test Split"
      ],
      "metadata": {
        "id": "g50lfPu24bOu"
      }
    },
    {
      "cell_type": "code",
      "source": [
        "X = df.drop('Item_Outlet_Sales', axis=1)\n",
        "y = df['Item_Outlet_Sales']\n",
        "X_train, X_test, y_train, y_test = train_test_split(X, y, random_state=42)"
      ],
      "metadata": {
        "id": "NAliNYUG4fqp"
      },
      "execution_count": 69,
      "outputs": []
    },
    {
      "cell_type": "markdown",
      "source": [
        "Nuestra variable target (a predecir) es **Item_Outlet_Sales** que corresponde al total de ventas por tienda, para predecir dicha variable nos apoyaremos basados en el resto de categorias que vienen incluidas como peso, contenido graso,categoria, precio, año creacion tienda etc...\n",
        "\n",
        "Este proceso consiste en dividir nuestro conjunto de datos en 2 grupos (entrenamiento y prueba), y es aqui donde ocurre el proceso de aprendizaje y validacion de nuestro modelo, esto con el proposito de conocer como se va a comportar nuestro target en la medida que nuestro conjunto de caracteristicas se mueva de una o determinada forma.\n"
      ],
      "metadata": {
        "id": "Ho60czYEZaOD"
      }
    },
    {
      "cell_type": "markdown",
      "source": [
        "6.Instanciar selectores de columnas"
      ],
      "metadata": {
        "id": "0ZYgv2Rd5Bfh"
      }
    },
    {
      "cell_type": "code",
      "source": [
        "cat_selector = make_column_selector(dtype_include='object')\n",
        "cat_selector"
      ],
      "metadata": {
        "colab": {
          "base_uri": "https://localhost:8080/"
        },
        "id": "kgBfqE5U5Dnc",
        "outputId": "02080bd0-7a28-4374-9d18-d285e6861bba"
      },
      "execution_count": 70,
      "outputs": [
        {
          "output_type": "execute_result",
          "data": {
            "text/plain": [
              "<sklearn.compose._column_transformer.make_column_selector at 0x7fcc368ad110>"
            ]
          },
          "metadata": {},
          "execution_count": 70
        }
      ]
    },
    {
      "cell_type": "code",
      "source": [
        "#Nos devuelve una lista con las columnas que coinciden con el patron solicitado, en este caso, las categoricas.\n",
        "cat_selector(X_train)"
      ],
      "metadata": {
        "colab": {
          "base_uri": "https://localhost:8080/"
        },
        "id": "yqqKMFM0dplO",
        "outputId": "16cb4830-1295-4ac4-e273-aca6a8379e98"
      },
      "execution_count": 71,
      "outputs": [
        {
          "output_type": "execute_result",
          "data": {
            "text/plain": [
              "['Item_Identifier',\n",
              " 'Item_Type',\n",
              " 'Outlet_Identifier',\n",
              " 'Outlet_Size',\n",
              " 'Outlet_Location_Type',\n",
              " 'Outlet_Type']"
            ]
          },
          "metadata": {},
          "execution_count": 71
        }
      ]
    },
    {
      "cell_type": "code",
      "source": [
        "num_selector = make_column_selector(dtype_include='number')\n",
        "num_selector"
      ],
      "metadata": {
        "colab": {
          "base_uri": "https://localhost:8080/"
        },
        "id": "rIhrByyPdj8D",
        "outputId": "48ad5fc2-c3f8-45d7-a0bb-8d04b78afd8a"
      },
      "execution_count": 72,
      "outputs": [
        {
          "output_type": "execute_result",
          "data": {
            "text/plain": [
              "<sklearn.compose._column_transformer.make_column_selector at 0x7fcc36c29390>"
            ]
          },
          "metadata": {},
          "execution_count": 72
        }
      ]
    },
    {
      "cell_type": "code",
      "source": [
        "#Nos devuelve una lista con las columnas que coinciden con el patron solicitado, en este caso, las numericas.\n",
        "num_selector(X_train)"
      ],
      "metadata": {
        "colab": {
          "base_uri": "https://localhost:8080/"
        },
        "id": "itJQW06TduFQ",
        "outputId": "b2760f5b-542f-4c4a-aace-01ab8d6781cd"
      },
      "execution_count": 73,
      "outputs": [
        {
          "output_type": "execute_result",
          "data": {
            "text/plain": [
              "['Item_Weight',\n",
              " 'Item_Fat_Content',\n",
              " 'Item_Visibility',\n",
              " 'Item_MRP',\n",
              " 'Outlet_Establishment_Year']"
            ]
          },
          "metadata": {},
          "execution_count": 73
        }
      ]
    },
    {
      "cell_type": "markdown",
      "source": [
        "7.Instanciar transformadores"
      ],
      "metadata": {
        "id": "cqbczzLZ5hXV"
      }
    },
    {
      "cell_type": "code",
      "source": [
        "# Imputers\n",
        "freq_imputer = SimpleImputer(strategy='most_frequent')\n",
        "mean_imputer = SimpleImputer(strategy='mean')\n",
        "# Scaler\n",
        "scaler = StandardScaler()\n",
        "# One-hot encoder\n",
        "ohe = OneHotEncoder(handle_unknown='ignore', sparse=False)"
      ],
      "metadata": {
        "id": "zIjrG4ld5ip5"
      },
      "execution_count": 74,
      "outputs": []
    },
    {
      "cell_type": "markdown",
      "source": [
        "Tenemos 2 simple imputers con diferentes estrategias de imputacion, most frequent y mean imputer."
      ],
      "metadata": {
        "id": "PKHfejQbzrE8"
      }
    },
    {
      "cell_type": "markdown",
      "source": [
        "8. Instanciar pipelines"
      ],
      "metadata": {
        "id": "gdYCvW2t5snp"
      }
    },
    {
      "cell_type": "code",
      "source": [
        "#Pipeline Numerico\n",
        "numeric_pipe = make_pipeline(mean_imputer, scaler)\n",
        "numeric_pipe"
      ],
      "metadata": {
        "colab": {
          "base_uri": "https://localhost:8080/",
          "height": 126
        },
        "id": "93zsGMD-WfuU",
        "outputId": "76551a19-a2f8-41e9-900a-3ffd58da504a"
      },
      "execution_count": 75,
      "outputs": [
        {
          "output_type": "execute_result",
          "data": {
            "text/plain": [
              "Pipeline(steps=[('simpleimputer', SimpleImputer()),\n",
              "                ('standardscaler', StandardScaler())])"
            ],
            "text/html": [
              "<style>#sk-48dcf091-5614-4e45-b12e-98894a81108e {color: black;background-color: white;}#sk-48dcf091-5614-4e45-b12e-98894a81108e pre{padding: 0;}#sk-48dcf091-5614-4e45-b12e-98894a81108e div.sk-toggleable {background-color: white;}#sk-48dcf091-5614-4e45-b12e-98894a81108e label.sk-toggleable__label {cursor: pointer;display: block;width: 100%;margin-bottom: 0;padding: 0.3em;box-sizing: border-box;text-align: center;}#sk-48dcf091-5614-4e45-b12e-98894a81108e label.sk-toggleable__label-arrow:before {content: \"▸\";float: left;margin-right: 0.25em;color: #696969;}#sk-48dcf091-5614-4e45-b12e-98894a81108e label.sk-toggleable__label-arrow:hover:before {color: black;}#sk-48dcf091-5614-4e45-b12e-98894a81108e div.sk-estimator:hover label.sk-toggleable__label-arrow:before {color: black;}#sk-48dcf091-5614-4e45-b12e-98894a81108e div.sk-toggleable__content {max-height: 0;max-width: 0;overflow: hidden;text-align: left;background-color: #f0f8ff;}#sk-48dcf091-5614-4e45-b12e-98894a81108e div.sk-toggleable__content pre {margin: 0.2em;color: black;border-radius: 0.25em;background-color: #f0f8ff;}#sk-48dcf091-5614-4e45-b12e-98894a81108e input.sk-toggleable__control:checked~div.sk-toggleable__content {max-height: 200px;max-width: 100%;overflow: auto;}#sk-48dcf091-5614-4e45-b12e-98894a81108e input.sk-toggleable__control:checked~label.sk-toggleable__label-arrow:before {content: \"▾\";}#sk-48dcf091-5614-4e45-b12e-98894a81108e div.sk-estimator input.sk-toggleable__control:checked~label.sk-toggleable__label {background-color: #d4ebff;}#sk-48dcf091-5614-4e45-b12e-98894a81108e div.sk-label input.sk-toggleable__control:checked~label.sk-toggleable__label {background-color: #d4ebff;}#sk-48dcf091-5614-4e45-b12e-98894a81108e input.sk-hidden--visually {border: 0;clip: rect(1px 1px 1px 1px);clip: rect(1px, 1px, 1px, 1px);height: 1px;margin: -1px;overflow: hidden;padding: 0;position: absolute;width: 1px;}#sk-48dcf091-5614-4e45-b12e-98894a81108e div.sk-estimator {font-family: monospace;background-color: #f0f8ff;border: 1px dotted black;border-radius: 0.25em;box-sizing: border-box;margin-bottom: 0.5em;}#sk-48dcf091-5614-4e45-b12e-98894a81108e div.sk-estimator:hover {background-color: #d4ebff;}#sk-48dcf091-5614-4e45-b12e-98894a81108e div.sk-parallel-item::after {content: \"\";width: 100%;border-bottom: 1px solid gray;flex-grow: 1;}#sk-48dcf091-5614-4e45-b12e-98894a81108e div.sk-label:hover label.sk-toggleable__label {background-color: #d4ebff;}#sk-48dcf091-5614-4e45-b12e-98894a81108e div.sk-serial::before {content: \"\";position: absolute;border-left: 1px solid gray;box-sizing: border-box;top: 2em;bottom: 0;left: 50%;}#sk-48dcf091-5614-4e45-b12e-98894a81108e div.sk-serial {display: flex;flex-direction: column;align-items: center;background-color: white;padding-right: 0.2em;padding-left: 0.2em;}#sk-48dcf091-5614-4e45-b12e-98894a81108e div.sk-item {z-index: 1;}#sk-48dcf091-5614-4e45-b12e-98894a81108e div.sk-parallel {display: flex;align-items: stretch;justify-content: center;background-color: white;}#sk-48dcf091-5614-4e45-b12e-98894a81108e div.sk-parallel::before {content: \"\";position: absolute;border-left: 1px solid gray;box-sizing: border-box;top: 2em;bottom: 0;left: 50%;}#sk-48dcf091-5614-4e45-b12e-98894a81108e div.sk-parallel-item {display: flex;flex-direction: column;position: relative;background-color: white;}#sk-48dcf091-5614-4e45-b12e-98894a81108e div.sk-parallel-item:first-child::after {align-self: flex-end;width: 50%;}#sk-48dcf091-5614-4e45-b12e-98894a81108e div.sk-parallel-item:last-child::after {align-self: flex-start;width: 50%;}#sk-48dcf091-5614-4e45-b12e-98894a81108e div.sk-parallel-item:only-child::after {width: 0;}#sk-48dcf091-5614-4e45-b12e-98894a81108e div.sk-dashed-wrapped {border: 1px dashed gray;margin: 0 0.4em 0.5em 0.4em;box-sizing: border-box;padding-bottom: 0.4em;background-color: white;position: relative;}#sk-48dcf091-5614-4e45-b12e-98894a81108e div.sk-label label {font-family: monospace;font-weight: bold;background-color: white;display: inline-block;line-height: 1.2em;}#sk-48dcf091-5614-4e45-b12e-98894a81108e div.sk-label-container {position: relative;z-index: 2;text-align: center;}#sk-48dcf091-5614-4e45-b12e-98894a81108e div.sk-container {/* jupyter's `normalize.less` sets `[hidden] { display: none; }` but bootstrap.min.css set `[hidden] { display: none !important; }` so we also need the `!important` here to be able to override the default hidden behavior on the sphinx rendered scikit-learn.org. See: https://github.com/scikit-learn/scikit-learn/issues/21755 */display: inline-block !important;position: relative;}#sk-48dcf091-5614-4e45-b12e-98894a81108e div.sk-text-repr-fallback {display: none;}</style><div id=\"sk-48dcf091-5614-4e45-b12e-98894a81108e\" class=\"sk-top-container\"><div class=\"sk-text-repr-fallback\"><pre>Pipeline(steps=[(&#x27;simpleimputer&#x27;, SimpleImputer()),\n",
              "                (&#x27;standardscaler&#x27;, StandardScaler())])</pre><b>Please rerun this cell to show the HTML repr or trust the notebook.</b></div><div class=\"sk-container\" hidden><div class=\"sk-item sk-dashed-wrapped\"><div class=\"sk-label-container\"><div class=\"sk-label sk-toggleable\"><input class=\"sk-toggleable__control sk-hidden--visually\" id=\"21ee457f-d034-497f-bd89-f43f63075504\" type=\"checkbox\" ><label for=\"21ee457f-d034-497f-bd89-f43f63075504\" class=\"sk-toggleable__label sk-toggleable__label-arrow\">Pipeline</label><div class=\"sk-toggleable__content\"><pre>Pipeline(steps=[(&#x27;simpleimputer&#x27;, SimpleImputer()),\n",
              "                (&#x27;standardscaler&#x27;, StandardScaler())])</pre></div></div></div><div class=\"sk-serial\"><div class=\"sk-item\"><div class=\"sk-estimator sk-toggleable\"><input class=\"sk-toggleable__control sk-hidden--visually\" id=\"c97b9a8c-77af-41e0-b81a-8de347c29383\" type=\"checkbox\" ><label for=\"c97b9a8c-77af-41e0-b81a-8de347c29383\" class=\"sk-toggleable__label sk-toggleable__label-arrow\">SimpleImputer</label><div class=\"sk-toggleable__content\"><pre>SimpleImputer()</pre></div></div></div><div class=\"sk-item\"><div class=\"sk-estimator sk-toggleable\"><input class=\"sk-toggleable__control sk-hidden--visually\" id=\"e9dcef7f-7aef-4f1f-90a3-40c5fb066451\" type=\"checkbox\" ><label for=\"e9dcef7f-7aef-4f1f-90a3-40c5fb066451\" class=\"sk-toggleable__label sk-toggleable__label-arrow\">StandardScaler</label><div class=\"sk-toggleable__content\"><pre>StandardScaler()</pre></div></div></div></div></div></div></div>"
            ]
          },
          "metadata": {},
          "execution_count": 75
        }
      ]
    },
    {
      "cell_type": "code",
      "source": [
        "# Pipeline Categorico\n",
        "categorical_pipe = make_pipeline(freq_imputer, ohe)\n",
        "categorical_pipe"
      ],
      "metadata": {
        "colab": {
          "base_uri": "https://localhost:8080/",
          "height": 126
        },
        "id": "Qg-LgmvUWj1m",
        "outputId": "57e6095a-0b85-4107-ccc2-8917a9fcbdd1"
      },
      "execution_count": 76,
      "outputs": [
        {
          "output_type": "execute_result",
          "data": {
            "text/plain": [
              "Pipeline(steps=[('simpleimputer', SimpleImputer(strategy='most_frequent')),\n",
              "                ('onehotencoder',\n",
              "                 OneHotEncoder(handle_unknown='ignore', sparse=False))])"
            ],
            "text/html": [
              "<style>#sk-d3674abf-1e14-4c71-9c0d-38f7bc9f25d2 {color: black;background-color: white;}#sk-d3674abf-1e14-4c71-9c0d-38f7bc9f25d2 pre{padding: 0;}#sk-d3674abf-1e14-4c71-9c0d-38f7bc9f25d2 div.sk-toggleable {background-color: white;}#sk-d3674abf-1e14-4c71-9c0d-38f7bc9f25d2 label.sk-toggleable__label {cursor: pointer;display: block;width: 100%;margin-bottom: 0;padding: 0.3em;box-sizing: border-box;text-align: center;}#sk-d3674abf-1e14-4c71-9c0d-38f7bc9f25d2 label.sk-toggleable__label-arrow:before {content: \"▸\";float: left;margin-right: 0.25em;color: #696969;}#sk-d3674abf-1e14-4c71-9c0d-38f7bc9f25d2 label.sk-toggleable__label-arrow:hover:before {color: black;}#sk-d3674abf-1e14-4c71-9c0d-38f7bc9f25d2 div.sk-estimator:hover label.sk-toggleable__label-arrow:before {color: black;}#sk-d3674abf-1e14-4c71-9c0d-38f7bc9f25d2 div.sk-toggleable__content {max-height: 0;max-width: 0;overflow: hidden;text-align: left;background-color: #f0f8ff;}#sk-d3674abf-1e14-4c71-9c0d-38f7bc9f25d2 div.sk-toggleable__content pre {margin: 0.2em;color: black;border-radius: 0.25em;background-color: #f0f8ff;}#sk-d3674abf-1e14-4c71-9c0d-38f7bc9f25d2 input.sk-toggleable__control:checked~div.sk-toggleable__content {max-height: 200px;max-width: 100%;overflow: auto;}#sk-d3674abf-1e14-4c71-9c0d-38f7bc9f25d2 input.sk-toggleable__control:checked~label.sk-toggleable__label-arrow:before {content: \"▾\";}#sk-d3674abf-1e14-4c71-9c0d-38f7bc9f25d2 div.sk-estimator input.sk-toggleable__control:checked~label.sk-toggleable__label {background-color: #d4ebff;}#sk-d3674abf-1e14-4c71-9c0d-38f7bc9f25d2 div.sk-label input.sk-toggleable__control:checked~label.sk-toggleable__label {background-color: #d4ebff;}#sk-d3674abf-1e14-4c71-9c0d-38f7bc9f25d2 input.sk-hidden--visually {border: 0;clip: rect(1px 1px 1px 1px);clip: rect(1px, 1px, 1px, 1px);height: 1px;margin: -1px;overflow: hidden;padding: 0;position: absolute;width: 1px;}#sk-d3674abf-1e14-4c71-9c0d-38f7bc9f25d2 div.sk-estimator {font-family: monospace;background-color: #f0f8ff;border: 1px dotted black;border-radius: 0.25em;box-sizing: border-box;margin-bottom: 0.5em;}#sk-d3674abf-1e14-4c71-9c0d-38f7bc9f25d2 div.sk-estimator:hover {background-color: #d4ebff;}#sk-d3674abf-1e14-4c71-9c0d-38f7bc9f25d2 div.sk-parallel-item::after {content: \"\";width: 100%;border-bottom: 1px solid gray;flex-grow: 1;}#sk-d3674abf-1e14-4c71-9c0d-38f7bc9f25d2 div.sk-label:hover label.sk-toggleable__label {background-color: #d4ebff;}#sk-d3674abf-1e14-4c71-9c0d-38f7bc9f25d2 div.sk-serial::before {content: \"\";position: absolute;border-left: 1px solid gray;box-sizing: border-box;top: 2em;bottom: 0;left: 50%;}#sk-d3674abf-1e14-4c71-9c0d-38f7bc9f25d2 div.sk-serial {display: flex;flex-direction: column;align-items: center;background-color: white;padding-right: 0.2em;padding-left: 0.2em;}#sk-d3674abf-1e14-4c71-9c0d-38f7bc9f25d2 div.sk-item {z-index: 1;}#sk-d3674abf-1e14-4c71-9c0d-38f7bc9f25d2 div.sk-parallel {display: flex;align-items: stretch;justify-content: center;background-color: white;}#sk-d3674abf-1e14-4c71-9c0d-38f7bc9f25d2 div.sk-parallel::before {content: \"\";position: absolute;border-left: 1px solid gray;box-sizing: border-box;top: 2em;bottom: 0;left: 50%;}#sk-d3674abf-1e14-4c71-9c0d-38f7bc9f25d2 div.sk-parallel-item {display: flex;flex-direction: column;position: relative;background-color: white;}#sk-d3674abf-1e14-4c71-9c0d-38f7bc9f25d2 div.sk-parallel-item:first-child::after {align-self: flex-end;width: 50%;}#sk-d3674abf-1e14-4c71-9c0d-38f7bc9f25d2 div.sk-parallel-item:last-child::after {align-self: flex-start;width: 50%;}#sk-d3674abf-1e14-4c71-9c0d-38f7bc9f25d2 div.sk-parallel-item:only-child::after {width: 0;}#sk-d3674abf-1e14-4c71-9c0d-38f7bc9f25d2 div.sk-dashed-wrapped {border: 1px dashed gray;margin: 0 0.4em 0.5em 0.4em;box-sizing: border-box;padding-bottom: 0.4em;background-color: white;position: relative;}#sk-d3674abf-1e14-4c71-9c0d-38f7bc9f25d2 div.sk-label label {font-family: monospace;font-weight: bold;background-color: white;display: inline-block;line-height: 1.2em;}#sk-d3674abf-1e14-4c71-9c0d-38f7bc9f25d2 div.sk-label-container {position: relative;z-index: 2;text-align: center;}#sk-d3674abf-1e14-4c71-9c0d-38f7bc9f25d2 div.sk-container {/* jupyter's `normalize.less` sets `[hidden] { display: none; }` but bootstrap.min.css set `[hidden] { display: none !important; }` so we also need the `!important` here to be able to override the default hidden behavior on the sphinx rendered scikit-learn.org. See: https://github.com/scikit-learn/scikit-learn/issues/21755 */display: inline-block !important;position: relative;}#sk-d3674abf-1e14-4c71-9c0d-38f7bc9f25d2 div.sk-text-repr-fallback {display: none;}</style><div id=\"sk-d3674abf-1e14-4c71-9c0d-38f7bc9f25d2\" class=\"sk-top-container\"><div class=\"sk-text-repr-fallback\"><pre>Pipeline(steps=[(&#x27;simpleimputer&#x27;, SimpleImputer(strategy=&#x27;most_frequent&#x27;)),\n",
              "                (&#x27;onehotencoder&#x27;,\n",
              "                 OneHotEncoder(handle_unknown=&#x27;ignore&#x27;, sparse=False))])</pre><b>Please rerun this cell to show the HTML repr or trust the notebook.</b></div><div class=\"sk-container\" hidden><div class=\"sk-item sk-dashed-wrapped\"><div class=\"sk-label-container\"><div class=\"sk-label sk-toggleable\"><input class=\"sk-toggleable__control sk-hidden--visually\" id=\"faaafbd4-ab69-49a8-ab6a-86f9be5d03f4\" type=\"checkbox\" ><label for=\"faaafbd4-ab69-49a8-ab6a-86f9be5d03f4\" class=\"sk-toggleable__label sk-toggleable__label-arrow\">Pipeline</label><div class=\"sk-toggleable__content\"><pre>Pipeline(steps=[(&#x27;simpleimputer&#x27;, SimpleImputer(strategy=&#x27;most_frequent&#x27;)),\n",
              "                (&#x27;onehotencoder&#x27;,\n",
              "                 OneHotEncoder(handle_unknown=&#x27;ignore&#x27;, sparse=False))])</pre></div></div></div><div class=\"sk-serial\"><div class=\"sk-item\"><div class=\"sk-estimator sk-toggleable\"><input class=\"sk-toggleable__control sk-hidden--visually\" id=\"5f74f530-2b53-4179-b103-654397a7699f\" type=\"checkbox\" ><label for=\"5f74f530-2b53-4179-b103-654397a7699f\" class=\"sk-toggleable__label sk-toggleable__label-arrow\">SimpleImputer</label><div class=\"sk-toggleable__content\"><pre>SimpleImputer(strategy=&#x27;most_frequent&#x27;)</pre></div></div></div><div class=\"sk-item\"><div class=\"sk-estimator sk-toggleable\"><input class=\"sk-toggleable__control sk-hidden--visually\" id=\"bdbbb4c5-750b-4f1e-a255-9a87b16912f4\" type=\"checkbox\" ><label for=\"bdbbb4c5-750b-4f1e-a255-9a87b16912f4\" class=\"sk-toggleable__label sk-toggleable__label-arrow\">OneHotEncoder</label><div class=\"sk-toggleable__content\"><pre>OneHotEncoder(handle_unknown=&#x27;ignore&#x27;, sparse=False)</pre></div></div></div></div></div></div></div>"
            ]
          },
          "metadata": {},
          "execution_count": 76
        }
      ]
    },
    {
      "cell_type": "markdown",
      "source": [
        "9. Instanciar ColumnTransformer"
      ],
      "metadata": {
        "id": "cbvrNNQgXi0c"
      }
    },
    {
      "cell_type": "code",
      "source": [
        "# Tuplas para Column Transformer\n",
        "number_tuple = (numeric_pipe, num_selector)\n",
        "category_tuple = (categorical_pipe, cat_selector)\n",
        "# ColumnTransformer\n",
        "preprocessor = make_column_transformer(number_tuple, category_tuple, remainder='passthrough')\n",
        "preprocessor"
      ],
      "metadata": {
        "colab": {
          "base_uri": "https://localhost:8080/",
          "height": 152
        },
        "id": "tSBwMFtCXkCj",
        "outputId": "ec2c54bb-81fc-4454-9f57-fbd85a17fd35"
      },
      "execution_count": 77,
      "outputs": [
        {
          "output_type": "execute_result",
          "data": {
            "text/plain": [
              "ColumnTransformer(remainder='passthrough',\n",
              "                  transformers=[('pipeline-1',\n",
              "                                 Pipeline(steps=[('simpleimputer',\n",
              "                                                  SimpleImputer()),\n",
              "                                                 ('standardscaler',\n",
              "                                                  StandardScaler())]),\n",
              "                                 <sklearn.compose._column_transformer.make_column_selector object at 0x7fcc36c29390>),\n",
              "                                ('pipeline-2',\n",
              "                                 Pipeline(steps=[('simpleimputer',\n",
              "                                                  SimpleImputer(strategy='most_frequent')),\n",
              "                                                 ('onehotencoder',\n",
              "                                                  OneHotEncoder(handle_unknown='ignore',\n",
              "                                                                sparse=False))]),\n",
              "                                 <sklearn.compose._column_transformer.make_column_selector object at 0x7fcc368ad110>)])"
            ],
            "text/html": [
              "<style>#sk-2dec8b1c-b55b-4495-a32f-8b6a0552bc4d {color: black;background-color: white;}#sk-2dec8b1c-b55b-4495-a32f-8b6a0552bc4d pre{padding: 0;}#sk-2dec8b1c-b55b-4495-a32f-8b6a0552bc4d div.sk-toggleable {background-color: white;}#sk-2dec8b1c-b55b-4495-a32f-8b6a0552bc4d label.sk-toggleable__label {cursor: pointer;display: block;width: 100%;margin-bottom: 0;padding: 0.3em;box-sizing: border-box;text-align: center;}#sk-2dec8b1c-b55b-4495-a32f-8b6a0552bc4d label.sk-toggleable__label-arrow:before {content: \"▸\";float: left;margin-right: 0.25em;color: #696969;}#sk-2dec8b1c-b55b-4495-a32f-8b6a0552bc4d label.sk-toggleable__label-arrow:hover:before {color: black;}#sk-2dec8b1c-b55b-4495-a32f-8b6a0552bc4d div.sk-estimator:hover label.sk-toggleable__label-arrow:before {color: black;}#sk-2dec8b1c-b55b-4495-a32f-8b6a0552bc4d div.sk-toggleable__content {max-height: 0;max-width: 0;overflow: hidden;text-align: left;background-color: #f0f8ff;}#sk-2dec8b1c-b55b-4495-a32f-8b6a0552bc4d div.sk-toggleable__content pre {margin: 0.2em;color: black;border-radius: 0.25em;background-color: #f0f8ff;}#sk-2dec8b1c-b55b-4495-a32f-8b6a0552bc4d input.sk-toggleable__control:checked~div.sk-toggleable__content {max-height: 200px;max-width: 100%;overflow: auto;}#sk-2dec8b1c-b55b-4495-a32f-8b6a0552bc4d input.sk-toggleable__control:checked~label.sk-toggleable__label-arrow:before {content: \"▾\";}#sk-2dec8b1c-b55b-4495-a32f-8b6a0552bc4d div.sk-estimator input.sk-toggleable__control:checked~label.sk-toggleable__label {background-color: #d4ebff;}#sk-2dec8b1c-b55b-4495-a32f-8b6a0552bc4d div.sk-label input.sk-toggleable__control:checked~label.sk-toggleable__label {background-color: #d4ebff;}#sk-2dec8b1c-b55b-4495-a32f-8b6a0552bc4d input.sk-hidden--visually {border: 0;clip: rect(1px 1px 1px 1px);clip: rect(1px, 1px, 1px, 1px);height: 1px;margin: -1px;overflow: hidden;padding: 0;position: absolute;width: 1px;}#sk-2dec8b1c-b55b-4495-a32f-8b6a0552bc4d div.sk-estimator {font-family: monospace;background-color: #f0f8ff;border: 1px dotted black;border-radius: 0.25em;box-sizing: border-box;margin-bottom: 0.5em;}#sk-2dec8b1c-b55b-4495-a32f-8b6a0552bc4d div.sk-estimator:hover {background-color: #d4ebff;}#sk-2dec8b1c-b55b-4495-a32f-8b6a0552bc4d div.sk-parallel-item::after {content: \"\";width: 100%;border-bottom: 1px solid gray;flex-grow: 1;}#sk-2dec8b1c-b55b-4495-a32f-8b6a0552bc4d div.sk-label:hover label.sk-toggleable__label {background-color: #d4ebff;}#sk-2dec8b1c-b55b-4495-a32f-8b6a0552bc4d div.sk-serial::before {content: \"\";position: absolute;border-left: 1px solid gray;box-sizing: border-box;top: 2em;bottom: 0;left: 50%;}#sk-2dec8b1c-b55b-4495-a32f-8b6a0552bc4d div.sk-serial {display: flex;flex-direction: column;align-items: center;background-color: white;padding-right: 0.2em;padding-left: 0.2em;}#sk-2dec8b1c-b55b-4495-a32f-8b6a0552bc4d div.sk-item {z-index: 1;}#sk-2dec8b1c-b55b-4495-a32f-8b6a0552bc4d div.sk-parallel {display: flex;align-items: stretch;justify-content: center;background-color: white;}#sk-2dec8b1c-b55b-4495-a32f-8b6a0552bc4d div.sk-parallel::before {content: \"\";position: absolute;border-left: 1px solid gray;box-sizing: border-box;top: 2em;bottom: 0;left: 50%;}#sk-2dec8b1c-b55b-4495-a32f-8b6a0552bc4d div.sk-parallel-item {display: flex;flex-direction: column;position: relative;background-color: white;}#sk-2dec8b1c-b55b-4495-a32f-8b6a0552bc4d div.sk-parallel-item:first-child::after {align-self: flex-end;width: 50%;}#sk-2dec8b1c-b55b-4495-a32f-8b6a0552bc4d div.sk-parallel-item:last-child::after {align-self: flex-start;width: 50%;}#sk-2dec8b1c-b55b-4495-a32f-8b6a0552bc4d div.sk-parallel-item:only-child::after {width: 0;}#sk-2dec8b1c-b55b-4495-a32f-8b6a0552bc4d div.sk-dashed-wrapped {border: 1px dashed gray;margin: 0 0.4em 0.5em 0.4em;box-sizing: border-box;padding-bottom: 0.4em;background-color: white;position: relative;}#sk-2dec8b1c-b55b-4495-a32f-8b6a0552bc4d div.sk-label label {font-family: monospace;font-weight: bold;background-color: white;display: inline-block;line-height: 1.2em;}#sk-2dec8b1c-b55b-4495-a32f-8b6a0552bc4d div.sk-label-container {position: relative;z-index: 2;text-align: center;}#sk-2dec8b1c-b55b-4495-a32f-8b6a0552bc4d div.sk-container {/* jupyter's `normalize.less` sets `[hidden] { display: none; }` but bootstrap.min.css set `[hidden] { display: none !important; }` so we also need the `!important` here to be able to override the default hidden behavior on the sphinx rendered scikit-learn.org. See: https://github.com/scikit-learn/scikit-learn/issues/21755 */display: inline-block !important;position: relative;}#sk-2dec8b1c-b55b-4495-a32f-8b6a0552bc4d div.sk-text-repr-fallback {display: none;}</style><div id=\"sk-2dec8b1c-b55b-4495-a32f-8b6a0552bc4d\" class=\"sk-top-container\"><div class=\"sk-text-repr-fallback\"><pre>ColumnTransformer(remainder=&#x27;passthrough&#x27;,\n",
              "                  transformers=[(&#x27;pipeline-1&#x27;,\n",
              "                                 Pipeline(steps=[(&#x27;simpleimputer&#x27;,\n",
              "                                                  SimpleImputer()),\n",
              "                                                 (&#x27;standardscaler&#x27;,\n",
              "                                                  StandardScaler())]),\n",
              "                                 &lt;sklearn.compose._column_transformer.make_column_selector object at 0x7fcc36c29390&gt;),\n",
              "                                (&#x27;pipeline-2&#x27;,\n",
              "                                 Pipeline(steps=[(&#x27;simpleimputer&#x27;,\n",
              "                                                  SimpleImputer(strategy=&#x27;most_frequent&#x27;)),\n",
              "                                                 (&#x27;onehotencoder&#x27;,\n",
              "                                                  OneHotEncoder(handle_unknown=&#x27;ignore&#x27;,\n",
              "                                                                sparse=False))]),\n",
              "                                 &lt;sklearn.compose._column_transformer.make_column_selector object at 0x7fcc368ad110&gt;)])</pre><b>Please rerun this cell to show the HTML repr or trust the notebook.</b></div><div class=\"sk-container\" hidden><div class=\"sk-item sk-dashed-wrapped\"><div class=\"sk-label-container\"><div class=\"sk-label sk-toggleable\"><input class=\"sk-toggleable__control sk-hidden--visually\" id=\"225c9cb6-91df-4815-9436-ec49234d5c1d\" type=\"checkbox\" ><label for=\"225c9cb6-91df-4815-9436-ec49234d5c1d\" class=\"sk-toggleable__label sk-toggleable__label-arrow\">ColumnTransformer</label><div class=\"sk-toggleable__content\"><pre>ColumnTransformer(remainder=&#x27;passthrough&#x27;,\n",
              "                  transformers=[(&#x27;pipeline-1&#x27;,\n",
              "                                 Pipeline(steps=[(&#x27;simpleimputer&#x27;,\n",
              "                                                  SimpleImputer()),\n",
              "                                                 (&#x27;standardscaler&#x27;,\n",
              "                                                  StandardScaler())]),\n",
              "                                 &lt;sklearn.compose._column_transformer.make_column_selector object at 0x7fcc36c29390&gt;),\n",
              "                                (&#x27;pipeline-2&#x27;,\n",
              "                                 Pipeline(steps=[(&#x27;simpleimputer&#x27;,\n",
              "                                                  SimpleImputer(strategy=&#x27;most_frequent&#x27;)),\n",
              "                                                 (&#x27;onehotencoder&#x27;,\n",
              "                                                  OneHotEncoder(handle_unknown=&#x27;ignore&#x27;,\n",
              "                                                                sparse=False))]),\n",
              "                                 &lt;sklearn.compose._column_transformer.make_column_selector object at 0x7fcc368ad110&gt;)])</pre></div></div></div><div class=\"sk-parallel\"><div class=\"sk-parallel-item\"><div class=\"sk-item\"><div class=\"sk-label-container\"><div class=\"sk-label sk-toggleable\"><input class=\"sk-toggleable__control sk-hidden--visually\" id=\"85923cb4-6c06-43ca-bf40-5661868d9f02\" type=\"checkbox\" ><label for=\"85923cb4-6c06-43ca-bf40-5661868d9f02\" class=\"sk-toggleable__label sk-toggleable__label-arrow\">pipeline-1</label><div class=\"sk-toggleable__content\"><pre>&lt;sklearn.compose._column_transformer.make_column_selector object at 0x7fcc36c29390&gt;</pre></div></div></div><div class=\"sk-serial\"><div class=\"sk-item\"><div class=\"sk-serial\"><div class=\"sk-item\"><div class=\"sk-estimator sk-toggleable\"><input class=\"sk-toggleable__control sk-hidden--visually\" id=\"4df17a2a-cc5c-4756-9738-3587fbece821\" type=\"checkbox\" ><label for=\"4df17a2a-cc5c-4756-9738-3587fbece821\" class=\"sk-toggleable__label sk-toggleable__label-arrow\">SimpleImputer</label><div class=\"sk-toggleable__content\"><pre>SimpleImputer()</pre></div></div></div><div class=\"sk-item\"><div class=\"sk-estimator sk-toggleable\"><input class=\"sk-toggleable__control sk-hidden--visually\" id=\"b83b5fc8-88cd-4384-afd5-c79ef0f54636\" type=\"checkbox\" ><label for=\"b83b5fc8-88cd-4384-afd5-c79ef0f54636\" class=\"sk-toggleable__label sk-toggleable__label-arrow\">StandardScaler</label><div class=\"sk-toggleable__content\"><pre>StandardScaler()</pre></div></div></div></div></div></div></div></div><div class=\"sk-parallel-item\"><div class=\"sk-item\"><div class=\"sk-label-container\"><div class=\"sk-label sk-toggleable\"><input class=\"sk-toggleable__control sk-hidden--visually\" id=\"e9c41d0d-1f45-4ea5-83a0-de47029b9384\" type=\"checkbox\" ><label for=\"e9c41d0d-1f45-4ea5-83a0-de47029b9384\" class=\"sk-toggleable__label sk-toggleable__label-arrow\">pipeline-2</label><div class=\"sk-toggleable__content\"><pre>&lt;sklearn.compose._column_transformer.make_column_selector object at 0x7fcc368ad110&gt;</pre></div></div></div><div class=\"sk-serial\"><div class=\"sk-item\"><div class=\"sk-serial\"><div class=\"sk-item\"><div class=\"sk-estimator sk-toggleable\"><input class=\"sk-toggleable__control sk-hidden--visually\" id=\"e3494188-a05a-45d6-9340-0c2b1c35e2c4\" type=\"checkbox\" ><label for=\"e3494188-a05a-45d6-9340-0c2b1c35e2c4\" class=\"sk-toggleable__label sk-toggleable__label-arrow\">SimpleImputer</label><div class=\"sk-toggleable__content\"><pre>SimpleImputer(strategy=&#x27;most_frequent&#x27;)</pre></div></div></div><div class=\"sk-item\"><div class=\"sk-estimator sk-toggleable\"><input class=\"sk-toggleable__control sk-hidden--visually\" id=\"6db28098-32f0-4d78-8ccb-cb7bbe055646\" type=\"checkbox\" ><label for=\"6db28098-32f0-4d78-8ccb-cb7bbe055646\" class=\"sk-toggleable__label sk-toggleable__label-arrow\">OneHotEncoder</label><div class=\"sk-toggleable__content\"><pre>OneHotEncoder(handle_unknown=&#x27;ignore&#x27;, sparse=False)</pre></div></div></div></div></div></div></div></div><div class=\"sk-parallel-item\"><div class=\"sk-item\"><div class=\"sk-label-container\"><div class=\"sk-label sk-toggleable\"><input class=\"sk-toggleable__control sk-hidden--visually\" id=\"dd344e63-06a6-4849-b2ca-3808cb91d95f\" type=\"checkbox\" ><label for=\"dd344e63-06a6-4849-b2ca-3808cb91d95f\" class=\"sk-toggleable__label sk-toggleable__label-arrow\">remainder</label><div class=\"sk-toggleable__content\"><pre></pre></div></div></div><div class=\"sk-serial\"><div class=\"sk-item\"><div class=\"sk-estimator sk-toggleable\"><input class=\"sk-toggleable__control sk-hidden--visually\" id=\"6762fe01-6ed6-452c-bcc0-4a2c5046a7a8\" type=\"checkbox\" ><label for=\"6762fe01-6ed6-452c-bcc0-4a2c5046a7a8\" class=\"sk-toggleable__label sk-toggleable__label-arrow\">passthrough</label><div class=\"sk-toggleable__content\"><pre>passthrough</pre></div></div></div></div></div></div></div></div></div></div>"
            ]
          },
          "metadata": {},
          "execution_count": 77
        }
      ]
    },
    {
      "cell_type": "markdown",
      "source": [
        "Las tuplas lo que hacen es que nuestros transformadores coincidan con los diferentes tipos de datos de nuestras columnas, y haremos uso de esos transformdores a traves de pipelines."
      ],
      "metadata": {
        "id": "D4HGOuTqz7Rp"
      }
    },
    {
      "cell_type": "markdown",
      "source": [
        "10.Transformador de datos"
      ],
      "metadata": {
        "id": "5pSj9MMyYnw5"
      }
    },
    {
      "cell_type": "code",
      "source": [
        "# fit on train\n",
        "preprocessor.fit(X_train)"
      ],
      "metadata": {
        "colab": {
          "base_uri": "https://localhost:8080/",
          "height": 152
        },
        "id": "N5fdGkQEYwz0",
        "outputId": "6766ee3d-7242-4139-f818-3726ff7667cb"
      },
      "execution_count": 78,
      "outputs": [
        {
          "output_type": "execute_result",
          "data": {
            "text/plain": [
              "ColumnTransformer(remainder='passthrough',\n",
              "                  transformers=[('pipeline-1',\n",
              "                                 Pipeline(steps=[('simpleimputer',\n",
              "                                                  SimpleImputer()),\n",
              "                                                 ('standardscaler',\n",
              "                                                  StandardScaler())]),\n",
              "                                 <sklearn.compose._column_transformer.make_column_selector object at 0x7fcc36c29390>),\n",
              "                                ('pipeline-2',\n",
              "                                 Pipeline(steps=[('simpleimputer',\n",
              "                                                  SimpleImputer(strategy='most_frequent')),\n",
              "                                                 ('onehotencoder',\n",
              "                                                  OneHotEncoder(handle_unknown='ignore',\n",
              "                                                                sparse=False))]),\n",
              "                                 <sklearn.compose._column_transformer.make_column_selector object at 0x7fcc368ad110>)])"
            ],
            "text/html": [
              "<style>#sk-a309f008-a9ae-4f1c-95ac-356d8735049d {color: black;background-color: white;}#sk-a309f008-a9ae-4f1c-95ac-356d8735049d pre{padding: 0;}#sk-a309f008-a9ae-4f1c-95ac-356d8735049d div.sk-toggleable {background-color: white;}#sk-a309f008-a9ae-4f1c-95ac-356d8735049d label.sk-toggleable__label {cursor: pointer;display: block;width: 100%;margin-bottom: 0;padding: 0.3em;box-sizing: border-box;text-align: center;}#sk-a309f008-a9ae-4f1c-95ac-356d8735049d label.sk-toggleable__label-arrow:before {content: \"▸\";float: left;margin-right: 0.25em;color: #696969;}#sk-a309f008-a9ae-4f1c-95ac-356d8735049d label.sk-toggleable__label-arrow:hover:before {color: black;}#sk-a309f008-a9ae-4f1c-95ac-356d8735049d div.sk-estimator:hover label.sk-toggleable__label-arrow:before {color: black;}#sk-a309f008-a9ae-4f1c-95ac-356d8735049d div.sk-toggleable__content {max-height: 0;max-width: 0;overflow: hidden;text-align: left;background-color: #f0f8ff;}#sk-a309f008-a9ae-4f1c-95ac-356d8735049d div.sk-toggleable__content pre {margin: 0.2em;color: black;border-radius: 0.25em;background-color: #f0f8ff;}#sk-a309f008-a9ae-4f1c-95ac-356d8735049d input.sk-toggleable__control:checked~div.sk-toggleable__content {max-height: 200px;max-width: 100%;overflow: auto;}#sk-a309f008-a9ae-4f1c-95ac-356d8735049d input.sk-toggleable__control:checked~label.sk-toggleable__label-arrow:before {content: \"▾\";}#sk-a309f008-a9ae-4f1c-95ac-356d8735049d div.sk-estimator input.sk-toggleable__control:checked~label.sk-toggleable__label {background-color: #d4ebff;}#sk-a309f008-a9ae-4f1c-95ac-356d8735049d div.sk-label input.sk-toggleable__control:checked~label.sk-toggleable__label {background-color: #d4ebff;}#sk-a309f008-a9ae-4f1c-95ac-356d8735049d input.sk-hidden--visually {border: 0;clip: rect(1px 1px 1px 1px);clip: rect(1px, 1px, 1px, 1px);height: 1px;margin: -1px;overflow: hidden;padding: 0;position: absolute;width: 1px;}#sk-a309f008-a9ae-4f1c-95ac-356d8735049d div.sk-estimator {font-family: monospace;background-color: #f0f8ff;border: 1px dotted black;border-radius: 0.25em;box-sizing: border-box;margin-bottom: 0.5em;}#sk-a309f008-a9ae-4f1c-95ac-356d8735049d div.sk-estimator:hover {background-color: #d4ebff;}#sk-a309f008-a9ae-4f1c-95ac-356d8735049d div.sk-parallel-item::after {content: \"\";width: 100%;border-bottom: 1px solid gray;flex-grow: 1;}#sk-a309f008-a9ae-4f1c-95ac-356d8735049d div.sk-label:hover label.sk-toggleable__label {background-color: #d4ebff;}#sk-a309f008-a9ae-4f1c-95ac-356d8735049d div.sk-serial::before {content: \"\";position: absolute;border-left: 1px solid gray;box-sizing: border-box;top: 2em;bottom: 0;left: 50%;}#sk-a309f008-a9ae-4f1c-95ac-356d8735049d div.sk-serial {display: flex;flex-direction: column;align-items: center;background-color: white;padding-right: 0.2em;padding-left: 0.2em;}#sk-a309f008-a9ae-4f1c-95ac-356d8735049d div.sk-item {z-index: 1;}#sk-a309f008-a9ae-4f1c-95ac-356d8735049d div.sk-parallel {display: flex;align-items: stretch;justify-content: center;background-color: white;}#sk-a309f008-a9ae-4f1c-95ac-356d8735049d div.sk-parallel::before {content: \"\";position: absolute;border-left: 1px solid gray;box-sizing: border-box;top: 2em;bottom: 0;left: 50%;}#sk-a309f008-a9ae-4f1c-95ac-356d8735049d div.sk-parallel-item {display: flex;flex-direction: column;position: relative;background-color: white;}#sk-a309f008-a9ae-4f1c-95ac-356d8735049d div.sk-parallel-item:first-child::after {align-self: flex-end;width: 50%;}#sk-a309f008-a9ae-4f1c-95ac-356d8735049d div.sk-parallel-item:last-child::after {align-self: flex-start;width: 50%;}#sk-a309f008-a9ae-4f1c-95ac-356d8735049d div.sk-parallel-item:only-child::after {width: 0;}#sk-a309f008-a9ae-4f1c-95ac-356d8735049d div.sk-dashed-wrapped {border: 1px dashed gray;margin: 0 0.4em 0.5em 0.4em;box-sizing: border-box;padding-bottom: 0.4em;background-color: white;position: relative;}#sk-a309f008-a9ae-4f1c-95ac-356d8735049d div.sk-label label {font-family: monospace;font-weight: bold;background-color: white;display: inline-block;line-height: 1.2em;}#sk-a309f008-a9ae-4f1c-95ac-356d8735049d div.sk-label-container {position: relative;z-index: 2;text-align: center;}#sk-a309f008-a9ae-4f1c-95ac-356d8735049d div.sk-container {/* jupyter's `normalize.less` sets `[hidden] { display: none; }` but bootstrap.min.css set `[hidden] { display: none !important; }` so we also need the `!important` here to be able to override the default hidden behavior on the sphinx rendered scikit-learn.org. See: https://github.com/scikit-learn/scikit-learn/issues/21755 */display: inline-block !important;position: relative;}#sk-a309f008-a9ae-4f1c-95ac-356d8735049d div.sk-text-repr-fallback {display: none;}</style><div id=\"sk-a309f008-a9ae-4f1c-95ac-356d8735049d\" class=\"sk-top-container\"><div class=\"sk-text-repr-fallback\"><pre>ColumnTransformer(remainder=&#x27;passthrough&#x27;,\n",
              "                  transformers=[(&#x27;pipeline-1&#x27;,\n",
              "                                 Pipeline(steps=[(&#x27;simpleimputer&#x27;,\n",
              "                                                  SimpleImputer()),\n",
              "                                                 (&#x27;standardscaler&#x27;,\n",
              "                                                  StandardScaler())]),\n",
              "                                 &lt;sklearn.compose._column_transformer.make_column_selector object at 0x7fcc36c29390&gt;),\n",
              "                                (&#x27;pipeline-2&#x27;,\n",
              "                                 Pipeline(steps=[(&#x27;simpleimputer&#x27;,\n",
              "                                                  SimpleImputer(strategy=&#x27;most_frequent&#x27;)),\n",
              "                                                 (&#x27;onehotencoder&#x27;,\n",
              "                                                  OneHotEncoder(handle_unknown=&#x27;ignore&#x27;,\n",
              "                                                                sparse=False))]),\n",
              "                                 &lt;sklearn.compose._column_transformer.make_column_selector object at 0x7fcc368ad110&gt;)])</pre><b>Please rerun this cell to show the HTML repr or trust the notebook.</b></div><div class=\"sk-container\" hidden><div class=\"sk-item sk-dashed-wrapped\"><div class=\"sk-label-container\"><div class=\"sk-label sk-toggleable\"><input class=\"sk-toggleable__control sk-hidden--visually\" id=\"c2af90a3-371f-45ad-980b-367158f36fc0\" type=\"checkbox\" ><label for=\"c2af90a3-371f-45ad-980b-367158f36fc0\" class=\"sk-toggleable__label sk-toggleable__label-arrow\">ColumnTransformer</label><div class=\"sk-toggleable__content\"><pre>ColumnTransformer(remainder=&#x27;passthrough&#x27;,\n",
              "                  transformers=[(&#x27;pipeline-1&#x27;,\n",
              "                                 Pipeline(steps=[(&#x27;simpleimputer&#x27;,\n",
              "                                                  SimpleImputer()),\n",
              "                                                 (&#x27;standardscaler&#x27;,\n",
              "                                                  StandardScaler())]),\n",
              "                                 &lt;sklearn.compose._column_transformer.make_column_selector object at 0x7fcc36c29390&gt;),\n",
              "                                (&#x27;pipeline-2&#x27;,\n",
              "                                 Pipeline(steps=[(&#x27;simpleimputer&#x27;,\n",
              "                                                  SimpleImputer(strategy=&#x27;most_frequent&#x27;)),\n",
              "                                                 (&#x27;onehotencoder&#x27;,\n",
              "                                                  OneHotEncoder(handle_unknown=&#x27;ignore&#x27;,\n",
              "                                                                sparse=False))]),\n",
              "                                 &lt;sklearn.compose._column_transformer.make_column_selector object at 0x7fcc368ad110&gt;)])</pre></div></div></div><div class=\"sk-parallel\"><div class=\"sk-parallel-item\"><div class=\"sk-item\"><div class=\"sk-label-container\"><div class=\"sk-label sk-toggleable\"><input class=\"sk-toggleable__control sk-hidden--visually\" id=\"7e18652a-11e5-4350-95e3-9d558d5fc334\" type=\"checkbox\" ><label for=\"7e18652a-11e5-4350-95e3-9d558d5fc334\" class=\"sk-toggleable__label sk-toggleable__label-arrow\">pipeline-1</label><div class=\"sk-toggleable__content\"><pre>&lt;sklearn.compose._column_transformer.make_column_selector object at 0x7fcc36c29390&gt;</pre></div></div></div><div class=\"sk-serial\"><div class=\"sk-item\"><div class=\"sk-serial\"><div class=\"sk-item\"><div class=\"sk-estimator sk-toggleable\"><input class=\"sk-toggleable__control sk-hidden--visually\" id=\"5a9e7aa4-cc3e-4652-b540-8f91ba82262c\" type=\"checkbox\" ><label for=\"5a9e7aa4-cc3e-4652-b540-8f91ba82262c\" class=\"sk-toggleable__label sk-toggleable__label-arrow\">SimpleImputer</label><div class=\"sk-toggleable__content\"><pre>SimpleImputer()</pre></div></div></div><div class=\"sk-item\"><div class=\"sk-estimator sk-toggleable\"><input class=\"sk-toggleable__control sk-hidden--visually\" id=\"b296bc5d-a14a-401b-bf4e-03a80d4e77a2\" type=\"checkbox\" ><label for=\"b296bc5d-a14a-401b-bf4e-03a80d4e77a2\" class=\"sk-toggleable__label sk-toggleable__label-arrow\">StandardScaler</label><div class=\"sk-toggleable__content\"><pre>StandardScaler()</pre></div></div></div></div></div></div></div></div><div class=\"sk-parallel-item\"><div class=\"sk-item\"><div class=\"sk-label-container\"><div class=\"sk-label sk-toggleable\"><input class=\"sk-toggleable__control sk-hidden--visually\" id=\"d28e9965-e843-4461-ad72-95183cd1b185\" type=\"checkbox\" ><label for=\"d28e9965-e843-4461-ad72-95183cd1b185\" class=\"sk-toggleable__label sk-toggleable__label-arrow\">pipeline-2</label><div class=\"sk-toggleable__content\"><pre>&lt;sklearn.compose._column_transformer.make_column_selector object at 0x7fcc368ad110&gt;</pre></div></div></div><div class=\"sk-serial\"><div class=\"sk-item\"><div class=\"sk-serial\"><div class=\"sk-item\"><div class=\"sk-estimator sk-toggleable\"><input class=\"sk-toggleable__control sk-hidden--visually\" id=\"5d546da0-cb71-4d74-a3b3-e66d1f607ab0\" type=\"checkbox\" ><label for=\"5d546da0-cb71-4d74-a3b3-e66d1f607ab0\" class=\"sk-toggleable__label sk-toggleable__label-arrow\">SimpleImputer</label><div class=\"sk-toggleable__content\"><pre>SimpleImputer(strategy=&#x27;most_frequent&#x27;)</pre></div></div></div><div class=\"sk-item\"><div class=\"sk-estimator sk-toggleable\"><input class=\"sk-toggleable__control sk-hidden--visually\" id=\"3c89c41a-b095-4c88-a6c5-d8da9e4431d2\" type=\"checkbox\" ><label for=\"3c89c41a-b095-4c88-a6c5-d8da9e4431d2\" class=\"sk-toggleable__label sk-toggleable__label-arrow\">OneHotEncoder</label><div class=\"sk-toggleable__content\"><pre>OneHotEncoder(handle_unknown=&#x27;ignore&#x27;, sparse=False)</pre></div></div></div></div></div></div></div></div><div class=\"sk-parallel-item\"><div class=\"sk-item\"><div class=\"sk-label-container\"><div class=\"sk-label sk-toggleable\"><input class=\"sk-toggleable__control sk-hidden--visually\" id=\"d6709b1f-40dd-4b09-a986-5fe6129aeaa8\" type=\"checkbox\" ><label for=\"d6709b1f-40dd-4b09-a986-5fe6129aeaa8\" class=\"sk-toggleable__label sk-toggleable__label-arrow\">remainder</label><div class=\"sk-toggleable__content\"><pre>[]</pre></div></div></div><div class=\"sk-serial\"><div class=\"sk-item\"><div class=\"sk-estimator sk-toggleable\"><input class=\"sk-toggleable__control sk-hidden--visually\" id=\"a330b217-efa2-479b-acc7-b555f584574c\" type=\"checkbox\" ><label for=\"a330b217-efa2-479b-acc7-b555f584574c\" class=\"sk-toggleable__label sk-toggleable__label-arrow\">passthrough</label><div class=\"sk-toggleable__content\"><pre>passthrough</pre></div></div></div></div></div></div></div></div></div></div>"
            ]
          },
          "metadata": {},
          "execution_count": 78
        }
      ]
    },
    {
      "cell_type": "markdown",
      "source": [
        "El codigo anterior nos permite ajustar el column transformer en nuestro espacio de entrenamiento, ajustando nuestros transformadores dentro del COLUMN TRANSFORMER."
      ],
      "metadata": {
        "id": "PeCqNN5-0S9x"
      }
    },
    {
      "cell_type": "code",
      "source": [
        "# Transformar datos de entrenamiento y de prueba\n",
        "X_train_processed = preprocessor.transform(X_train)\n",
        "X_test_processed = preprocessor.transform(X_test)"
      ],
      "metadata": {
        "id": "eCNIq1tjYnFt"
      },
      "execution_count": 79,
      "outputs": []
    },
    {
      "cell_type": "markdown",
      "source": [
        "11.Inspeccionar el resultado"
      ],
      "metadata": {
        "id": "5FMhCkdk1FKf"
      }
    },
    {
      "cell_type": "code",
      "source": [
        "print(np.isnan(X_train_processed).sum().sum(), 'valores faltantes en datos de entrenamiento')\n",
        "print(np.isnan(X_test_processed).sum().sum(), 'valores faltantes en datos de prueba')\n",
        "print('\\n')\n",
        "print('Toda la data en X_train_processed es', X_train_processed.dtype)\n",
        "print('Toda la data en X_test_processed es', X_test_processed.dtype)\n",
        "print('\\n')\n",
        "print('shape de la data es', X_train_processed.shape)\n",
        "print('\\n')\n",
        "X_train_processed"
      ],
      "metadata": {
        "colab": {
          "base_uri": "https://localhost:8080/"
        },
        "id": "AmwCjaX51JUZ",
        "outputId": "2e99fbb1-84ca-4e4e-a113-7155d0af33d5"
      },
      "execution_count": 80,
      "outputs": [
        {
          "output_type": "stream",
          "name": "stdout",
          "text": [
            "0 valores faltantes en datos de entrenamiento\n",
            "0 valores faltantes en datos de prueba\n",
            "\n",
            "\n",
            "Toda la data en X_train_processed es float64\n",
            "Toda la data en X_test_processed es float64\n",
            "\n",
            "\n",
            "shape de la data es (6392, 1591)\n",
            "\n",
            "\n"
          ]
        },
        {
          "output_type": "execute_result",
          "data": {
            "text/plain": [
              "array([[ 0.81724868,  0.7403206 , -0.71277507, ...,  0.        ,\n",
              "         1.        ,  0.        ],\n",
              "       [ 0.5563395 , -1.35076614, -1.29105225, ...,  0.        ,\n",
              "         1.        ,  0.        ],\n",
              "       [-0.13151196, -1.35076614,  1.81331864, ...,  1.        ,\n",
              "         0.        ,  0.        ],\n",
              "       ...,\n",
              "       [ 1.11373638,  0.7403206 , -0.92052713, ...,  1.        ,\n",
              "         0.        ,  0.        ],\n",
              "       [ 1.76600931,  0.7403206 , -0.2277552 , ...,  1.        ,\n",
              "         0.        ,  0.        ],\n",
              "       [ 0.81724868,  0.7403206 , -0.95867683, ...,  1.        ,\n",
              "         0.        ,  0.        ]])"
            ]
          },
          "metadata": {},
          "execution_count": 80
        }
      ]
    },
    {
      "cell_type": "markdown",
      "source": [
        "Como podemos leerlo en el array de numpy arrojado, no hay valores faltantes, todos los datos son de tipo numerico flotante y despues del one hot coder tenemos mas columnas que al inicio, ahora tenemos 1591 vs 12 columnas iniciales, todas fueron escaladas.\n",
        "\n",
        "\n",
        "Realizamos varias tranformaciones en un solo paso de transformacion, acortando el codigo."
      ],
      "metadata": {
        "id": "qmQP6ARE1oZl"
      }
    }
  ]
}